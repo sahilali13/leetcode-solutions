{
 "cells": [
  {
   "cell_type": "markdown",
   "metadata": {},
   "source": [
    "## Reverse String\n",
    "\n",
    "    Write a function that reverses a string. The input string is given as an array of characters s.\n",
    "\n",
    "    You must do this by modifying the input array in-place with O(1) extra memory.\n"
   ]
  },
  {
   "cell_type": "code",
   "execution_count": null,
   "metadata": {},
   "outputs": [],
   "source": [
    "class Solution:\n",
    "    def reverseString(self, s: list[str]) -> None:\n",
    "        \"\"\"\n",
    "        Do not return anything, modify s in-place instead.\n",
    "        \"\"\"\n",
    "        leftPointer, rightPointer = 0, len(s) - 1\n",
    "        while leftPointer < rightPointer:\n",
    "            s[leftPointer], s[rightPointer] = s[rightPointer], s[leftPointer]\n",
    "            leftPointer += 1\n",
    "            rightPointer -= 1\n",
    "        \n",
    "        del leftPointer, rightPointer\n",
    "        \n",
    "if __name__ == '__main__':\n",
    "    sol = Solution()\n",
    "    s = [\"h\",\"e\",\"l\",\"l\",\"o\"]\n",
    "    # s = [\"H\",\"a\",\"n\",\"n\",\"a\",\"h\"]\n",
    "    sol.reverseString(s = s)\n",
    "    print(s)"
   ]
  },
  {
   "cell_type": "markdown",
   "metadata": {},
   "source": [
    "## Reverse Integer\n",
    "\n",
    "    Given a signed 32-bit integer x, return x with its digits reversed. If reversing x causes the value to go outside the signed 32-bit integer range [-231, 231 - 1], then return 0.\n",
    "\n",
    "    Assume the environment does not allow you to store 64-bit integers (signed or unsigned).\n"
   ]
  },
  {
   "cell_type": "code",
   "execution_count": null,
   "metadata": {},
   "outputs": [],
   "source": [
    "class Solution:\n",
    "    def reverse(self, x: int) -> int:\n",
    "        ans = 0\n",
    "\n",
    "        sign = -1 if x < 0 else 1\n",
    "\n",
    "        temp = sign * x\n",
    "\n",
    "        while temp:\n",
    "            ans = (ans * 10) + (temp % 10)\n",
    "            temp //= 10\n",
    "        \n",
    "        del temp\n",
    "\n",
    "        return ans * sign if ans.bit_length() < 32 else 0\n",
    "\n",
    "if __name__ == '__main__':\n",
    "    sol = Solution()\n",
    "    x = [123, -123, 120 , 1563847412]\n",
    "    for _ in x:\n",
    "        print(sol.reverse(x = _))"
   ]
  },
  {
   "cell_type": "markdown",
   "metadata": {},
   "source": [
    "## First Unique Character in a String\n",
    "\n",
    "    Given a string s, find the first non-repeating character in it and return its index. If it does not exist, return -1.\n"
   ]
  },
  {
   "cell_type": "code",
   "execution_count": null,
   "metadata": {},
   "outputs": [],
   "source": [
    "from collections import defaultdict\n",
    "\n",
    "class Solution:\n",
    "    def firstUniqChar(self, s: str) -> int:\n",
    "        dict = defaultdict()\n",
    "        for index in range(len(s)):\n",
    "            if s[index] in dict:\n",
    "                continue\n",
    "            else:\n",
    "                count = s.count(s[index])\n",
    "                if count == 1:\n",
    "                    del dict\n",
    "                    return index\n",
    "                else:\n",
    "                    dict[s[index]] = count\n",
    "        del dict\n",
    "        return -1\n",
    "        \n",
    "if __name__ == '__main__':\n",
    "    sol = Solution()\n",
    "\n",
    "    testCases = [\"leetcode\", 'loveleetcode', 'aabb']\n",
    "    \n",
    "    for case in testCases:\n",
    "        print(sol.firstUniqChar(s = case))"
   ]
  },
  {
   "cell_type": "markdown",
   "metadata": {},
   "source": [
    "## Valid Anagram\n",
    "\n",
    "    Given two strings s and t, return true if t is an anagram of s, and false otherwise.\n",
    "\n",
    "    An Anagram is a word or phrase formed by rearranging the letters of a different word or phrase, typically using all the original letters exactly once.\n"
   ]
  },
  {
   "cell_type": "code",
   "execution_count": null,
   "metadata": {},
   "outputs": [],
   "source": [
    "class Solution:\n",
    "    def isAnagram(self, s: str, t: str) -> bool:\n",
    "\n",
    "        if len(s) != len(t):\n",
    "           return False\n",
    "        \n",
    "        temp = set(s)\n",
    "\n",
    "        for chr in temp:\n",
    "            if s.count(chr) != t.count(chr):\n",
    "                del temp, chr\n",
    "                return False\n",
    "        \n",
    "        del temp\n",
    "        return True\n",
    "       \n",
    "if __name__ == '__main__':\n",
    "    sol = Solution()\n",
    "\n",
    "    testCases = [[\"anagram\", \"nagaram\"],\n",
    "                 [\"rat\", \"car\"]]\n",
    "    \n",
    "    for case in testCases:\n",
    "        print(sol.isAnagram(s = case[0], t = case[1]))"
   ]
  },
  {
   "cell_type": "markdown",
   "metadata": {},
   "source": [
    "## Valid Palindrome\n",
    "\n",
    "    A phrase is a palindrome if, after converting all uppercase letters into lowercase letters and removing all non-alphanumeric characters, it reads the same forward and backward. Alphanumeric characters include letters and numbers.\n",
    "\n",
    "    Given a string s, return true if it is a palindrome, or false otherwise\n"
   ]
  },
  {
   "cell_type": "code",
   "execution_count": null,
   "metadata": {},
   "outputs": [],
   "source": [
    "import re\n",
    "\n",
    "class Solution:\n",
    "    \n",
    "    def isPalindrome(self, s: str) -> bool:\n",
    "        if len(s) == 0:\n",
    "            return True\n",
    "        \n",
    "        s = re.sub(r'[\\W_]', '', s.lower())\n",
    "        \n",
    "        return s == s[:: -1]\n",
    "\n",
    "if __name__ == '__main__':\n",
    "    sol = Solution()\n",
    "\n",
    "    testCases = ['A man, a plan, a canal: Panama',\n",
    "                 \"race a car\",\n",
    "                 \"ab_a\"]\n",
    "    \n",
    "    for case in testCases:\n",
    "        print(sol.isPalindrome(s = case))"
   ]
  },
  {
   "cell_type": "markdown",
   "metadata": {},
   "source": [
    "## String to Integer (atoi)\n",
    "\n",
    "    Implement the myAtoi(string s) function, which converts a string to a 32-bit signed integer (similar to C/C++'s atoi function).\n",
    "\n",
    "    The algorithm for myAtoi(string s) is as follows:\n",
    "\n",
    "    1) Read in and ignore any leading whitespace.\n",
    "    2) Check if the next character (if not already at the end of the string) is '-' or '+'. Read this character in if it is either. This determines if the final result is negative or positive respectively. Assume the result is positive if neither is present.\n",
    "    3) Read in next the characters until the next non-digit character or the end of the input is reached. The rest of the string is ignored.\n",
    "    Convert these digits into an integer (i.e. \"123\" -> 123, \"0032\" -> 32). If no digits were read, then the integer is 0. Change the sign as necessary (from step 2).\n",
    "    4) If the integer is out of the 32-bit signed integer range [-231, 231 - 1], then clamp the integer so that it remains in the range. Specifically, integers less than -231 should be clamped to -231, and integers greater than 231 - 1 should be clamped to 231 - 1.\n",
    "    5) Return the integer as the final result.\n",
    "\n",
    "    Note:\n",
    "\n",
    "    Only the space character ' ' is considered a whitespace character.\n",
    "    Do not ignore any characters other than the leading whitespace or the rest of the string after the digits.\n"
   ]
  },
  {
   "cell_type": "code",
   "execution_count": null,
   "metadata": {},
   "outputs": [],
   "source": [
    "class Solution:\n",
    "    def myAtoi(self, s: str) -> int:\n",
    "        s = s.lstrip()\n",
    "\n",
    "        if not s:\n",
    "            return 0\n",
    "        \n",
    "        sign, ans = 1, 0\n",
    "\n",
    "        if s[0] == '+' or s[0] == '-':\n",
    "            if s[0] == '-':\n",
    "                sign = -1\n",
    "            s = s[1:]\n",
    "        \n",
    "        for chr in s:\n",
    "            if chr.isdigit():\n",
    "                ans = 10 * ans + int(chr)\n",
    "            else:\n",
    "                break\n",
    "        \n",
    "        ans *= sign\n",
    "\n",
    "        if ans < -2 ** 31:\n",
    "            ans = -2 ** 31\n",
    "        elif ans > 2 ** 31 - 1:\n",
    "            ans = 2 ** 31 - 1\n",
    "        \n",
    "        del sign\n",
    "        return  ans\n",
    "             \n",
    "if __name__ == '__main__':\n",
    "    sol = Solution()\n",
    "\n",
    "    testCases = [\"42\",\n",
    "                 \"   -42\",\n",
    "                 \"4193 with words\",\n",
    "                 \"-91283472332\"]\n",
    "                 \n",
    "    \n",
    "    for case in testCases:\n",
    "        print(sol.myAtoi(s = case))"
   ]
  },
  {
   "cell_type": "markdown",
   "metadata": {},
   "source": [
    "## Implement strStr()\n",
    "\n",
    "    Given two strings needle and haystack, return the index of the first occurrence of needle in haystack, or -1 if needle is not part of haystack.\n"
   ]
  },
  {
   "cell_type": "code",
   "execution_count": null,
   "metadata": {},
   "outputs": [],
   "source": [
    "class Solution:\n",
    "    def strStr(self, haystack: str, needle: str) -> int:\n",
    "        return haystack.find(needle)\n",
    "    \n",
    "if __name__ == '__main__':\n",
    "    sol = Solution()\n",
    "\n",
    "    cases = [['sadbutsad', 'sad'],\n",
    "             ['leetcode', 'leeto']]\n",
    "    \n",
    "    for case in cases:\n",
    "        print(sol.strStr(haystack = case[0], needle = case[1]))"
   ]
  },
  {
   "cell_type": "markdown",
   "metadata": {},
   "source": [
    "## Longest Common Prefix\n",
    "\n",
    "    Write a function to find the longest common prefix string amongst an array of strings.\n",
    "\n",
    "    If there is no common prefix, return an empty string \"\".\n"
   ]
  },
  {
   "cell_type": "code",
   "execution_count": null,
   "metadata": {},
   "outputs": [],
   "source": [
    "class Solution:\n",
    "    def longestCommonPrefix(self, strs: list[str]) -> str:\n",
    "        if len(strs) == 1:\n",
    "            return strs[0]\n",
    "        \n",
    "        strs.sort()\n",
    "\n",
    "        pointer = 0\n",
    "\n",
    "        while pointer < len(strs[0]):\n",
    "            if strs[0][pointer] == strs[len(strs) - 1][pointer]:\n",
    "                pointer += 1\n",
    "            else:\n",
    "                break\n",
    "\n",
    "        if pointer == 0:\n",
    "            return '' \n",
    "        \n",
    "        return strs[0][:pointer]\n",
    "\n",
    "\n",
    "if __name__ == '__main__':\n",
    "    sol = Solution()\n",
    "\n",
    "    cases = [[\"flower\",\"flow\",\"flight\"],\n",
    "             [\"dog\",\"racecar\",\"car\"]]\n",
    "    \n",
    "    for case in cases:\n",
    "        print(sol.longestCommonPrefix(strs = case))\n",
    "        "
   ]
  }
 ],
 "metadata": {
  "kernelspec": {
   "display_name": "Python 3",
   "language": "python",
   "name": "python3"
  },
  "language_info": {
   "codemirror_mode": {
    "name": "ipython",
    "version": 3
   },
   "file_extension": ".py",
   "mimetype": "text/x-python",
   "name": "python",
   "nbconvert_exporter": "python",
   "pygments_lexer": "ipython3",
   "version": "3.12.2"
  }
 },
 "nbformat": 4,
 "nbformat_minor": 2
}
