{
 "cells": [
  {
   "cell_type": "markdown",
   "metadata": {},
   "source": [
    "## Merge Sorted Array\n",
    "\n",
    "    You are given two integer arrays nums1 and nums2, sorted in non-decreasing order, and two integers m and n, representing the number of elements in nums1 and nums2 respectively.\n",
    "\n",
    "    Merge nums1 and nums2 into a single array sorted in non-decreasing order.\n",
    "\n",
    "    The final sorted array should not be returned by the function, but instead be stored inside the array nums1. To accommodate this, nums1 has a length of m + n, where the first m elements denote the elements that should be merged, and the last n elements are set to 0 and should be ignored. nums2 has a length of n.\n"
   ]
  },
  {
   "cell_type": "code",
   "execution_count": null,
   "metadata": {},
   "outputs": [],
   "source": [
    "class Solution:\n",
    "    def merge(self, nums1: list[int], m: int, nums2: list[int], n: int) -> None:\n",
    "        \"\"\"\n",
    "        Do not return anything, modify nums1 in-place instead.\n",
    "        \"\"\"\n",
    "        i, j, k = m - 1, n - 1, m + n - 1\n",
    "        while i >= 0 and j >= 0:\n",
    "            if nums1[i] > nums2[j]:\n",
    "                nums1[k] = nums1[i]\n",
    "                k -= 1\n",
    "                i -= 1\n",
    "            else:\n",
    "                nums1[k] = nums2[j]\n",
    "                k -= 1\n",
    "                j -= 1\n",
    "        while j >= 0:\n",
    "            nums1[k] = nums2[j]\n",
    "            k -= 1\n",
    "            j -= 1 \n",
    "\n",
    "if __name__ == '__main__':\n",
    "    sol = Solution()\n",
    "    cases = [([1,2,3,0,0,0], 3, [2,5,6] , 3),\n",
    "            ([1], 1, [], 0),\n",
    "            ([0], 0, [1], 1),\n",
    "            ([1,0], 1, [2], 1),\n",
    "            ([4,5,6,0,0,0], 3, [1,2,3], 3),\n",
    "            ([4,0,0,0,0,0], 1, [1,2,3,5,6], 5)]\n",
    "    for case in cases:\n",
    "        sol.merge(nums1 = case[0], nums2 = case[2], m = case[1], n = case[3])\n",
    "        print(case[0])\n",
    "        "
   ]
  },
  {
   "cell_type": "markdown",
   "metadata": {},
   "source": [
    "## First Bad Version\n",
    "\n",
    "    You are a product manager and currently leading a team to develop a new product. Unfortunately, the latest version of your product fails the quality check. Since each version is developed based on the previous version, all the versions after a bad version are also bad.\n",
    "\n",
    "    Suppose you have n versions [1, 2, ..., n] and you want to find out the first bad one, which causes all the following ones to be bad.\n",
    "\n",
    "    You are given an API bool isBadVersion(version) which returns whether version is bad. Implement a function to find the first bad version. You should minimize the number of calls to the API.\n"
   ]
  },
  {
   "cell_type": "code",
   "execution_count": 34,
   "metadata": {},
   "outputs": [
    {
     "name": "stdout",
     "output_type": "stream",
     "text": [
      "4\n",
      "1\n"
     ]
    }
   ],
   "source": [
    "def isBadVersion(version: int, n: int) -> bool:\n",
    "    if version >= n:\n",
    "        return True\n",
    "    return False\n",
    "    \n",
    "class Solution:\n",
    "    def isBadVersion(self, version: int, n: int) -> bool:\n",
    "        if version >= n:\n",
    "            return True\n",
    "        return False\n",
    "\n",
    "    def firstBadVersion(self, n: int, bad_start: int) -> int:\n",
    "        ans, start, end = 0, 0, n\n",
    "        while start <= end:\n",
    "            mid = start + ((end - start) // 2)\n",
    "            if self.isBadVersion(version = mid, n = bad_start):\n",
    "                ans = mid\n",
    "                end = mid - 1\n",
    "            else:\n",
    "                start = mid + 1\n",
    "        return ans\n",
    "\n",
    "        \n",
    "if __name__ == '__main__':\n",
    "    sol = Solution()\n",
    "    cases = [(5, 4), \n",
    "             (1, 1)]\n",
    "    for case in cases:\n",
    "        print(sol.firstBadVersion(n = case[0], bad_start = case[1]))\n",
    "    \n"
   ]
  }
 ],
 "metadata": {
  "kernelspec": {
   "display_name": "Python 3",
   "language": "python",
   "name": "python3"
  },
  "language_info": {
   "codemirror_mode": {
    "name": "ipython",
    "version": 3
   },
   "file_extension": ".py",
   "mimetype": "text/x-python",
   "name": "python",
   "nbconvert_exporter": "python",
   "pygments_lexer": "ipython3",
   "version": "3.12.2"
  }
 },
 "nbformat": 4,
 "nbformat_minor": 2
}
