{
 "cells": [
  {
   "cell_type": "markdown",
   "metadata": {},
   "source": [
    "## Number of 1 Bits\n",
    "\n",
    "    Write a function that takes the binary representation of a positive integer and returns the number of set bits it has (also known as the Hamming weight).\n"
   ]
  },
  {
   "cell_type": "code",
   "execution_count": null,
   "metadata": {},
   "outputs": [],
   "source": [
    "class Solution:\n",
    "    def hammingWeight(self, n: int) -> int:\n",
    "        return n.bit_count()\n",
    "                \n",
    "if __name__ == '__main__':\n",
    "    sol = Solution()\n",
    "    cases = [11, 128, 2147483645]\n",
    "    for case in cases:\n",
    "        print(sol.hammingWeight(n = case))"
   ]
  },
  {
   "cell_type": "markdown",
   "metadata": {},
   "source": [
    "## Hamming Distance\n",
    "\n",
    "    The Hamming distance between two integers is the number of positions at which the corresponding bits are different.\n",
    "\n",
    "    Given two integers x and y, return the Hamming distance between them.\n"
   ]
  },
  {
   "cell_type": "code",
   "execution_count": null,
   "metadata": {},
   "outputs": [],
   "source": [
    "class Solution:\n",
    "    def hammingDistance(self, x: int, y: int) -> int:\n",
    "        return (x ^ y).bit_count()\n",
    "                \n",
    "if __name__ == '__main__':\n",
    "    sol = Solution()\n",
    "    cases = [(1, 4),\n",
    "             (3, 1)]\n",
    "    for case in cases:\n",
    "        print(sol.hammingDistance(x = case[0], y = case[1]))"
   ]
  },
  {
   "cell_type": "markdown",
   "metadata": {},
   "source": [
    "## Reverse Bits\n",
    "\n",
    "    Reverse bits of a given 32 bits unsigned integer.\n"
   ]
  },
  {
   "cell_type": "code",
   "execution_count": null,
   "metadata": {},
   "outputs": [],
   "source": [
    "class Solution:\n",
    "   def reverseBits(self, n: int) -> int:\n",
    "        ans = 0\n",
    "        for i in range(32):\n",
    "            if n >> i & 1:\n",
    "                ans |= 1 << 31 - i\n",
    "        return ans\n",
    "          \n",
    "if __name__ == '__main__':\n",
    "    sol = Solution()\n",
    "    cases = [0b00000010100101000001111010011100,\n",
    "             0b11111111111111111111111111111101]\n",
    "    for case in cases:\n",
    "        print(sol.reverseBits(n = case))"
   ]
  },
  {
   "cell_type": "markdown",
   "metadata": {},
   "source": [
    "## Pascal's Triangle\n",
    "\n",
    "        Given an integer numRows, return the first numRows of Pascal's triangle.\n"
   ]
  },
  {
   "cell_type": "code",
   "execution_count": null,
   "metadata": {},
   "outputs": [],
   "source": [
    "import math\n",
    "\n",
    "\n",
    "class Solution:\n",
    "    def generate(self, numRows: int) -> list[list[int]]:\n",
    "        if numRows == 1:\n",
    "            return [[1]]\n",
    "        \n",
    "        prev_rows = self.generate(numRows - 1)\n",
    "        prev_row = prev_rows[-1]\n",
    "        current_row = [1]\n",
    "\n",
    "        for i in range(1, numRows - 1):\n",
    "            current_row.append(prev_row[i - 1] + prev_row[i])\n",
    "\n",
    "        current_row.append(1)\n",
    "        prev_rows.append(current_row)\n",
    "\n",
    "        del prev_row, current_row\n",
    "        return prev_rows\n",
    "                \n",
    "if __name__ == '__main__':\n",
    "    sol = Solution()\n",
    "    cases = [5, 1, 6]\n",
    "    for case in cases:\n",
    "        print(sol.generate(numRows = case))"
   ]
  },
  {
   "cell_type": "markdown",
   "metadata": {},
   "source": [
    "## Valid Parentheses\n",
    "\n",
    "    Given a string s containing just the characters '(', ')', '{', '}', '[' and ']', determine if the input string is valid.\n",
    "\n",
    "    An input string is valid if:\n",
    "\n",
    "    Open brackets must be closed by the same type of brackets.\n",
    "    Open brackets must be closed in the correct order.\n",
    "    Every close bracket has a corresponding open bracket of the same type.\n"
   ]
  },
  {
   "cell_type": "code",
   "execution_count": null,
   "metadata": {},
   "outputs": [],
   "source": [
    "class LinkedNode:\n",
    "    def __init__(self, val) -> None:\n",
    "        self.val = val\n",
    "        self.next = None\n",
    "        self.prev = None\n",
    "\n",
    "class LinkedList:\n",
    "    def __init__(self) -> None:\n",
    "        self.head = None\n",
    "        self.tail = None\n",
    "        self.length = 0\n",
    "    \n",
    "    def add(self, val) -> None:\n",
    "        newNode = LinkedNode(val = val)\n",
    "        if self.length == 0:\n",
    "            self.head = self.tail = newNode\n",
    "        else:\n",
    "            self.tail.next = newNode\n",
    "            newNode.prev = self.tail\n",
    "            self.tail = newNode\n",
    "        self.length += 1\n",
    "        \n",
    "    def pop(self) -> str:\n",
    "        if self.length == 0:\n",
    "            return\n",
    "        popped = self.tail.val\n",
    "        if self.length == 1:\n",
    "            self.head = None\n",
    "            self.tail = None\n",
    "        else:\n",
    "            self.tail = self.tail.prev\n",
    "            self.tail.next = None\n",
    "        self.length -= 1\n",
    "        return popped\n",
    "\n",
    "class Solution:\n",
    "    def isValid(self, s: str) -> bool:\n",
    "        if len(s) < 2:\n",
    "            return False\n",
    "        stack = LinkedList()\n",
    "        paranthesis = {')' : '(',\n",
    "                       ']' : '[',\n",
    "                       '}' : '{'}\n",
    "        for chr in s:\n",
    "            if chr == '(' or chr == '{' or chr == '[':\n",
    "                stack.add(val = chr)\n",
    "            else:\n",
    "                popped = stack.pop()\n",
    "                if popped != paranthesis[chr]:\n",
    "                    del stack, paranthesis, popped\n",
    "                    return False\n",
    "        if stack.length == 0:\n",
    "            del stack, paranthesis\n",
    "            return True\n",
    "        else:\n",
    "            del stack, paranthesis\n",
    "            return False\n",
    "        \n",
    "\n",
    "if __name__ == '__main__':\n",
    "    sol = Solution()\n",
    "    cases = [\"()\",\n",
    "             \"()[]{}\",\n",
    "             \"(]\",\n",
    "             \"((\"]\n",
    "    for case in cases:\n",
    "        print(sol.isValid(s = case))"
   ]
  },
  {
   "cell_type": "markdown",
   "metadata": {},
   "source": [
    "## Missing Number\n",
    "\n",
    "    Given an array nums containing n distinct numbers in the range [0, n], return the only number in the range that is missing from the array.\n"
   ]
  },
  {
   "cell_type": "code",
   "execution_count": null,
   "metadata": {},
   "outputs": [],
   "source": [
    "class Solution:\n",
    "    def missingNumber(self, nums: list[int]) -> int:\n",
    "        res = len(nums)\n",
    "        for index, num in enumerate(nums):\n",
    "            res ^= index ^ num\n",
    "        return res\n",
    "\n",
    "if __name__ == '__main__':\n",
    "    sol = Solution()\n",
    "    cases = [[3,0,1],\n",
    "             [0,1],\n",
    "             [9,6,4,2,3,5,7,0,1]]\n",
    "    for case in cases:\n",
    "        print(sol.missingNumber(nums = case))"
   ]
  }
 ],
 "metadata": {
  "kernelspec": {
   "display_name": "Python 3",
   "language": "python",
   "name": "python3"
  },
  "language_info": {
   "codemirror_mode": {
    "name": "ipython",
    "version": 3
   },
   "file_extension": ".py",
   "mimetype": "text/x-python",
   "name": "python",
   "nbconvert_exporter": "python",
   "pygments_lexer": "ipython3",
   "version": "3.12.2"
  }
 },
 "nbformat": 4,
 "nbformat_minor": 2
}
