{
 "cells": [
  {
   "cell_type": "markdown",
   "metadata": {},
   "source": [
    "## Fizz Buzz\n",
    "\n",
    "    Given an integer n, return a string array answer (1-indexed) where:\n",
    "\n",
    "        * answer[i] == \"FizzBuzz\" if i is divisible by 3 and 5.\n",
    "        * answer[i] == \"Fizz\" if i is divisible by 3.\n",
    "        * answer[i] == \"Buzz\" if i is divisible by 5.\n",
    "        * answer[i] == i (as a string) if none of the above conditions are true.\n"
   ]
  },
  {
   "cell_type": "code",
   "execution_count": null,
   "metadata": {},
   "outputs": [],
   "source": [
    "class Solution:\n",
    "    def fizzBuzz(self, n: int) -> list[str]:\n",
    "        res = ['0'] * n\n",
    "        for index in range(1, n + 1):\n",
    "            if index % 15 == 0:\n",
    "                res[index - 1] = 'FizzBuzz'\n",
    "            elif index % 5 == 0:\n",
    "                res[index - 1] = 'Buzz'\n",
    "            elif index % 3 == 0:\n",
    "                res[index - 1] = 'Fizz'\n",
    "            else:\n",
    "                res[index - 1] = str(index)\n",
    "        return res\n",
    "\n",
    "if __name__ == '__main__':\n",
    "    sol = Solution()\n",
    "    cases = [3, 5, 15]\n",
    "    for case in cases:\n",
    "        print(sol.fizzBuzz(n = case))"
   ]
  },
  {
   "cell_type": "markdown",
   "metadata": {},
   "source": [
    "## Count Primes\n",
    "\n",
    "    Given an integer n, return the number of prime numbers that are strictly less than n.\n"
   ]
  },
  {
   "cell_type": "code",
   "execution_count": null,
   "metadata": {},
   "outputs": [],
   "source": [
    "class Solution:\n",
    "    def countPrimes(self, n: int) -> int:\n",
    "        if n < 2:\n",
    "            return 0\n",
    "        sieve = [0] * n\n",
    "        res = 0\n",
    "        for num in range(2, n):\n",
    "            if sieve[num] == 1:\n",
    "                continue\n",
    "            sieve[num] = 1\n",
    "            res += 1\n",
    "            count = 2\n",
    "            while count * num < n:\n",
    "                sieve[count * num] = 1\n",
    "                count += 1\n",
    "        del sieve\n",
    "        return res\n",
    "\n",
    "if __name__ == '__main__':\n",
    "    sol = Solution()\n",
    "    cases = [10, 0, 1]\n",
    "    for case in cases:\n",
    "        print(sol.countPrimes(n = case))"
   ]
  },
  {
   "cell_type": "markdown",
   "metadata": {},
   "source": [
    "## Power of Three\n",
    "\n",
    "    Given an integer n, return true if it is a power of three. Otherwise, return false.\n",
    "\n",
    "    An integer n is a power of three, if there exists an integer x such that n == 3x.\n"
   ]
  },
  {
   "cell_type": "code",
   "execution_count": null,
   "metadata": {},
   "outputs": [],
   "source": [
    "import math\n",
    "\n",
    "class Solution:\n",
    "    def isPowerOfThree(self, n: int) -> bool:\n",
    "        try:\n",
    "            return True if math.pow(3, round(math.log(n, 3))) == n else False\n",
    "        except:\n",
    "            return False\n",
    "\n",
    "if __name__ == '__main__':\n",
    "    sol = Solution()\n",
    "    cases = [27, 28, 243, 0, -1]\n",
    "    for case in cases:\n",
    "        print(sol.isPowerOfThree(n = case))"
   ]
  },
  {
   "cell_type": "markdown",
   "metadata": {},
   "source": [
    "## Roman to Integer\n",
    "\n",
    "    Roman numerals are represented by seven different symbols: I, V, X, L, C, D and M.\n",
    "\n",
    "    Given a roman numeral, convert it to an integer.\n"
   ]
  },
  {
   "cell_type": "code",
   "execution_count": null,
   "metadata": {},
   "outputs": [],
   "source": [
    "class Solution:\n",
    "    def romanToInt(self, s: str) -> int:\n",
    "        romanDict = {'I' : 1,\n",
    "                    'V' : 5,\n",
    "                    'X' : 10,\n",
    "                    'L' : 50,\n",
    "                    'C' : 100,\n",
    "                    'D' : 500,\n",
    "                    'M' : 1000}\n",
    "        res = 0\n",
    "        for i in range(len(s)):\n",
    "            if i < len(s) - 1 and romanDict[s[i]] < romanDict[s[i + 1]]:\n",
    "                res -= romanDict[s[i]]\n",
    "            else:\n",
    "                res += romanDict[s[i]]\n",
    "        del romanDict\n",
    "        return res\n",
    "                \n",
    "if __name__ == '__main__':\n",
    "    sol = Solution()\n",
    "    cases = ['III', 'LVIII', 'MCMXCIV']\n",
    "    for case in cases:\n",
    "        print(sol.romanToInt(s = case))"
   ]
  }
 ],
 "metadata": {
  "kernelspec": {
   "display_name": "Python 3",
   "language": "python",
   "name": "python3"
  },
  "language_info": {
   "codemirror_mode": {
    "name": "ipython",
    "version": 3
   },
   "file_extension": ".py",
   "mimetype": "text/x-python",
   "name": "python",
   "nbconvert_exporter": "python",
   "pygments_lexer": "ipython3",
   "version": "3.12.2"
  }
 },
 "nbformat": 4,
 "nbformat_minor": 2
}
