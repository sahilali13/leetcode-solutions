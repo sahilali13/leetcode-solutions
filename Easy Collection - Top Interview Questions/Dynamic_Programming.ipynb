{
 "cells": [
  {
   "cell_type": "markdown",
   "metadata": {},
   "source": [
    "## Climbing Stairs\n",
    "\n",
    "    You are climbing a staircase. It takes n steps to reach the top.\n",
    "\n",
    "    Each time you can either climb 1 or 2 steps. In how many distinct ways can you climb to the top?\n"
   ]
  },
  {
   "cell_type": "code",
   "execution_count": null,
   "metadata": {},
   "outputs": [],
   "source": [
    "from collections import defaultdict\n",
    "\n",
    "\n",
    "class Solution:\n",
    "    def climbStairs(self, n: int) -> int:\n",
    "        memo = [0] * (n + 1)\n",
    "        memo[0], memo[1] = 1, 1\n",
    "        for _ in range(2, n + 1):\n",
    "            memo[_] = memo[_ - 1] + memo[_ - 2]\n",
    "        return memo[n]\n",
    "\n",
    "if __name__ == '__main__':\n",
    "    sol = Solution()\n",
    "    cases = [2, 3]\n",
    "    for case in cases:\n",
    "        print(sol.climbStairs(n = case))\n",
    "    "
   ]
  },
  {
   "cell_type": "markdown",
   "metadata": {},
   "source": [
    "## Best Time to Buy and Sell Stock\n",
    "\n",
    "    You are given an array prices where prices[i] is the price of a given stock on the ith day.\n",
    "\n",
    "    You want to maximize your profit by choosing a single day to buy one stock and choosing a different day in the future to sell that stock.\n",
    "\n",
    "    Return the maximum profit you can achieve from this transaction. If you cannot achieve any profit, return 0.\n"
   ]
  },
  {
   "cell_type": "code",
   "execution_count": null,
   "metadata": {},
   "outputs": [],
   "source": [
    "class Solution:\n",
    "    def maxProfit(self, prices: list[int]) -> int:\n",
    "        bought = prices[0]\n",
    "        maxProfit = 0\n",
    "        for dayValue in range(1, len(prices)):\n",
    "            if bought > prices[dayValue]:\n",
    "                bought = prices[dayValue]\n",
    "            elif prices[dayValue] - bought > maxProfit:\n",
    "                maxProfit = prices[dayValue] - bought\n",
    "        return maxProfit\n",
    "    \n",
    "if __name__ == '__main__':\n",
    "    sol = Solution()\n",
    "    cases = [[7,1,5,3,6,4],\n",
    "             [7,6,4,3,1],\n",
    "             [2,4,1]]\n",
    "    for case in cases:\n",
    "        print(sol.maxProfit(prices = case))\n",
    "    "
   ]
  },
  {
   "cell_type": "markdown",
   "metadata": {},
   "source": [
    "## Maximum Subarray\n",
    "\n",
    "    Given an integer array nums, find the subarray with the largest sum, and return its sum.\n"
   ]
  },
  {
   "cell_type": "code",
   "execution_count": null,
   "metadata": {},
   "outputs": [],
   "source": [
    "import math\n",
    "\n",
    "\n",
    "class Solution:\n",
    "    def maxSubArray(self, nums: list[int]) -> int:\n",
    "        memo = [-math.inf] * len(nums)\n",
    "        memo[0] = nums[0]\n",
    "        ans = memo[0]\n",
    "        for index in range(1, len(nums)):\n",
    "            memo[index] = max(nums[index], nums[index] + memo[index - 1])\n",
    "            ans = max(ans, memo[index])\n",
    "        return ans\n",
    "        \n",
    "if __name__ == '__main__':\n",
    "    sol = Solution()\n",
    "    cases = [[-2,1,-3,4,-1,2,1,-5,4],\n",
    "             [1],\n",
    "             [5,4,-1,7,8],\n",
    "             [-1,1]]\n",
    "    for case in cases:\n",
    "        print(sol.maxSubArray(nums = case))\n",
    "    "
   ]
  },
  {
   "cell_type": "markdown",
   "metadata": {},
   "source": [
    "## House Robber\n",
    "\n",
    "    You are a professional robber planning to rob houses along a street. Each house has a certain amount of money stashed, the only constraint stopping you from robbing each of them is that adjacent houses have security systems connected and it will automatically contact the police if two adjacent houses were broken into on the same night.\n",
    "\n",
    "    Given an integer array nums representing the amount of money of each house, return the maximum amount of money you can rob tonight without alerting the police.\n"
   ]
  },
  {
   "cell_type": "code",
   "execution_count": 57,
   "metadata": {},
   "outputs": [
    {
     "name": "stdout",
     "output_type": "stream",
     "text": [
      "4\n",
      "12\n"
     ]
    }
   ],
   "source": [
    "class Solution:\n",
    "    def rob(self, nums: list[int]) -> int:\n",
    "        if len(nums) == 1:\n",
    "            return nums[0]\n",
    "        if len(nums) == 2:\n",
    "            return max(nums[0], nums[1])\n",
    "        memo = [0] * len(nums)\n",
    "        memo[0] = nums[0]\n",
    "        memo[1] = max(nums[0], nums[1])\n",
    "\n",
    "        for house in range(2, len(nums)):\n",
    "            memo[house] = max(nums[house] + memo[house - 2], memo[house - 1])\n",
    "        return memo[-1]\n",
    "        \n",
    "        \n",
    "if __name__ == '__main__':\n",
    "    sol = Solution()\n",
    "    cases = [[1,2,3,1],\n",
    "             [2,7,9,3,1],\n",
    "             [0,0]]\n",
    "    for case in cases:\n",
    "        print(sol.rob(nums = case))\n",
    "    "
   ]
  }
 ],
 "metadata": {
  "kernelspec": {
   "display_name": "Python 3",
   "language": "python",
   "name": "python3"
  },
  "language_info": {
   "codemirror_mode": {
    "name": "ipython",
    "version": 3
   },
   "file_extension": ".py",
   "mimetype": "text/x-python",
   "name": "python",
   "nbconvert_exporter": "python",
   "pygments_lexer": "ipython3",
   "version": "3.12.2"
  }
 },
 "nbformat": 4,
 "nbformat_minor": 2
}
