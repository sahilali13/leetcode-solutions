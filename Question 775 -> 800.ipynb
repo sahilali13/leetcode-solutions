{
 "cells": [
  {
   "cell_type": "markdown",
   "metadata": {},
   "source": [
    "#### Prerequisites\n"
   ]
  },
  {
   "cell_type": "code",
   "execution_count": null,
   "metadata": {},
   "outputs": [],
   "source": [
    "from typing import List"
   ]
  },
  {
   "cell_type": "markdown",
   "metadata": {},
   "source": [
    "## 786. K-th Smallest Prime Fraction\n",
    "\n",
    "    Difficulty - Medium\n",
    "    Topics - Array\n",
    "    Algos - Two Pointers, Binary Search, Sorting\n"
   ]
  },
  {
   "cell_type": "code",
   "execution_count": null,
   "metadata": {},
   "outputs": [],
   "source": [
    "class Solution:\n",
    "    def kthSmallestPrimeFraction(self, arr: List[int], k: int) -> List[int]:\n",
    "        n = len(arr)\n",
    "        left, right = 0, 1\n",
    "        res = []\n",
    "\n",
    "        while left <= right:\n",
    "            mid = left + (right - left) / 2\n",
    "            j, total, num, den = 1, 0, 0, 0\n",
    "            maxFrac = 0\n",
    "\n",
    "            for i, a in enumerate(arr):\n",
    "                while j < n and a >= arr[j] * mid:\n",
    "                    j += 1\n",
    "\n",
    "                total += n - j\n",
    "\n",
    "                if j < n and maxFrac < a / arr[j]:\n",
    "                    maxFrac = a / arr[j]\n",
    "                    num, den = i, j\n",
    "\n",
    "            if total == k:\n",
    "                res = [arr[num], arr[den]]\n",
    "                break\n",
    "\n",
    "            if total > k:\n",
    "                right = mid\n",
    "            else:\n",
    "                left = mid\n",
    "\n",
    "        return res\n",
    "\n",
    "\n",
    "if __name__ == \"__main__\":\n",
    "    sol = Solution()\n",
    "    cases = [{\"arr\": [1, 2, 3, 5], \"k\": 3}, {\"arr\": [1, 7], \"k\": 1}]\n",
    "    for case in cases:\n",
    "        print(sol.kthSmallestPrimeFraction(case[\"arr\"], case[\"k\"]))"
   ]
  }
 ],
 "metadata": {
  "kernelspec": {
   "display_name": "Python 3",
   "language": "python",
   "name": "python3"
  },
  "language_info": {
   "codemirror_mode": {
    "name": "ipython",
    "version": 3
   },
   "file_extension": ".py",
   "mimetype": "text/x-python",
   "name": "python",
   "nbconvert_exporter": "python",
   "pygments_lexer": "ipython3",
   "version": "3.12.2"
  }
 },
 "nbformat": 4,
 "nbformat_minor": 2
}
