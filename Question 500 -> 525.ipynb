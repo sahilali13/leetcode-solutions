{
 "cells": [
  {
   "cell_type": "markdown",
   "metadata": {},
   "source": [
    "#### Prerequisites\n"
   ]
  },
  {
   "cell_type": "code",
   "execution_count": null,
   "metadata": {},
   "outputs": [],
   "source": [
    "from typing import List"
   ]
  },
  {
   "cell_type": "markdown",
   "metadata": {},
   "source": [
    "## 506. Relative Ranks\n",
    "\n",
    "    Difficulty - Easy\n",
    "    Topics - Array, Heap\n",
    "    Algo - Sorting\n",
    "\n",
    "You are given an integer array `score` of size `n`, where `score[i]` is the score of the `ith` athlete in a competition. All the scores are guaranteed to be **unique**.\n",
    "\n",
    "The athletes are **placed** based on their scores, where the `1st` place athlete has the highest score, the `2nd` place athlete has the `2nd` highest score, and so on. The placement of each athlete determines their rank:\n",
    "\n",
    "-   The `1st` place athlete's rank is `\"Gold Medal\"`.\n",
    "-   The `2nd` place athlete's rank is `\"Silver Medal\"`.\n",
    "-   The `3rd` place athlete's rank is `\"Bronze Medal\"`.\n",
    "-   For the `4th` place to the `nth` place athlete, their rank is their placement number (i.e., the `xth` place athlete's rank is `\"x\"`).\n",
    "\n",
    "Return an array `answer` of size `n` where `answer[i]` is the **rank** of the `ith` athlete.\n"
   ]
  },
  {
   "cell_type": "code",
   "execution_count": null,
   "metadata": {},
   "outputs": [],
   "source": [
    "class Solution:\n",
    "    def findRelativeRanks(self, score: List[int]) -> List[str]:\n",
    "        # Step 1: Initialize a dictionary to store the index of each score\n",
    "        score_index = {score[i]: i for i in range(len(score))}\n",
    "\n",
    "        # Step 2: Initialize a list to store the ranks of each score\n",
    "        ranks = [\"\"] * len(score)\n",
    "\n",
    "        # Step 3: Traverse the input list to determine the ranks\n",
    "        for i, s in enumerate(sorted(score, reverse=True)):\n",
    "            if i == 0:\n",
    "                ranks[score_index[s]] = \"Gold Medal\"\n",
    "            elif i == 1:\n",
    "                ranks[score_index[s]] = \"Silver Medal\"\n",
    "            elif i == 2:\n",
    "                ranks[score_index[s]] = \"Bronze Medal\"\n",
    "            else:\n",
    "                ranks[score_index[s]] = str(i + 1)\n",
    "\n",
    "        return ranks\n",
    "\n",
    "\n",
    "if __name__ == \"__main__\":\n",
    "    sol = Solution()\n",
    "    cases = [{\"score\": [5, 4, 3, 2, 1]}, {\"score\": [10, 3, 8, 9, 4]}]\n",
    "    for case in cases:\n",
    "        print(sol.findRelativeRanks(case[\"score\"]))"
   ]
  },
  {
   "cell_type": "markdown",
   "metadata": {},
   "source": [
    "## 523. Continuous Subarray Sum\n",
    "\n",
    "    Difficulty - Medium\n",
    "    Topics - Array, Hash Table\n",
    "    Algo - Prefix Sum\n",
    "\n",
    "Given an integer array nums and an integer k, return `true` _if_ `nums` _has a **good subarray** or_ `false` _otherwise_.\n",
    "\n",
    "A **good subarray** is a subarray where:\n",
    "\n",
    "-   its length is **at least two**, and\n",
    "-   the sum of the elements of the subarray is a multiple of `k`.\n",
    "\n",
    "**Note** that:\n",
    "\n",
    "-   A **subarray** is a contiguous part of the array.\n",
    "-   An integer `x` is a multiple of `k` if there exists an integer `n` such that `x = n * k`. `0` is **always** a multiple of `k`.\n",
    "\n",
    "**Constraints:**\n",
    "\n",
    "-   <code>1 <= nums.length <= 10<sup>5</sup></code>\n",
    "-   <code>0 <= nums[i] <= 10<sup>9</sup></code>\n",
    "-   <code>0 <= sum(nums[i]) <= 2<sup>31</sup> - 1</code>\n",
    "-   <code>1 <= k <= 2<sup>31</sup> - 1</code>\n"
   ]
  },
  {
   "cell_type": "code",
   "execution_count": null,
   "metadata": {},
   "outputs": [],
   "source": [
    "class Solution:\n",
    "    def checkSubarraySum(self, nums: List[int], k: int) -> bool:\n",
    "        prefix_sum = 0\n",
    "        remainders = {0: -1}  # Initialize the remainder 0 with index -1\n",
    "        for i, num in enumerate(nums):\n",
    "            prefix_sum += num\n",
    "            if k != 0:\n",
    "                prefix_sum %= k  # Compute the prefix sum modulo k\n",
    "            if prefix_sum in remainders:\n",
    "                if i - remainders[prefix_sum] > 1:\n",
    "                    return True\n",
    "            else:\n",
    "                remainders[prefix_sum] = i\n",
    "        return False\n",
    "\n",
    "\n",
    "if __name__ == \"__main__\":\n",
    "    sol = Solution()\n",
    "    cases = [\n",
    "        {\"nums\": [23, 2, 4, 6, 7], \"k\": 6},  # True\n",
    "        {\"nums\": [23, 2, 6, 4, 7], \"k\": 6},  # True\n",
    "        {\"nums\": [23, 2, 6, 4, 7], \"k\": 13},  # False\n",
    "    ]\n",
    "    for case in cases:\n",
    "        print(sol.checkSubarraySum(case[\"nums\"], case[\"k\"]))"
   ]
  }
 ],
 "metadata": {
  "kernelspec": {
   "display_name": "Python 3",
   "language": "python",
   "name": "python3"
  },
  "language_info": {
   "codemirror_mode": {
    "name": "ipython",
    "version": 3
   },
   "file_extension": ".py",
   "mimetype": "text/x-python",
   "name": "python",
   "nbconvert_exporter": "python",
   "pygments_lexer": "ipython3",
   "version": "3.12.2"
  }
 },
 "nbformat": 4,
 "nbformat_minor": 2
}
