{
 "cells": [
  {
   "cell_type": "markdown",
   "metadata": {},
   "source": [
    "#### Prerequisites\n"
   ]
  },
  {
   "cell_type": "code",
   "execution_count": null,
   "metadata": {},
   "outputs": [],
   "source": [
    "from typing import List"
   ]
  },
  {
   "cell_type": "markdown",
   "metadata": {},
   "source": [
    "## 1552. Magnetic Force Between Two Balls\n",
    "\n",
    "    Difficulty - Medium\n",
    "    Topic - Array\n",
    "    Algos - Binary Search, Sorting\n",
    "\n",
    "In the universe Earth C-137, Rick discovered a special form of magnetic force between two balls if they are put in his new invented basket. Rick has `n` empty baskets, the <code>i<sup>th</sup></code> basket is at `position[i]`, Morty has `m` balls and needs to distribute the balls into the baskets such that the **minimum magnetic force** between any two balls is **maximum**.\n",
    "\n",
    "Rick stated that magnetic force between two different balls at positions `x` and `y` is `|x - y|`.\n",
    "\n",
    "Given the integer array `position` and the integer `m`. Return _the required force_.\n",
    "\n",
    "**Constraints:**\n",
    "\n",
    "-   `n == position.length`\n",
    "-   <code>2 <= n <= 10<sup>5</sup></code>\n",
    "-   <code>1 <= position[i] <= 10<sup>9</sup></code>\n",
    "-   All integers in `position` are **distinct**.\n",
    "-   `2 <= m <= position.length`\n"
   ]
  },
  {
   "cell_type": "code",
   "execution_count": null,
   "metadata": {},
   "outputs": [],
   "source": [
    "class Solution:\n",
    "    def maxDistance(self, position: List[int], m: int) -> int:\n",
    "        # Step 1: Sort the basket positions\n",
    "        position.sort()\n",
    "\n",
    "        # Step 2: Binary search for the maximum minimum force\n",
    "        def is_feasible(force: int) -> bool:\n",
    "            # Place the first ball in the first basket\n",
    "            count = 1\n",
    "            last_position = position[0]\n",
    "\n",
    "            for i in range(1, len(position)):\n",
    "                if abs(position[i] - last_position) >= force:\n",
    "                    count += 1\n",
    "                    last_position = position[i]\n",
    "                    if count == m:\n",
    "                        return True\n",
    "            return False\n",
    "\n",
    "        low, high = 1, position[-1] - position[0]\n",
    "\n",
    "        while low <= high:\n",
    "            mid = (low + high) // 2\n",
    "            if is_feasible(mid):\n",
    "                low = mid + 1\n",
    "            else:\n",
    "                high = mid - 1\n",
    "\n",
    "        return high\n",
    "\n",
    "\n",
    "if __name__ == \"__main__\":\n",
    "    sol = Solution()\n",
    "    cases = [\n",
    "        {\"position\": [1, 2, 3, 4, 7], \"m\": 3},\n",
    "        {\"position\": [5, 4, 3, 2, 1, 1000000000], \"m\": 2},\n",
    "    ]\n",
    "    for case in cases:\n",
    "        print(sol.maxDistance(case[\"position\"], case[\"m\"]))"
   ]
  }
 ],
 "metadata": {
  "kernelspec": {
   "display_name": "Python 3",
   "language": "python",
   "name": "python3"
  },
  "language_info": {
   "codemirror_mode": {
    "name": "ipython",
    "version": 3
   },
   "file_extension": ".py",
   "mimetype": "text/x-python",
   "name": "python",
   "nbconvert_exporter": "python",
   "pygments_lexer": "ipython3",
   "version": "3.12.2"
  }
 },
 "nbformat": 4,
 "nbformat_minor": 2
}
