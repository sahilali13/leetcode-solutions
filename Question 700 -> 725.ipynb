{
 "cells": [
  {
   "cell_type": "markdown",
   "metadata": {},
   "source": [
    "#### Prerequisites\n"
   ]
  },
  {
   "cell_type": "code",
   "execution_count": 1,
   "metadata": {},
   "outputs": [],
   "source": [
    "from typing import List"
   ]
  },
  {
   "cell_type": "markdown",
   "metadata": {},
   "source": [
    "## 713. Subarray Product Less Than K\n",
    "\n",
    "    Difficulty - Medium\n",
    "    Topics - Array\n",
    "    Algo - Sliding Window\n",
    "\n",
    "Given an array of integers nums and an integer k, return the number of contiguous subarrays where the product of all the elements in the subarray is strictly less than k.\n"
   ]
  },
  {
   "cell_type": "code",
   "execution_count": 2,
   "metadata": {},
   "outputs": [
    {
     "name": "stdout",
     "output_type": "stream",
     "text": [
      "8\n",
      "6\n",
      "0\n"
     ]
    }
   ],
   "source": [
    "class Solution:\n",
    "    def numSubarrayProductLessThanK(self, nums: List[int], k: int) -> int:\n",
    "        if k <= 1:\n",
    "            return 0\n",
    "\n",
    "        ans, left, prod = 0, 0, 1\n",
    "\n",
    "        for right, number in enumerate(nums):\n",
    "            prod *= number\n",
    "\n",
    "            while prod >= k:\n",
    "                prod //= nums[left]\n",
    "                left += 1\n",
    "\n",
    "            ans += right - left + 1\n",
    "\n",
    "        return ans\n",
    "\n",
    "\n",
    "if __name__ == \"__main__\":\n",
    "    sol = Solution()\n",
    "    cases = [\n",
    "        {\"nums\": [10, 5, 2, 6], \"k\": 100},\n",
    "        {\"nums\": [1, 1, 1], \"k\": 2},\n",
    "        {\"nums\": [1, 2, 3], \"k\": 0},\n",
    "    ]\n",
    "    for case in cases:\n",
    "        print(sol.numSubarrayProductLessThanK(case[\"nums\"], case[\"k\"]))"
   ]
  }
 ],
 "metadata": {
  "kernelspec": {
   "display_name": "Python 3",
   "language": "python",
   "name": "python3"
  },
  "language_info": {
   "codemirror_mode": {
    "name": "ipython",
    "version": 3
   },
   "file_extension": ".py",
   "mimetype": "text/x-python",
   "name": "python",
   "nbconvert_exporter": "python",
   "pygments_lexer": "ipython3",
   "version": "3.12.2"
  }
 },
 "nbformat": 4,
 "nbformat_minor": 2
}
