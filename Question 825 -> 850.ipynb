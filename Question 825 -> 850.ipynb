{
 "cells": [
  {
   "cell_type": "markdown",
   "metadata": {},
   "source": [
    "#### Prerequisites\n"
   ]
  },
  {
   "cell_type": "code",
   "execution_count": null,
   "metadata": {},
   "outputs": [],
   "source": [
    "from collections import Counter\n",
    "from typing import List"
   ]
  },
  {
   "cell_type": "markdown",
   "metadata": {},
   "source": [
    "## 846. Hand of Straights\n",
    "\n",
    "    Difficulty - Medium\n",
    "    Topics - Array, Hash Table\n",
    "    Algos - Greedy, Sorting\n",
    "\n",
    "Alice has some number of cards and she wants to rearrange the cards into groups so that each group is of size `groupSize`, and consists of `groupSize` consecutive cards.\n",
    "\n",
    "Given an integer array `hand` where `hand[i]` is the value written on the <code>i<sup>th</sup></code> card and an integer `groupSize`, return `true` if she can rearrange the cards, or `false` otherwise.\n",
    "\n",
    "Constraints:\n",
    "\n",
    "-   <code>1 <= hand.length <= 10<sup>4</sup></code>\n",
    "-   <code>0 <= hand[i] <= 10<sup>9</sup></code>\n",
    "-   `1 <= groupSize <= hand.length`\n"
   ]
  },
  {
   "cell_type": "code",
   "execution_count": null,
   "metadata": {},
   "outputs": [],
   "source": [
    "class Solution:\n",
    "    def isNStraightHand(self, hand: List[int], groupSize: int) -> bool:\n",
    "        if len(hand) % groupSize != 0:\n",
    "            return False\n",
    "\n",
    "        count = Counter(hand)\n",
    "\n",
    "        for num in sorted(count):\n",
    "            if count[num] > 0:\n",
    "                for i in range(groupSize - 1):\n",
    "                    if count[num + i + 1] < count[num]:\n",
    "                        return False\n",
    "                    count[num + i + 1] -= count[num]\n",
    "\n",
    "        return True\n",
    "\n",
    "\n",
    "if __name__ == \"__main__\":\n",
    "    sol = Solution()\n",
    "    cases = [\n",
    "        {\"hand\": [1, 2, 3, 6, 2, 3, 4, 7, 8], \"groupSize\": 3},\n",
    "        {\"hand\": [1, 2, 3, 4, 5], \"groupSize\": 4},\n",
    "        {\"hand\": [1, 1, 2, 2, 3, 3], \"groupSize\": 3},\n",
    "    ]\n",
    "    for case in cases:\n",
    "        print(sol.isNStraightHand(case[\"hand\"], case[\"groupSize\"]))"
   ]
  }
 ],
 "metadata": {
  "kernelspec": {
   "display_name": "Python 3",
   "language": "python",
   "name": "python3"
  },
  "language_info": {
   "codemirror_mode": {
    "name": "ipython",
    "version": 3
   },
   "file_extension": ".py",
   "mimetype": "text/x-python",
   "name": "python",
   "nbconvert_exporter": "python",
   "pygments_lexer": "ipython3",
   "version": "3.12.2"
  }
 },
 "nbformat": 4,
 "nbformat_minor": 2
}
