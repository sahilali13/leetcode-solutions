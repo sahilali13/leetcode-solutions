{
 "cells": [
  {
   "cell_type": "markdown",
   "metadata": {},
   "source": [
    "#### Prerequisites\n"
   ]
  },
  {
   "cell_type": "code",
   "execution_count": null,
   "metadata": {},
   "outputs": [],
   "source": [
    "from collections import Counter\n",
    "from typing import List"
   ]
  },
  {
   "cell_type": "markdown",
   "metadata": {},
   "source": [
    "## 826. Most Profit Assigning Work\n",
    "\n",
    "    Difficulty - Medium\n",
    "    Topic - Array\n",
    "    Algos - Two Pointers, Binary Search, Greedy, Sorting\n",
    "\n",
    "You have `n` jobs and `m` workers. You are given three arrays: `difficulty`, `profit`, and `worker` where:\n",
    "\n",
    "-   `difficulty[i]` and `profit[i]` are the difficulty and the profit of the <code>i<sup>th</sup></code> job, and\n",
    "-   `worker[j]` is the ability of <code>j<sup>th</sup></code> worker (i.e., the <code>j<sup>th</sup></code> worker can only complete a job with difficulty at most `worker[j]`).\n",
    "\n",
    "Every worker can be assigned **at most one job**, but one job can be **completed multiple times**.\n",
    "\n",
    "-   For example, if three workers attempt the same job that pays `$1`, then the total profit will be `$3`. If a worker cannot complete any job, their profit is $0.\n",
    "\n",
    "Return the maximum profit we can achieve after assigning the workers to the jobs.\n",
    "\n",
    "**Constraints:**\n",
    "\n",
    "-   `n == difficulty.length`\n",
    "-   `n == profit.length`\n",
    "-   `m == worker.length`\n",
    "-   <code>1 <= n, m <= 10<sup>4</sup></code>\n",
    "-   <code>1 <= difficulty[i], profit[i], worker[i] <= 10<sup>5</sup></code>\n"
   ]
  },
  {
   "cell_type": "code",
   "execution_count": null,
   "metadata": {},
   "outputs": [],
   "source": [
    "class Solution:\n",
    "    def maxProfitAssignment(\n",
    "        self, difficulty: List[int], profit: List[int], worker: List[int]\n",
    "    ) -> int:\n",
    "        jobs = sorted(zip(difficulty, profit))\n",
    "        worker.sort()\n",
    "\n",
    "        maxProfit = 0\n",
    "        maxWork = 0\n",
    "        i = 0\n",
    "        n = len(jobs)\n",
    "\n",
    "        for ability in worker:\n",
    "            while i < n and jobs[i][0] <= ability:\n",
    "                maxProfit = max(maxProfit, jobs[i][1])\n",
    "                i += 1\n",
    "            maxWork += maxProfit\n",
    "\n",
    "        return maxWork\n",
    "\n",
    "\n",
    "if __name__ == \"__main__\":\n",
    "    sol = Solution()\n",
    "    cases = [\n",
    "        {\n",
    "            \"difficulty\": [2, 4, 6, 8, 10],\n",
    "            \"profit\": [10, 20, 30, 40, 50],\n",
    "            \"worker\": [4, 5, 6, 7],\n",
    "        },\n",
    "        {\"difficulty\": [85, 47, 57], \"profit\": [24, 66, 99], \"worker\": [40, 25, 25]},\n",
    "    ]\n",
    "    for case in cases:\n",
    "        print(\n",
    "            sol.maxProfitAssignment(case[\"difficulty\"], case[\"profit\"], case[\"worker\"])\n",
    "        )"
   ]
  },
  {
   "cell_type": "markdown",
   "metadata": {},
   "source": [
    "## 846. Hand of Straights\n",
    "\n",
    "    Difficulty - Medium\n",
    "    Topics - Array, Hash Table\n",
    "    Algos - Greedy, Sorting\n",
    "\n",
    "Alice has some number of cards and she wants to rearrange the cards into groups so that each group is of size `groupSize`, and consists of `groupSize` consecutive cards.\n",
    "\n",
    "Given an integer array `hand` where `hand[i]` is the value written on the <code>i<sup>th</sup></code> card and an integer `groupSize`, return `true` if she can rearrange the cards, or `false` otherwise.\n",
    "\n",
    "Constraints:\n",
    "\n",
    "-   <code>1 <= hand.length <= 10<sup>4</sup></code>\n",
    "-   <code>0 <= hand[i] <= 10<sup>9</sup></code>\n",
    "-   `1 <= groupSize <= hand.length`\n"
   ]
  },
  {
   "cell_type": "code",
   "execution_count": null,
   "metadata": {},
   "outputs": [],
   "source": [
    "class Solution:\n",
    "    def isNStraightHand(self, hand: List[int], groupSize: int) -> bool:\n",
    "        if len(hand) % groupSize != 0:\n",
    "            return False\n",
    "\n",
    "        count = Counter(hand)\n",
    "\n",
    "        for num in sorted(count):\n",
    "            if count[num] > 0:\n",
    "                for i in range(groupSize - 1):\n",
    "                    if count[num + i + 1] < count[num]:\n",
    "                        return False\n",
    "                    count[num + i + 1] -= count[num]\n",
    "\n",
    "        return True\n",
    "\n",
    "\n",
    "if __name__ == \"__main__\":\n",
    "    sol = Solution()\n",
    "    cases = [\n",
    "        {\"hand\": [1, 2, 3, 6, 2, 3, 4, 7, 8], \"groupSize\": 3},\n",
    "        {\"hand\": [1, 2, 3, 4, 5], \"groupSize\": 4},\n",
    "        {\"hand\": [1, 1, 2, 2, 3, 3], \"groupSize\": 3},\n",
    "    ]\n",
    "    for case in cases:\n",
    "        print(sol.isNStraightHand(case[\"hand\"], case[\"groupSize\"]))"
   ]
  }
 ],
 "metadata": {
  "kernelspec": {
   "display_name": "Python 3",
   "language": "python",
   "name": "python3"
  },
  "language_info": {
   "codemirror_mode": {
    "name": "ipython",
    "version": 3
   },
   "file_extension": ".py",
   "mimetype": "text/x-python",
   "name": "python",
   "nbconvert_exporter": "python",
   "pygments_lexer": "ipython3",
   "version": "3.12.2"
  }
 },
 "nbformat": 4,
 "nbformat_minor": 2
}
