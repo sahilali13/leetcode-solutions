{
 "cells": [
  {
   "cell_type": "markdown",
   "metadata": {},
   "source": [
    "#### Prerequisites\n"
   ]
  },
  {
   "cell_type": "code",
   "execution_count": 5,
   "metadata": {},
   "outputs": [],
   "source": [
    "from itertools import pairwise"
   ]
  },
  {
   "cell_type": "markdown",
   "metadata": {},
   "source": [
    "## 3110. Score of a String\n",
    "\n",
    "    Difficulty - Easy\n",
    "    Topic - String\n",
    "\n",
    "You are given a string `s`. The **score** of a string is defined as the sum of the absolute difference between the **ASCII** values of adjacent characters.\n",
    "\n",
    "Return the **score** of `s`.\n",
    "\n",
    "**Constraints:**\n",
    "\n",
    "-   `2 <= s.length <= 100`\n",
    "-   `s` consists only of lowercase English letters.\n"
   ]
  },
  {
   "cell_type": "code",
   "execution_count": 6,
   "metadata": {},
   "outputs": [
    {
     "name": "stdout",
     "output_type": "stream",
     "text": [
      "13\n",
      "50\n"
     ]
    }
   ],
   "source": [
    "class Solution:\n",
    "    def scoreOfString(self, s: str) -> int:\n",
    "        return sum(abs(ord(a) - ord(b)) for a, b in pairwise(s))\n",
    "\n",
    "\n",
    "if __name__ == \"__main__\":\n",
    "    sol = Solution()\n",
    "    cases = [{\"s\": \"hello\"}, {\"s\": \"zaz\"}]\n",
    "    for case in cases:\n",
    "        print(sol.scoreOfString(case[\"s\"]))"
   ]
  }
 ],
 "metadata": {
  "kernelspec": {
   "display_name": "Python 3",
   "language": "python",
   "name": "python3"
  },
  "language_info": {
   "codemirror_mode": {
    "name": "ipython",
    "version": 3
   },
   "file_extension": ".py",
   "mimetype": "text/x-python",
   "name": "python",
   "nbconvert_exporter": "python",
   "pygments_lexer": "ipython3",
   "version": "3.12.2"
  }
 },
 "nbformat": 4,
 "nbformat_minor": 2
}
