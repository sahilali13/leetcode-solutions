{
 "cells": [
  {
   "cell_type": "markdown",
   "metadata": {},
   "source": [
    "#### Prerequisites\n"
   ]
  },
  {
   "cell_type": "code",
   "execution_count": 1,
   "metadata": {},
   "outputs": [],
   "source": [
    "from typing import List"
   ]
  },
  {
   "cell_type": "markdown",
   "metadata": {},
   "source": [
    "## 79. Word Search\n",
    "\n",
    "    Difficulty - Medium\n",
    "    Topics - Array, String, Matrix\n",
    "    Algo - Backtracking\n",
    "\n",
    "Given an m x n grid of characters board and a string word, return true if word exists in the grid.\n",
    "\n",
    "The word can be constructed from letters of sequentially adjacent cells, where adjacent cells are horizontally or vertically neighboring. The same letter cell may not be used more than once.\n"
   ]
  },
  {
   "cell_type": "code",
   "execution_count": 2,
   "metadata": {},
   "outputs": [
    {
     "name": "stdout",
     "output_type": "stream",
     "text": [
      "True\n",
      "True\n",
      "False\n"
     ]
    }
   ],
   "source": [
    "class Solution:\n",
    "    def exist(self, board: List[List[str]], word: str) -> bool:\n",
    "        def dfs(row: int, col: int, idx: int) -> bool:\n",
    "            # Base case for DFS termination\n",
    "            if idx == len(word):\n",
    "                return True\n",
    "\n",
    "            # Base case for out of bounds or mismatch\n",
    "            if (\n",
    "                row < 0\n",
    "                or row >= len(board)\n",
    "                or col < 0\n",
    "                or col >= len(board[0])\n",
    "                or board[row][col] != word[idx]\n",
    "            ):\n",
    "                return False\n",
    "\n",
    "            # Mark the current cell as visited\n",
    "            temp, board[row][col] = board[row][col], \"*\"\n",
    "\n",
    "            # Explore adjacent cells recursively\n",
    "            found = (\n",
    "                dfs(row + 1, col, idx + 1)\n",
    "                or dfs(row - 1, col, idx + 1)\n",
    "                or dfs(row, col + 1, idx + 1)\n",
    "                or dfs(row, col - 1, idx + 1)\n",
    "            )\n",
    "\n",
    "            # Restore the original value of the cell\n",
    "            board[row][col] = temp\n",
    "\n",
    "            return found\n",
    "\n",
    "        # Iterate through each cell and start DFS if the first character matches\n",
    "        for i in range(len(board)):\n",
    "            for j in range(len(board[0])):\n",
    "                if dfs(i, j, 0):\n",
    "                    return True\n",
    "        return False\n",
    "\n",
    "\n",
    "if __name__ == \"__main__\":\n",
    "    sol = Solution()\n",
    "    cases = [\n",
    "        {\n",
    "            \"board\": [[\"A\", \"B\", \"C\", \"E\"], [\"S\", \"F\", \"C\", \"S\"], [\"A\", \"D\", \"E\", \"E\"]],\n",
    "            \"word\": \"ABCCED\",\n",
    "        },\n",
    "        {\n",
    "            \"board\": [[\"A\", \"B\", \"C\", \"E\"], [\"S\", \"F\", \"C\", \"S\"], [\"A\", \"D\", \"E\", \"E\"]],\n",
    "            \"word\": \"SEE\",\n",
    "        },\n",
    "        {\n",
    "            \"board\": [[\"A\", \"B\", \"C\", \"E\"], [\"S\", \"F\", \"C\", \"S\"], [\"A\", \"D\", \"E\", \"E\"]],\n",
    "            \"word\": \"ABCB\",\n",
    "        },\n",
    "    ]\n",
    "    for case in cases:\n",
    "        print(sol.exist(case[\"board\"], case[\"word\"]))"
   ]
  }
 ],
 "metadata": {
  "kernelspec": {
   "display_name": "Python 3",
   "language": "python",
   "name": "python3"
  },
  "language_info": {
   "codemirror_mode": {
    "name": "ipython",
    "version": 3
   },
   "file_extension": ".py",
   "mimetype": "text/x-python",
   "name": "python",
   "nbconvert_exporter": "python",
   "pygments_lexer": "ipython3",
   "version": "3.12.2"
  }
 },
 "nbformat": 4,
 "nbformat_minor": 2
}
