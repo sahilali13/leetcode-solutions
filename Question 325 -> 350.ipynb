{
 "cells": [
  {
   "cell_type": "markdown",
   "metadata": {},
   "source": [
    "#### Prerequisites\n"
   ]
  },
  {
   "cell_type": "code",
   "execution_count": null,
   "metadata": {},
   "outputs": [],
   "source": [
    "from itertools import combinations\n",
    "from math import log\n",
    "from typing import List"
   ]
  },
  {
   "cell_type": "markdown",
   "metadata": {},
   "source": [
    "## 326. Power of Three\n",
    "\n",
    "    Difficulty - Easy\n",
    "    Topic - Math\n",
    "    Algo - Recursion\n",
    "\n",
    "Given an integer `n`, return _<code>true</code> if it is a power of three. Otherwise, return <code>false</code>_.\n",
    "\n",
    "An integer `n` is a power of three, if there exists an integer `x` such that <code>n == 3<sup>x</sup></code>.\n",
    "\n",
    "**Constraints:**\n",
    "\n",
    "-   <code>-2<sup>31</sup> <= n <= 2<sup>31</sup> - 1</code>\n"
   ]
  },
  {
   "cell_type": "code",
   "execution_count": null,
   "metadata": {},
   "outputs": [],
   "source": [
    "class Solution:\n",
    "    def isPowerOfThree(self, n: int) -> bool:\n",
    "        if n <= 0:\n",
    "            return False\n",
    "        power_of_three = round(log(n, 3))\n",
    "        return 3**power_of_three == n\n",
    "\n",
    "\n",
    "if __name__ == \"__main__\":\n",
    "    sol = Solution()\n",
    "    cases = [{\"n\": 27}, {\"n\": 0}, {\"n\": -1}]\n",
    "    for case in cases:\n",
    "        print(sol.isPowerOfThree(case[\"n\"]))"
   ]
  },
  {
   "cell_type": "markdown",
   "metadata": {},
   "source": [
    "## 330. Patching Array\n",
    "\n",
    "    Difficulty - Hard\n",
    "    Topic - Array\n",
    "    Algo - Greedy\n",
    "\n",
    "Given a sorted integer array `nums` and an integer `n`, add/patch elements to the array such that any number in the range `[1, n]` inclusive can be formed by the sum of some elements in the array.\n",
    "\n",
    "Return _the minimum number of patches required_.\n",
    "\n",
    "**Constraints:**\n",
    "\n",
    "-   `1 <= nums.length <= 1000`\n",
    "-   <code>1 <= nums[i] <= 10<sup>4</sup></code>\n",
    "-   `nums` is sorted in **ascending order**.\n",
    "-   <code>1 <= n <= 2<sup>31</sup> - 1</code>\n"
   ]
  },
  {
   "cell_type": "code",
   "execution_count": null,
   "metadata": {},
   "outputs": [],
   "source": [
    "class Solution:\n",
    "    def minPatches(self, nums: List[int], n: int) -> int:\n",
    "        miss = 1\n",
    "        i = 0\n",
    "        patches = 0\n",
    "        while miss <= n:\n",
    "            if i < len(nums) and nums[i] <= miss:\n",
    "                miss += nums[i]\n",
    "                i += 1\n",
    "            else:\n",
    "                miss += miss\n",
    "                patches += 1\n",
    "        return patches\n",
    "\n",
    "\n",
    "if __name__ == \"__main__\":\n",
    "    sol = Solution()\n",
    "    cases = [\n",
    "        {\"nums\": [1, 3], \"n\": 6},\n",
    "        {\"nums\": [1, 5, 10], \"n\": 20},\n",
    "        {\"nums\": [1, 2, 2], \"n\": 5},\n",
    "    ]\n",
    "    for case in cases:\n",
    "        print(sol.minPatches(case[\"nums\"], case[\"n\"]))"
   ]
  },
  {
   "cell_type": "markdown",
   "metadata": {},
   "source": [
    "## 344. Reverse String\n",
    "\n",
    "    Difficulty - Easy\n",
    "    Topic - String\n",
    "    Algo - Two Pointers\n",
    "\n",
    "Write a function that reverses a string. The input string is given as an array of characters `s`.\n",
    "\n",
    "You must do this by modifying the input array **in-place** with `O(1)` extra memory.\n",
    "\n",
    "**Constraints:**\n",
    "\n",
    "-   <code>1 <= s.length <= 10<sup>5</sup></code>\n",
    "-   `s[i]` is a **printable ascii character**.\n"
   ]
  },
  {
   "cell_type": "code",
   "execution_count": null,
   "metadata": {},
   "outputs": [],
   "source": [
    "class Solution:\n",
    "    def reverseString(self, s: List[str]) -> None:\n",
    "        \"\"\"\n",
    "        Do not return anything, modify s in-place instead.\n",
    "        \"\"\"\n",
    "        leftPointer, rightPointer = 0, len(s) - 1\n",
    "        while leftPointer < rightPointer:\n",
    "            s[leftPointer], s[rightPointer] = s[rightPointer], s[leftPointer]\n",
    "            leftPointer += 1\n",
    "            rightPointer -= 1\n",
    "\n",
    "\n",
    "if __name__ == \"__main__\":\n",
    "    sol = Solution()\n",
    "    cases = [{\"s\": [\"h\", \"e\", \"l\", \"l\", \"o\"]}, {\"s\": [\"H\", \"a\", \"n\", \"n\", \"a\", \"h\"]}]\n",
    "    for case in cases:\n",
    "        print(\"\".join(case[\"s\"]), end=\"\\t=>\\t\")\n",
    "        sol.reverseString(case[\"s\"])\n",
    "        print(\"\".join(case[\"s\"]))"
   ]
  }
 ],
 "metadata": {
  "kernelspec": {
   "display_name": "Python 3",
   "language": "python",
   "name": "python3"
  },
  "language_info": {
   "codemirror_mode": {
    "name": "ipython",
    "version": 3
   },
   "file_extension": ".py",
   "mimetype": "text/x-python",
   "name": "python",
   "nbconvert_exporter": "python",
   "pygments_lexer": "ipython3",
   "version": "3.12.2"
  }
 },
 "nbformat": 4,
 "nbformat_minor": 2
}
