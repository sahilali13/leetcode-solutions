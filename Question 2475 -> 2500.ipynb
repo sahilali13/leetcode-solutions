{
 "cells": [
  {
   "cell_type": "markdown",
   "metadata": {},
   "source": [
    "#### Prerequisites\n"
   ]
  },
  {
   "cell_type": "code",
   "execution_count": null,
   "metadata": {},
   "outputs": [],
   "source": [
    "from typing import List, Optional\n",
    "\n",
    "\n",
    "class ListNode:\n",
    "    def __init__(self, val: int = 0, next=None) -> None:\n",
    "        self.val = val\n",
    "        self.next = next\n",
    "\n",
    "\n",
    "class LinkedList:\n",
    "    def __init__(self, values: List) -> None:\n",
    "        if not values:\n",
    "            self.head = None\n",
    "\n",
    "        self.head = ListNode(values[0])\n",
    "        current = self.head\n",
    "\n",
    "        for value in values[1:]:\n",
    "            current.next = ListNode(value)\n",
    "            current = current.next\n",
    "\n",
    "    def __str__(self) -> str:\n",
    "        s = \"\"\n",
    "        current = self.head\n",
    "        while current:\n",
    "            s += str(current.val)\n",
    "            s += \" -> \" if current.next else \"\"\n",
    "            current = current.next\n",
    "        return s"
   ]
  },
  {
   "cell_type": "markdown",
   "metadata": {},
   "source": [
    "## 2487. Remove Nodes From Linked List\n",
    "\n",
    "    Difficulty - Medium\n",
    "    Topics - Linked List, Stack\n",
    "    Algo - Recursion\n",
    "\n",
    "You are given the `head` of a linked list.\n",
    "\n",
    "Remove every node which has a node with a greater value anywhere to the right side of it.\n",
    "\n",
    "Return _the_ `head` _of the modified linked list_.\n"
   ]
  },
  {
   "cell_type": "code",
   "execution_count": null,
   "metadata": {},
   "outputs": [],
   "source": [
    "class Solution:\n",
    "    def removeNodes(self, head: Optional[ListNode]) -> Optional[ListNode]:\n",
    "        if not head:\n",
    "            return None\n",
    "\n",
    "        def reverse_linked_list(head: ListNode) -> ListNode:\n",
    "            prev = None\n",
    "            current = head\n",
    "\n",
    "            while current:\n",
    "                next_node = current.next\n",
    "                current.next = prev\n",
    "                prev = current\n",
    "                current = next_node\n",
    "\n",
    "            return prev\n",
    "\n",
    "        # Reverse the linked list\n",
    "        head = reverse_linked_list(head)\n",
    "\n",
    "        dummy = ListNode(0)\n",
    "        dummy.next = head\n",
    "\n",
    "        max_val = head.val\n",
    "        prev = dummy\n",
    "        current = head\n",
    "\n",
    "        # Remove nodes with values less than max_val\n",
    "        while current:\n",
    "            if current.val < max_val:\n",
    "                prev.next = current.next\n",
    "            else:\n",
    "                max_val = max(max_val, current.val)\n",
    "                prev = current\n",
    "            current = current.next\n",
    "\n",
    "        # Reverse the linked list again\n",
    "        head = reverse_linked_list(dummy.next)\n",
    "\n",
    "        return head\n",
    "\n",
    "\n",
    "if __name__ == \"__main__\":\n",
    "    sol = Solution()\n",
    "    cases = [\n",
    "        {\"head\": [5, 2, 13, 3, 8]},\n",
    "        {\"head\": [1, 1, 1, 1]},\n",
    "    ]\n",
    "    for case in cases:\n",
    "        linkedList = LinkedList(case[\"head\"])\n",
    "        print(linkedList, end=\"\\t|| \")\n",
    "\n",
    "        linkedList.head = sol.removeNodes(linkedList.head)\n",
    "        print(linkedList)"
   ]
  }
 ],
 "metadata": {
  "kernelspec": {
   "display_name": "Python 3",
   "language": "python",
   "name": "python3"
  },
  "language_info": {
   "codemirror_mode": {
    "name": "ipython",
    "version": 3
   },
   "file_extension": ".py",
   "mimetype": "text/x-python",
   "name": "python",
   "nbconvert_exporter": "python",
   "pygments_lexer": "ipython3",
   "version": "3.12.2"
  }
 },
 "nbformat": 4,
 "nbformat_minor": 2
}
