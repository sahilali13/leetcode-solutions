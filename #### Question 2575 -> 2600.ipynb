{
 "cells": [
  {
   "cell_type": "markdown",
   "metadata": {},
   "source": [
    "#### Prerequisites\n"
   ]
  },
  {
   "cell_type": "code",
   "execution_count": null,
   "metadata": {},
   "outputs": [],
   "source": [
    "from collections import defaultdict\n",
    "from typing import List"
   ]
  },
  {
   "cell_type": "markdown",
   "metadata": {},
   "source": [
    "## 2597. The Number of Beautiful Subsets\n",
    "\n",
    "    Difficulty - Medium\n",
    "    Topic - List\n",
    "    Algos - Dynamic Programming, Backtracking, Sorting\n",
    "\n",
    "You are given an array `nums` of positive integers and a **positive** integer `k`.\n",
    "\n",
    "A subset of `nums` is **beautiful** if it does not contain two integers with an absolute difference equal to `k`.\n",
    "\n",
    "Return _the number of **non-empty beautiful** subsets of the array_ `nums`.\n",
    "\n",
    "A **subset** of `nums` is an array that can be obtained by deleting some (possibly none) elements from `nums`. Two subsets are different if and only if the chosen indices to delete are different.\n"
   ]
  },
  {
   "cell_type": "code",
   "execution_count": null,
   "metadata": {},
   "outputs": [],
   "source": [
    "class Solution:\n",
    "    def beautifulSubsets(self, nums: List[int], k: int) -> int:\n",
    "        total_count = 1\n",
    "        freq_map = defaultdict(dict)\n",
    "\n",
    "        # Calculate frequencies based on remainder\n",
    "        for num in nums:\n",
    "            freq_map[num % k][num] = freq_map[num % k].get(num, 0) + 1\n",
    "\n",
    "        # Iterate through each remainder group\n",
    "        for fr in freq_map.values():\n",
    "            prev_num, curr, prev1, prev2 = -k, 1, 1, 0\n",
    "\n",
    "            # Iterate through each number in the current remainder group\n",
    "            for num, freq in sorted(fr.items()):\n",
    "                # Count of subsets skipping the current number\n",
    "                skip = prev1\n",
    "\n",
    "                # Count of subsets including the current number\n",
    "                # Check if the current number and the previous number\n",
    "                # form a beautiful pair\n",
    "                if num - prev_num == k:\n",
    "                    take = ((1 << freq) - 1) * prev2\n",
    "                else:\n",
    "                    take = ((1 << freq) - 1) * prev1\n",
    "\n",
    "                # Store the total count for the current number\n",
    "                curr = skip + take\n",
    "                prev2, prev1 = prev1, curr\n",
    "                prev_num = num\n",
    "            total_count *= curr\n",
    "        return total_count - 1\n",
    "\n",
    "\n",
    "if __name__ == \"__main__\":\n",
    "    sol = Solution()\n",
    "    cases = [\n",
    "        {\"nums\": [1, 3, 5], \"k\": 2},\n",
    "        {\"nums\": [1, 2, 3, 4], \"k\": 2},\n",
    "        {\"nums\": [2, 4, 6], \"k\": 2},\n",
    "        {\"nums\": [1], \"k\": 1},\n",
    "        {\"nums\": [4, 2, 5, 9, 10, 3], \"k\": 1},\n",
    "    ]\n",
    "    for case in cases:\n",
    "        print(sol.beautifulSubsets(case[\"nums\"], case[\"k\"]))"
   ]
  }
 ],
 "metadata": {
  "kernelspec": {
   "display_name": "Python 3",
   "language": "python",
   "name": "python3"
  },
  "language_info": {
   "codemirror_mode": {
    "name": "ipython",
    "version": 3
   },
   "file_extension": ".py",
   "mimetype": "text/x-python",
   "name": "python",
   "nbconvert_exporter": "python",
   "pygments_lexer": "ipython3",
   "version": "3.12.2"
  }
 },
 "nbformat": 4,
 "nbformat_minor": 2
}
