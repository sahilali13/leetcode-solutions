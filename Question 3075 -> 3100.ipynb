{
 "cells": [
  {
   "cell_type": "markdown",
   "metadata": {},
   "source": [
    "#### Prerequisites\n"
   ]
  },
  {
   "cell_type": "code",
   "execution_count": null,
   "metadata": {},
   "outputs": [],
   "source": [
    "from typing import List"
   ]
  },
  {
   "cell_type": "markdown",
   "metadata": {},
   "source": [
    "## 3075. Maximize Happiness of Selected Children\n",
    "\n",
    "    Difficulty - Medium\n",
    "    Topic - Array\n",
    "    Algos - Greedy, Sorting\n",
    "\n",
    "You are given an array `happiness` of length `n`, and a **positive** integer `k`.\n",
    "\n",
    "There are `n` children standing in a queue, where the `ith` child has **happiness value** `happiness[i]`. You want to select `k` children from these `n` children in `k` turns.\n",
    "\n",
    "In each turn, when you select a child, the **happiness value** of all the children that have **not** been selected till now decreases by `1`. Note that the happiness value **cannot** become negative and gets decremented **only** if it is positive.\n",
    "\n",
    "Return _the **maximum** sum of the happiness values of the selected children you can achieve by selecting_ `k` _children_.\n"
   ]
  },
  {
   "cell_type": "code",
   "execution_count": null,
   "metadata": {},
   "outputs": [],
   "source": [
    "class Solution:\n",
    "    def maximumHappinessSum(self, happiness: List[int], k: int) -> int:\n",
    "        happiness.sort()\n",
    "        res = 0\n",
    "        for i in range(k):\n",
    "            temp = happiness[-1 - i] - i\n",
    "            if temp < 1:\n",
    "                break\n",
    "            res += temp\n",
    "        return res\n",
    "\n",
    "\n",
    "if __name__ == \"__main__\":\n",
    "    sol = Solution()\n",
    "    cases = [\n",
    "        {\"happiness\": [1, 2, 3], \"k\": 2},\n",
    "        {\"happiness\": [1, 1, 1, 1], \"k\": 2},\n",
    "        {\"happiness\": [2, 3, 4, 5], \"k\": 1},\n",
    "        {\"happiness\": [12, 1, 42], \"k\": 3},\n",
    "    ]\n",
    "    for case in cases:\n",
    "        print(sol.maximumHappinessSum(case[\"happiness\"], case[\"k\"]))"
   ]
  }
 ],
 "metadata": {
  "kernelspec": {
   "display_name": "Python 3",
   "language": "python",
   "name": "python3"
  },
  "language_info": {
   "codemirror_mode": {
    "name": "ipython",
    "version": 3
   },
   "file_extension": ".py",
   "mimetype": "text/x-python",
   "name": "python",
   "nbconvert_exporter": "python",
   "pygments_lexer": "ipython3",
   "version": "3.12.2"
  }
 },
 "nbformat": 4,
 "nbformat_minor": 2
}
