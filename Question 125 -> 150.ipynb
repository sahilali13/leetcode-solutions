{
 "cells": [
  {
   "cell_type": "markdown",
   "metadata": {},
   "source": [
    "#### Prerequisites\n"
   ]
  },
  {
   "cell_type": "code",
   "execution_count": null,
   "metadata": {},
   "outputs": [],
   "source": [
    "from typing import List"
   ]
  },
  {
   "cell_type": "markdown",
   "metadata": {},
   "source": [
    "## 136. Single Number\n",
    "\n",
    "    Difficulty - Easy\n",
    "    Topic - Array\n",
    "    Algo - Bit Manipulation\n",
    "\n",
    "Given a **non-empty** array of integers `nums`, every element appears _twice_ except for one. Find that single one.\n",
    "\n",
    "You must implement a solution with a linear runtime complexity and use only constant extra space.\n"
   ]
  },
  {
   "cell_type": "code",
   "execution_count": null,
   "metadata": {},
   "outputs": [],
   "source": [
    "class Solution:\n",
    "    def singleNumber(self, nums: List[int]) -> int:\n",
    "        result = 0\n",
    "        for num in nums:\n",
    "            result ^= num\n",
    "        return result\n",
    "\n",
    "\n",
    "if __name__ == \"__main__\":\n",
    "    sol = Solution()\n",
    "    cases = [\n",
    "        {\"nums\": [2, 2, 1]},\n",
    "        {\"nums\": [4, 1, 2, 1, 2]},\n",
    "        {\"nums\": [1]},\n",
    "    ]\n",
    "    for case in cases:\n",
    "        print(sol.singleNumber(case[\"nums\"]))"
   ]
  }
 ],
 "metadata": {
  "kernelspec": {
   "display_name": "Python 3",
   "language": "python",
   "name": "python3"
  },
  "language_info": {
   "codemirror_mode": {
    "name": "ipython",
    "version": 3
   },
   "file_extension": ".py",
   "mimetype": "text/x-python",
   "name": "python",
   "nbconvert_exporter": "python",
   "pygments_lexer": "ipython3",
   "version": "3.12.2"
  }
 },
 "nbformat": 4,
 "nbformat_minor": 2
}
