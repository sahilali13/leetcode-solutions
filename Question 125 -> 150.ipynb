{
 "cells": [
  {
   "cell_type": "markdown",
   "metadata": {},
   "source": [
    "#### Prerequisites\n"
   ]
  },
  {
   "cell_type": "code",
   "execution_count": null,
   "metadata": {},
   "outputs": [],
   "source": [
    "from typing import List"
   ]
  },
  {
   "cell_type": "markdown",
   "metadata": {},
   "source": [
    "## 131. Palindrome Partitioning\n",
    "\n",
    "    Difficulty - Medium\n",
    "    Topic - String\n",
    "    Algo - Dynamic Programming, Backtracking\n",
    "\n",
    "Given a string `s`, partition `s` such that every **substring** of the partition is a **palindrome**.\n",
    "\n",
    "Return _all possible palindrome partitioning of_ `s`.\n"
   ]
  },
  {
   "cell_type": "code",
   "execution_count": null,
   "metadata": {},
   "outputs": [],
   "source": [
    "from typing import List\n",
    "\n",
    "\n",
    "class Solution:\n",
    "    def partition(self, s: str) -> List[List[str]]:\n",
    "        n = len(s)\n",
    "        dp = [[False] * n for _ in range(n)]\n",
    "        partitions = []\n",
    "\n",
    "        def backtrack(start, path):\n",
    "            if start == n:\n",
    "                partitions.append(path[:])\n",
    "                return\n",
    "\n",
    "            for end in range(start, n):\n",
    "                if s[start] == s[end] and (end - start <= 2 or dp[start + 1][end - 1]):\n",
    "                    dp[start][end] = True\n",
    "                    path.append(s[start : end + 1])\n",
    "                    backtrack(end + 1, path)\n",
    "                    path.pop()\n",
    "\n",
    "        backtrack(0, [])\n",
    "        return partitions\n",
    "\n",
    "\n",
    "if __name__ == \"__main__\":\n",
    "    sol = Solution()\n",
    "    cases = [\n",
    "        {\"s\": \"aab\"},\n",
    "        {\"s\": \"a\"},\n",
    "    ]\n",
    "    for case in cases:\n",
    "        print(sol.partition(case[\"s\"]))"
   ]
  },
  {
   "cell_type": "markdown",
   "metadata": {},
   "source": [
    "## 136. Single Number\n",
    "\n",
    "    Difficulty - Easy\n",
    "    Topic - Array\n",
    "    Algo - Bit Manipulation\n",
    "\n",
    "Given a **non-empty** array of integers `nums`, every element appears _twice_ except for one. Find that single one.\n",
    "\n",
    "You must implement a solution with a linear runtime complexity and use only constant extra space.\n"
   ]
  },
  {
   "cell_type": "code",
   "execution_count": null,
   "metadata": {},
   "outputs": [],
   "source": [
    "class Solution:\n",
    "    def singleNumber(self, nums: List[int]) -> int:\n",
    "        result = 0\n",
    "        for num in nums:\n",
    "            result ^= num\n",
    "        return result\n",
    "\n",
    "\n",
    "if __name__ == \"__main__\":\n",
    "    sol = Solution()\n",
    "    cases = [\n",
    "        {\"nums\": [2, 2, 1]},\n",
    "        {\"nums\": [4, 1, 2, 1, 2]},\n",
    "        {\"nums\": [1]},\n",
    "    ]\n",
    "    for case in cases:\n",
    "        print(sol.singleNumber(case[\"nums\"]))"
   ]
  }
 ],
 "metadata": {
  "kernelspec": {
   "display_name": "Python 3",
   "language": "python",
   "name": "python3"
  },
  "language_info": {
   "codemirror_mode": {
    "name": "ipython",
    "version": 3
   },
   "file_extension": ".py",
   "mimetype": "text/x-python",
   "name": "python",
   "nbconvert_exporter": "python",
   "pygments_lexer": "ipython3",
   "version": "3.12.2"
  }
 },
 "nbformat": 4,
 "nbformat_minor": 2
}
