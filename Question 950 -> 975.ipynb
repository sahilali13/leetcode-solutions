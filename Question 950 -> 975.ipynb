{
 "cells": [
  {
   "cell_type": "markdown",
   "metadata": {},
   "source": [
    "#### Prerequisites\n"
   ]
  },
  {
   "cell_type": "code",
   "execution_count": 3,
   "metadata": {},
   "outputs": [],
   "source": [
    "from collections import deque\n",
    "from typing import List"
   ]
  },
  {
   "cell_type": "markdown",
   "metadata": {},
   "source": [
    "## 950. Reveal Cards In Increasing Order\n",
    "\n",
    "    Difficulty - Medium\n",
    "    Topics - Array, Queue\n",
    "    Algos - Sorting\n",
    "\n",
    "You are given an integer array deck. There is a deck of cards where every card has a unique integer. The integer on the ith card is deck[i].\n",
    "\n",
    "You can order the deck in any order you want. Initially, all the cards start face down (unrevealed) in one deck.\n",
    "\n",
    "You will do the following steps repeatedly until all cards are revealed:\n",
    "\n",
    "1. Take the top card of the deck, reveal it, and take it out of the deck.\n",
    "2. If there are still cards in the deck then put the next top card of the deck at the bottom of the deck.\n",
    "3. If there are still unrevealed cards, go back to step 1. Otherwise, stop.\n",
    "   Return an ordering of the deck that would reveal the cards in increasing order.\n",
    "\n",
    "Note that the first entry in the answer is considered to be the top of the deck.\n"
   ]
  },
  {
   "cell_type": "code",
   "execution_count": 4,
   "metadata": {},
   "outputs": [
    {
     "name": "stdout",
     "output_type": "stream",
     "text": [
      "[2, 13, 3, 11, 5, 17, 7]\n",
      "[1, 1000]\n"
     ]
    }
   ],
   "source": [
    "class Solution:\n",
    "    def deckRevealedIncreasing(self, deck: List[int]) -> List[int]:\n",
    "        deck.sort(reverse=True)\n",
    "        result = deque()\n",
    "\n",
    "        for card in deck:\n",
    "            if result:\n",
    "                result.rotate(1)\n",
    "            result.appendleft(card)\n",
    "\n",
    "        return list(result)\n",
    "\n",
    "\n",
    "if __name__ == \"__main__\":\n",
    "    sol = Solution()\n",
    "    cases = [\n",
    "        {\"deck\": [17, 13, 11, 2, 3, 5, 7]},\n",
    "        {\"deck\": [1, 1000]},\n",
    "    ]\n",
    "    for case in cases:\n",
    "        print(sol.deckRevealedIncreasing(case[\"deck\"]))"
   ]
  }
 ],
 "metadata": {
  "kernelspec": {
   "display_name": "Python 3",
   "language": "python",
   "name": "python3"
  },
  "language_info": {
   "codemirror_mode": {
    "name": "ipython",
    "version": 3
   },
   "file_extension": ".py",
   "mimetype": "text/x-python",
   "name": "python",
   "nbconvert_exporter": "python",
   "pygments_lexer": "ipython3",
   "version": "3.12.2"
  }
 },
 "nbformat": 4,
 "nbformat_minor": 2
}
