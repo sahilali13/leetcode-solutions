{
 "cells": [
  {
   "cell_type": "markdown",
   "metadata": {},
   "source": [
    "#### Prerequisites\n"
   ]
  },
  {
   "cell_type": "code",
   "execution_count": null,
   "metadata": {},
   "outputs": [],
   "source": [
    "from collections import deque\n",
    "from typing import List"
   ]
  },
  {
   "cell_type": "markdown",
   "metadata": {},
   "source": [
    "## 950. Reveal Cards In Increasing Order\n",
    "\n",
    "    Difficulty - Medium\n",
    "    Topics - Array, Queue\n",
    "    Algo - Sorting\n",
    "\n",
    "You are given an integer array `deck`. There is a deck of cards where every card has a unique integer. The integer on the <code>i<sup>th</sup></code> card is `deck[i]`.\n",
    "\n",
    "You can order the deck in any order you want. Initially, all the cards start face down (unrevealed) in one deck.\n",
    "\n",
    "You will do the following steps repeatedly until all cards are revealed:\n",
    "\n",
    "1. Take the top card of the deck, reveal it, and take it out of the deck.\n",
    "2. If there are still cards in the deck then put the next top card of the deck at the bottom of the deck.\n",
    "3. If there are still unrevealed cards, go back to step 1. Otherwise, stop.\n",
    "\n",
    "Return _an ordering of the deck that would reveal the cards in increasing order_.\n",
    "\n",
    "Note that the first entry in the answer is considered to be the top of the deck.\n",
    "\n",
    "**Constraints:**\n",
    "\n",
    "-   `1 <= deck.length <= 1000`\n",
    "-   <code>1 <= deck[i] <= 10<sup>6</sup></code>\n",
    "-   All the values of `deck` are **unique**.\n"
   ]
  },
  {
   "cell_type": "code",
   "execution_count": 26,
   "metadata": {},
   "outputs": [
    {
     "name": "stdout",
     "output_type": "stream",
     "text": [
      "[2, 13, 3, 11, 5, 17, 7]\n",
      "[1, 1000]\n"
     ]
    }
   ],
   "source": [
    "class Solution:\n",
    "    def deckRevealedIncreasing(self, deck: List[int]) -> List[int]:\n",
    "        deck.sort(reverse=True)\n",
    "        result = deque()\n",
    "\n",
    "        for card in deck:\n",
    "            if result:\n",
    "                result.rotate(1)\n",
    "            result.appendleft(card)\n",
    "\n",
    "        return list(result)\n",
    "\n",
    "\n",
    "if __name__ == \"__main__\":\n",
    "    sol = Solution()\n",
    "    cases = [\n",
    "        {\"deck\": [17, 13, 11, 2, 3, 5, 7]},\n",
    "        {\"deck\": [1, 1000]},\n",
    "    ]\n",
    "    for case in cases:\n",
    "        print(sol.deckRevealedIncreasing(case[\"deck\"]))"
   ]
  },
  {
   "cell_type": "markdown",
   "metadata": {},
   "source": [
    "## 974. Subarray Sums Divisible by K\n",
    "\n",
    "    Difficulty - Medium\n",
    "    Topics - Array, Hash Table\n",
    "    Algo - Prefix Sum\n",
    "\n",
    "Given an integer array `nums` and an integer `k`, return _the number of non-empty **subarrays** that have a sum divisible by_ `k`.\n",
    "\n",
    "A **subarray** is a **contiguous** part of an array.\n",
    "\n",
    "**Constraints:**\n",
    "\n",
    "-   <code>1 <= nums.length <= 3 \\* 10<sup>4</sup></code>\n",
    "-   <code>-10<sup>4</sup> <= nums[i] <= 10<sup>4</sup></code>\n",
    "-   <code>2 <= k <= 10<sup>4</sup></code>\n"
   ]
  },
  {
   "cell_type": "code",
   "execution_count": null,
   "metadata": {},
   "outputs": [],
   "source": [
    "class Solution:\n",
    "    def subarraysDivByK(self, nums: List[int], k: int) -> int:\n",
    "        remainder_count = {0: 1}\n",
    "        prefix_sum = 0\n",
    "        count = 0\n",
    "\n",
    "        for num in nums:\n",
    "            prefix_sum += num\n",
    "            remainder = prefix_sum % k\n",
    "            if remainder < 0:\n",
    "                remainder += k  # To handle negative remainders\n",
    "\n",
    "            if remainder in remainder_count:\n",
    "                count += remainder_count[remainder]\n",
    "                remainder_count[remainder] += 1\n",
    "            else:\n",
    "                remainder_count[remainder] = 1\n",
    "\n",
    "        return count\n",
    "\n",
    "\n",
    "if __name__ == \"__main__\":\n",
    "    sol = Solution()\n",
    "    cases = [\n",
    "        {\"nums\": [4, 5, 0, -2, -3, 1], \"k\": 5},  # 7\n",
    "        {\"nums\": [5], \"k\": 9},  # 0\n",
    "    ]\n",
    "    for case in cases:\n",
    "        print(sol.subarraysDivByK(case[\"nums\"], case[\"k\"]))"
   ]
  }
 ],
 "metadata": {
  "kernelspec": {
   "display_name": "Python 3",
   "language": "python",
   "name": "python3"
  },
  "language_info": {
   "codemirror_mode": {
    "name": "ipython",
    "version": 3
   },
   "file_extension": ".py",
   "mimetype": "text/x-python",
   "name": "python",
   "nbconvert_exporter": "python",
   "pygments_lexer": "ipython3",
   "version": "3.12.2"
  }
 },
 "nbformat": 4,
 "nbformat_minor": 2
}
