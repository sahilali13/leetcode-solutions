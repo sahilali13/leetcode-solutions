{
 "cells": [
  {
   "cell_type": "markdown",
   "metadata": {},
   "source": [
    "#### Prerequisites\n"
   ]
  },
  {
   "cell_type": "code",
   "execution_count": null,
   "metadata": {},
   "outputs": [],
   "source": [
    "from collections import deque\n",
    "from typing import List"
   ]
  },
  {
   "cell_type": "markdown",
   "metadata": {},
   "source": [
    "## 433. Minimum Genetic Mutation\n",
    "\n",
    "    Difficulty - Medium\n",
    "    Topics - String, Hash Table\n",
    "    Algo - BFS\n",
    "\n",
    "A gene string can be represented by an 8-character long string, with choices from `'A'`, `'C'`, `'G'`, and `'T'`.\n",
    "\n",
    "Suppose we need to investigate a mutation from a gene string `startGene` to a gene string `endGene` where one mutation is defined as one single character changed in the gene string.\n",
    "\n",
    "-   For example, `\"AACCGGTT\" --> \"AACCGGTA\"` is one mutation.\n",
    "\n",
    "There is also a gene bank `bank` that records all the valid gene mutations. A gene must be in `bank` to make it a valid gene string.\n",
    "\n",
    "Given the two gene strings `startGene` and `endGene` and the gene bank `bank`, return _the minimum number of mutations needed to mutate from_ `startGene` _to_ `endGene`. If there is no such a mutation, return `-1`.\n",
    "\n",
    "Note that the starting point is assumed to be valid, so it might not be included in the bank.\n",
    "\n",
    "**Constraints:**\n",
    "\n",
    "-   `0 <= bank.length <= 10`\n",
    "-   `startGene.length == endGene.length == bank[i].length == 8`\n",
    "-   `startGene`, `endGene`, and `bank[i]` consist of only the characters `['A', 'C', 'G', 'T']`.\n"
   ]
  },
  {
   "cell_type": "code",
   "execution_count": null,
   "metadata": {},
   "outputs": [],
   "source": [
    "class Solution:\n",
    "    def minMutation(self, startGene: str, endGene: str, bank: List[str]) -> int:\n",
    "        if endGene not in bank:\n",
    "            return -1\n",
    "\n",
    "        bank_set = set(bank)\n",
    "        queue = deque([(startGene, 0)])\n",
    "        visited = set([startGene])\n",
    "\n",
    "        while queue:\n",
    "            current_gene, mutations = queue.popleft()\n",
    "            if current_gene == endGene:\n",
    "                return mutations\n",
    "\n",
    "            for i in range(8):  # Gene length is always 8\n",
    "                for nucleotide in \"ACGT\":\n",
    "                    if nucleotide != current_gene[i]:\n",
    "                        mutated_gene = (\n",
    "                            current_gene[:i] + nucleotide + current_gene[i + 1 :]\n",
    "                        )\n",
    "                        if mutated_gene in bank_set and mutated_gene not in visited:\n",
    "                            visited.add(mutated_gene)\n",
    "                            queue.append((mutated_gene, mutations + 1))\n",
    "\n",
    "        return -1  # No valid mutation path found\n",
    "\n",
    "\n",
    "if __name__ == \"__main__\":\n",
    "    sol = Solution()\n",
    "    cases = [\n",
    "        {\"startGene\": \"AACCGGTT\", \"endGene\": \"AACCGGTA\", \"bank\": [\"AACCGGTA\"]},\n",
    "        {\n",
    "            \"startGene\": \"AACCGGTT\",\n",
    "            \"endGene\": \"AAACGGTA\",\n",
    "            \"bank\": [\"AACCGGTA\", \"AACCGCTA\", \"AAACGGTA\"],\n",
    "        },\n",
    "    ]\n",
    "    for case in cases:\n",
    "        print(sol.minMutation(case[\"startGene\"], case[\"endGene\"], case[\"bank\"]))"
   ]
  },
  {
   "cell_type": "markdown",
   "metadata": {},
   "source": [
    "## 442. Find All Duplicates in an Array\n",
    "\n",
    "    Difficulty - Medium\n",
    "    Topic - Array\n",
    "\n",
    "Given an integer array `nums` of length `n` where all the integers of `nums` are in the range `[1, n]` and each integer appears **once** or **twice**, return _an array of all the integers that appears **twice**_.\n",
    "\n",
    "You must write an algorithm that runs in `O(n)` time and uses only constant extra space.\n",
    "\n",
    "**Constraints:**\n",
    "\n",
    "-   `n == nums.length`\n",
    "-   <code>1 <= n <= 10<sup>5</sup></code>\n",
    "-   `1 <= nums[i] <= n`\n",
    "-   Each element in `nums` appears **once** or **twice**.\n"
   ]
  },
  {
   "cell_type": "code",
   "execution_count": null,
   "metadata": {},
   "outputs": [],
   "source": [
    "class Solution:\n",
    "    def findDuplicates(self, nums: List[int]) -> List[int]:\n",
    "        result = []\n",
    "        for num in nums:\n",
    "            index = abs(num) - 1\n",
    "            if nums[index] < 0:\n",
    "                result.append(abs(num))\n",
    "            else:\n",
    "                nums[index] *= -1\n",
    "        return result\n",
    "\n",
    "\n",
    "if __name__ == \"__main__\":\n",
    "    sol = Solution()\n",
    "    cases = [\n",
    "        {\"nums\": [4, 3, 2, 7, 8, 2, 3, 1]},\n",
    "        {\"nums\": [1, 1, 2]},\n",
    "        {\"nums\": [1]},\n",
    "    ]\n",
    "    for case in cases:\n",
    "        print(sol.findDuplicates(case[\"nums\"]))"
   ]
  }
 ],
 "metadata": {
  "kernelspec": {
   "display_name": "Python 3",
   "language": "python",
   "name": "python3"
  },
  "language_info": {
   "codemirror_mode": {
    "name": "ipython",
    "version": 3
   },
   "file_extension": ".py",
   "mimetype": "text/x-python",
   "name": "python",
   "nbconvert_exporter": "python",
   "pygments_lexer": "ipython3",
   "version": "3.12.2"
  }
 },
 "nbformat": 4,
 "nbformat_minor": 2
}
