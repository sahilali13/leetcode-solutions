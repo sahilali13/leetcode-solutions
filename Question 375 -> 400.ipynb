{
 "cells": [
  {
   "cell_type": "markdown",
   "metadata": {},
   "source": [
    "#### Prerequisites\n"
   ]
  },
  {
   "cell_type": "code",
   "execution_count": null,
   "metadata": {},
   "outputs": [],
   "source": [
    "import random\n",
    "from typing import List"
   ]
  },
  {
   "cell_type": "markdown",
   "metadata": {},
   "source": [
    "## 384. Shuffle an Array\n",
    "\n",
    "    Difficulty - Medium\n",
    "    Topics - Array, Math\n",
    "\n",
    "Given an integer array `nums`, design an algorithm to randomly shuffle the array. All permutations of the array should be **equally likely** as a result of the shuffling.\n",
    "\n",
    "Implement the `Solution` class:\n",
    "\n",
    "-   `Solution(int[] nums)` Initializes the object with the integer array `nums`.\n",
    "-   `int[] reset()` Resets the array to its original configuration and returns it.\n",
    "-   `int[] shuffle()` Returns a random shuffling of the array.\n"
   ]
  },
  {
   "cell_type": "code",
   "execution_count": null,
   "metadata": {},
   "outputs": [],
   "source": [
    "class Solution:\n",
    "    def __init__(self, nums: List[int]):\n",
    "        self.original = nums[:]\n",
    "        self.nums = nums[:]\n",
    "\n",
    "    def reset(self) -> List[int]:\n",
    "        self.nums = self.original[:]\n",
    "        return self.nums\n",
    "\n",
    "    def shuffle(self) -> List[int]:\n",
    "        for i in range(len(self.nums)):\n",
    "            swap_idx = random.randint(i, len(self.nums) - 1)\n",
    "            self.nums[i], self.nums[swap_idx] = self.nums[swap_idx], self.nums[i]\n",
    "        return self.nums\n",
    "\n",
    "\n",
    "if __name__ == \"__main__\":\n",
    "    sol = None\n",
    "    cases = [\n",
    "        {\n",
    "            \"operations\": [\"Solution\", \"shuffle\", \"reset\", \"shuffle\"],\n",
    "            \"inputs\": [[[1, 2, 3]], [], [], []],\n",
    "        }\n",
    "    ]\n",
    "    for case in cases:\n",
    "        result = []\n",
    "        operations = case[\"operations\"]\n",
    "        inputs = case[\"inputs\"]\n",
    "        for index in range(len(operations)):\n",
    "            if operations[index] == \"Solution\":\n",
    "                sol = Solution(inputs[index][0])\n",
    "                result.append(None)\n",
    "            elif operations[index] == \"shuffle\":\n",
    "                result.append(sol.shuffle())\n",
    "            elif operations[index] == \"reset\":\n",
    "                result.append(sol.reset())\n",
    "        print(result)"
   ]
  }
 ],
 "metadata": {
  "kernelspec": {
   "display_name": "Python 3",
   "language": "python",
   "name": "python3"
  },
  "language_info": {
   "codemirror_mode": {
    "name": "ipython",
    "version": 3
   },
   "file_extension": ".py",
   "mimetype": "text/x-python",
   "name": "python",
   "nbconvert_exporter": "python",
   "pygments_lexer": "ipython3",
   "version": "3.12.2"
  }
 },
 "nbformat": 4,
 "nbformat_minor": 2
}
