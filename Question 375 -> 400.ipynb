{
 "cells": [
  {
   "cell_type": "markdown",
   "metadata": {},
   "source": [
    "#### Prerequisites\n"
   ]
  },
  {
   "cell_type": "code",
   "execution_count": null,
   "metadata": {},
   "outputs": [],
   "source": [
    "from random import randint\n",
    "from typing import List"
   ]
  },
  {
   "cell_type": "markdown",
   "metadata": {},
   "source": [
    "## 384. Shuffle an Array\n",
    "\n",
    "    Difficulty - Medium\n",
    "    Topics - Array, Math\n",
    "\n",
    "Given an integer array `nums`, design an algorithm to randomly shuffle the array. All permutations of the array should be **equally likely** as a result of the shuffling.\n",
    "\n",
    "Implement the `Solution` class:\n",
    "\n",
    "-   `Solution(int[] nums)` Initializes the object with the integer array `nums`.\n",
    "-   `int[] reset()` Resets the array to its original configuration and returns it.\n",
    "-   `int[] shuffle()` Returns a random shuffling of the array.\n",
    "\n",
    "**Constraints:**\n",
    "\n",
    "-   `1 <= nums.length <= 50`\n",
    "-   <code>-10<sup>6</sup> <= nums[i] <= 10<sup>6</sup></code>\n",
    "-   All the elements of `nums` are **unique**.\n",
    "-   At most <code>10<sup>4</sup></code> calls in total will be made to `reset` and `shuffle`.\n"
   ]
  },
  {
   "cell_type": "code",
   "execution_count": null,
   "metadata": {},
   "outputs": [],
   "source": [
    "class Solution:\n",
    "    def __init__(self, nums: List[int]):\n",
    "        self.original = nums[:]\n",
    "        self.nums = nums[:]\n",
    "\n",
    "    def reset(self) -> List[int]:\n",
    "        self.nums = self.original[:]\n",
    "        return self.nums\n",
    "\n",
    "    def shuffle(self) -> List[int]:\n",
    "        shuffled = self.nums[:]\n",
    "        for i in range(len(shuffled)):\n",
    "            swap_idx = randint(i, len(shuffled) - 1)\n",
    "            shuffled[i], shuffled[swap_idx] = shuffled[swap_idx], shuffled[i]\n",
    "        return shuffled\n",
    "\n",
    "\n",
    "if __name__ == \"__main__\":\n",
    "    sol = None\n",
    "    cases = [\n",
    "        {\n",
    "            \"operations\": [\"Solution\", \"shuffle\", \"reset\", \"shuffle\"],\n",
    "            \"inputs\": [[[1, 2, 3]], [], [], []],\n",
    "        }\n",
    "    ]\n",
    "    for case in cases:\n",
    "        result = []\n",
    "        operations = case[\"operations\"]\n",
    "        inputs = case[\"inputs\"]\n",
    "        for index in range(len(operations)):\n",
    "            if operations[index] == \"Solution\":\n",
    "                sol = Solution(inputs[index][0])\n",
    "                result.append(None)\n",
    "            elif operations[index] == \"shuffle\":\n",
    "                result.append(sol.shuffle())\n",
    "            elif operations[index] == \"reset\":\n",
    "                result.append(sol.reset())\n",
    "        print(result)"
   ]
  },
  {
   "cell_type": "markdown",
   "metadata": {},
   "source": [
    "## 387. First Unique Character in a String\n",
    "\n",
    "    Difficulty - Easy\n",
    "    Topics - Hash Table, String, Queue\n",
    "\n",
    "Given a string `s`, _find the first non-repeating character in it and return its index_. If it does not exist, return `-1`.\n",
    "\n",
    "**Constraints:**\n",
    "\n",
    "-   <code>1 <= s.length <= 10<sup>5</sup></code>\n",
    "-   `s` consists of only lowercase English letters.\n"
   ]
  },
  {
   "cell_type": "code",
   "execution_count": null,
   "metadata": {},
   "outputs": [],
   "source": [
    "class Solution:\n",
    "    def firstUniqChar(self, s: str) -> int:\n",
    "        # Count occurrences of each character\n",
    "        count = [0] * 26\n",
    "        for char in s:\n",
    "            count[ord(char) - ord(\"a\")] += 1\n",
    "\n",
    "        # Find the index of the first unique character\n",
    "        for index, char in enumerate(s):\n",
    "            if count[ord(char) - ord(\"a\")] == 1:\n",
    "                return index\n",
    "\n",
    "        return -1\n",
    "\n",
    "\n",
    "if __name__ == \"__main__\":\n",
    "    sol = Solution()\n",
    "    cases = [{\"s\": \"leetcode\"}, {\"s\": \"loveleetcode\"}, {\"s\": \"aabb\"}]\n",
    "    for case in cases:\n",
    "        print(sol.firstUniqChar(case[\"s\"]))"
   ]
  }
 ],
 "metadata": {
  "kernelspec": {
   "display_name": "Python 3",
   "language": "python",
   "name": "python3"
  },
  "language_info": {
   "codemirror_mode": {
    "name": "ipython",
    "version": 3
   },
   "file_extension": ".py",
   "mimetype": "text/x-python",
   "name": "python",
   "nbconvert_exporter": "python",
   "pygments_lexer": "ipython3",
   "version": "3.12.2"
  }
 },
 "nbformat": 4,
 "nbformat_minor": 2
}
