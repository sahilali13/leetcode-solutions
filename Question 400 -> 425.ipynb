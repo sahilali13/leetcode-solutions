{
 "cells": [
  {
   "cell_type": "markdown",
   "metadata": {},
   "source": [
    "#### Prerequisites\n"
   ]
  },
  {
   "cell_type": "code",
   "execution_count": null,
   "metadata": {},
   "outputs": [],
   "source": [
    "from typing import List"
   ]
  },
  {
   "cell_type": "markdown",
   "metadata": {},
   "source": [
    "## 412. Fizz Buzz\n",
    "\n",
    "    Difficulty - Easy\n",
    "    Topics - Math, String\n",
    "\n",
    "Given an integer `n`, return _a string array_ `answer` _**(1-indexed)** where_:\n",
    "\n",
    "-   `answer[i] == \"FizzBuzz`\" if `i` is divisible by `3` and `5`.\n",
    "-   `answer[i] == \"Fizz`\" if `i` is divisible by `3`.\n",
    "-   `answer[i] == \"Buzz`\" if `i` is divisible by `5`.\n",
    "-   `answer[i] == i` (as a string) if none of the above conditions are true.\n",
    "\n",
    "**Constraints:**\n",
    "\n",
    "-   <code>1 <= n <= 10<sup>4</sup></code>\n"
   ]
  },
  {
   "cell_type": "code",
   "execution_count": null,
   "metadata": {},
   "outputs": [],
   "source": [
    "class Solution:\n",
    "    def fizzBuzz(self, n: int) -> List[str]:\n",
    "        res = []\n",
    "        for index in range(1, n + 1):\n",
    "            value = \"\"\n",
    "            if index % 3 == 0:\n",
    "                value += \"Fizz\"\n",
    "            if index % 5 == 0:\n",
    "                value += \"Buzz\"\n",
    "            if not value:\n",
    "                value = str(index)\n",
    "            res.append(value)\n",
    "        return res\n",
    "\n",
    "\n",
    "if __name__ == \"__main__\":\n",
    "    sol = Solution()\n",
    "    cases = [{\"n\": 3}, {\"n\": 5}, {\"n\": 15}]\n",
    "    for case in cases:\n",
    "        print(sol.fizzBuzz(case[\"n\"]))"
   ]
  }
 ],
 "metadata": {
  "kernelspec": {
   "display_name": "Python 3",
   "language": "python",
   "name": "python3"
  },
  "language_info": {
   "codemirror_mode": {
    "name": "ipython",
    "version": 3
   },
   "file_extension": ".py",
   "mimetype": "text/x-python",
   "name": "python",
   "nbconvert_exporter": "python",
   "pygments_lexer": "ipython3",
   "version": "3.12.2"
  }
 },
 "nbformat": 4,
 "nbformat_minor": 2
}
