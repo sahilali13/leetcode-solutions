{
 "cells": [
  {
   "cell_type": "markdown",
   "metadata": {},
   "source": [
    "#### Prerequisites\n"
   ]
  },
  {
   "cell_type": "code",
   "execution_count": null,
   "metadata": {},
   "outputs": [],
   "source": [
    "from collections import defaultdict\n",
    "from typing import List"
   ]
  },
  {
   "cell_type": "markdown",
   "metadata": {},
   "source": [
    "## 2958. Length of Longest Subarray With at Most K Frequency\n",
    "\n",
    "    Difficulty - Medium\n",
    "    Topic - Array\n",
    "    Algos - Hash Table, Sliding Window\n",
    "\n",
    "You are given an integer array nums and an integer k.\n",
    "\n",
    "The frequency of an element x is the number of times it occurs in an array.\n",
    "\n",
    "An array is called good if the frequency of each element in this array is less than or equal to k.\n",
    "\n",
    "Return the length of the longest good subarray of nums.\n",
    "\n",
    "A subarray is a contiguous non-empty sequence of elements within an array.\n"
   ]
  },
  {
   "cell_type": "code",
   "execution_count": null,
   "metadata": {},
   "outputs": [],
   "source": [
    "class Solution:\n",
    "    def maxSubarrayLength(self, nums: List[int], k: int) -> int:\n",
    "        left, max_length = 0, 0\n",
    "        memo = defaultdict(int)\n",
    "\n",
    "        for right, num in enumerate(nums):\n",
    "            memo[num] += 1\n",
    "            while memo[num] > k:\n",
    "                memo[nums[left]] -= 1\n",
    "                left += 1\n",
    "            max_length = max(max_length, right - left + 1)\n",
    "\n",
    "        return max_length\n",
    "\n",
    "\n",
    "if __name__ == \"__main__\":\n",
    "    sol = Solution()\n",
    "    cases = [\n",
    "        {\"nums\": [1, 2, 3, 1, 2, 3, 1, 2], \"k\": 2},\n",
    "        {\"nums\": [1, 2, 1, 2, 1, 2, 1, 2], \"k\": 1},\n",
    "        {\"nums\": [5, 5, 5, 5, 5, 5, 5], \"k\": 4},\n",
    "        {\"nums\": [3, 1, 1], \"k\": 1},\n",
    "    ]\n",
    "    for case in cases:\n",
    "        print(sol.maxSubarrayLength(case[\"nums\"], case[\"k\"]))"
   ]
  },
  {
   "cell_type": "markdown",
   "metadata": {},
   "source": [
    "## 2962. Count Subarrays Where Max Element Appears at Least K Times\n",
    "\n",
    "    Difficulty - Medium\n",
    "    Topic - Array\n",
    "    Algo - Sliding Window\n",
    "\n",
    "You are given an integer array nums and a positive integer k.\n",
    "\n",
    "Return the number of subarrays where the maximum element of nums appears at least k times in that subarray.\n",
    "\n",
    "A subarray is a contiguous sequence of elements within an array.\n"
   ]
  },
  {
   "cell_type": "code",
   "execution_count": 2,
   "metadata": {},
   "outputs": [
    {
     "name": "stdout",
     "output_type": "stream",
     "text": [
      "6\n",
      "0\n"
     ]
    }
   ],
   "source": [
    "class Solution:\n",
    "    def countSubarrays(self, nums: list[int], k: int) -> int:\n",
    "        ans, left, window_size = 0, 0, 0\n",
    "        maxNums = max(nums)\n",
    "\n",
    "        for num in nums:\n",
    "            if num == maxNums:\n",
    "                window_size += 1\n",
    "            while window_size == k:\n",
    "                if nums[left] == maxNums:\n",
    "                    window_size -= 1\n",
    "                left += 1\n",
    "            ans += left\n",
    "\n",
    "        return ans\n",
    "\n",
    "\n",
    "if __name__ == \"__main__\":\n",
    "    sol = Solution()\n",
    "    cases = [\n",
    "        {\"nums\": [1, 3, 2, 3, 3], \"k\": 2},\n",
    "        {\"nums\": [1, 4, 2, 1], \"k\": 3},\n",
    "    ]\n",
    "    for case in cases:\n",
    "        print(sol.countSubarrays(case[\"nums\"], case[\"k\"]))"
   ]
  }
 ],
 "metadata": {
  "kernelspec": {
   "display_name": "Python 3",
   "language": "python",
   "name": "python3"
  },
  "language_info": {
   "codemirror_mode": {
    "name": "ipython",
    "version": 3
   },
   "file_extension": ".py",
   "mimetype": "text/x-python",
   "name": "python",
   "nbconvert_exporter": "python",
   "pygments_lexer": "ipython3",
   "version": "3.12.2"
  }
 },
 "nbformat": 4,
 "nbformat_minor": 2
}
