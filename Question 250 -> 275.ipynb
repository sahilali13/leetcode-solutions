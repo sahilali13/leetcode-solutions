{
 "cells": [
  {
   "cell_type": "markdown",
   "metadata": {},
   "source": [
    "#### Prerequisites\n"
   ]
  },
  {
   "cell_type": "code",
   "execution_count": null,
   "metadata": {},
   "outputs": [],
   "source": [
    "from typing import List"
   ]
  },
  {
   "cell_type": "markdown",
   "metadata": {},
   "source": [
    "## 268. Missing Number\n",
    "\n",
    "    Difficulty - Easy\n",
    "    Topics - Array, Hash Table, Bit Manipulation\n",
    "    Algos - Sorting, Binary Search\n",
    "\n",
    "Given an array `nums` containing n distinct numbers in the range `[0, n]`, return _the only number in the range that is missing from the array_.\n",
    "\n",
    "**Constraints:**\n",
    "\n",
    "-   `n == nums.length`\n",
    "-   <code>1 <= n <= 10<sup>4</sup></code>\n",
    "-   `0 <= nums[i] <= n`\n",
    "-   All the numbers of `nums` are **unique**.\n"
   ]
  },
  {
   "cell_type": "code",
   "execution_count": null,
   "metadata": {},
   "outputs": [],
   "source": [
    "class Solution:\n",
    "    def missingNumber(self, nums: List[int]) -> int:\n",
    "        res = len(nums)\n",
    "        for index, num in enumerate(nums):\n",
    "            res ^= index ^ num\n",
    "        return res\n",
    "\n",
    "\n",
    "if __name__ == \"__main__\":\n",
    "    sol = Solution()\n",
    "    cases = [\n",
    "        {\"nums\": [3, 0, 1]},\n",
    "        {\"nums\": [0, 1]},\n",
    "        {\"nums\": [9, 6, 4, 2, 3, 5, 7, 0, 1]},\n",
    "    ]\n",
    "    for case in cases:\n",
    "        print(sol.missingNumber(case[\"nums\"]))"
   ]
  }
 ],
 "metadata": {
  "kernelspec": {
   "display_name": "Python 3",
   "language": "python",
   "name": "python3"
  },
  "language_info": {
   "codemirror_mode": {
    "name": "ipython",
    "version": 3
   },
   "file_extension": ".py",
   "mimetype": "text/x-python",
   "name": "python",
   "nbconvert_exporter": "python",
   "pygments_lexer": "ipython3",
   "version": "3.12.2"
  }
 },
 "nbformat": 4,
 "nbformat_minor": 2
}
