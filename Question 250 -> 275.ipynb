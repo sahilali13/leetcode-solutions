{
 "cells": [
  {
   "cell_type": "markdown",
   "metadata": {},
   "source": [
    "#### Prerequisites\n"
   ]
  },
  {
   "cell_type": "code",
   "execution_count": null,
   "metadata": {},
   "outputs": [],
   "source": [
    "from typing import List"
   ]
  },
  {
   "cell_type": "markdown",
   "metadata": {},
   "source": [
    "## 268. Missing Number\n",
    "\n",
    "    Difficulty - Easy\n",
    "    Topics - Array, Hash Table, Bit Manipulation\n",
    "    Algos - Sorting, Binary Search\n",
    "\n",
    "Given an array `nums` containing n distinct numbers in the range `[0, n]`, return _the only number in the range that is missing from the array_.\n",
    "\n",
    "**Constraints:**\n",
    "\n",
    "-   `n == nums.length`\n",
    "-   <code>1 <= n <= 10<sup>4</sup></code>\n",
    "-   `0 <= nums[i] <= n`\n",
    "-   All the numbers of `nums` are **unique**.\n"
   ]
  },
  {
   "cell_type": "code",
   "execution_count": null,
   "metadata": {},
   "outputs": [],
   "source": [
    "class Solution:\n",
    "    def missingNumber(self, nums: List[int]) -> int:\n",
    "        res = len(nums)\n",
    "        for index, num in enumerate(nums):\n",
    "            res ^= index ^ num\n",
    "        return res\n",
    "\n",
    "\n",
    "if __name__ == \"__main__\":\n",
    "    sol = Solution()\n",
    "    cases = [\n",
    "        {\"nums\": [3, 0, 1]},\n",
    "        {\"nums\": [0, 1]},\n",
    "        {\"nums\": [9, 6, 4, 2, 3, 5, 7, 0, 1]},\n",
    "    ]\n",
    "    for case in cases:\n",
    "        print(sol.missingNumber(case[\"nums\"]))"
   ]
  },
  {
   "cell_type": "markdown",
   "metadata": {},
   "source": [
    "## 274. H-Index\n",
    "\n",
    "    Difficulty - Medium\n",
    "    Topic - Array\n",
    "    Algo - Sorting\n",
    "\n",
    "Given an array of integers `citations` where `citations[i]` is the number of citations a researcher received for their <code>i<sup>th</sup></code> paper, return _the researcher's h-index_.\n",
    "\n",
    "According to the definition of h-index on Wikipedia: The h-index is defined as the maximum value of `h` such that the given researcher has published at least `h` papers that have each been cited at least `h` times.\n",
    "\n",
    "**Constraints:**\n",
    "\n",
    "-   `n == citations.length`\n",
    "-   `1 <= n <= 5000`\n",
    "-   `0 <= citations[i] <= 1000`\n"
   ]
  },
  {
   "cell_type": "code",
   "execution_count": null,
   "metadata": {},
   "outputs": [],
   "source": [
    "class Solution:\n",
    "    def hIndex(self, citations: List[int]) -> int:\n",
    "        n = len(citations)\n",
    "        counts = [0] * (n + 1)\n",
    "\n",
    "        for citation in citations:\n",
    "            counts[min(citation, n)] += 1\n",
    "\n",
    "        total = 0\n",
    "        for i in range(n, -1, -1):\n",
    "            total += counts[i]\n",
    "            if total >= i:\n",
    "                return i\n",
    "        return 0\n",
    "\n",
    "\n",
    "if __name__ == \"__main__\":\n",
    "    sol = Solution()\n",
    "    cases = [{\"citations\": [3, 0, 6, 1, 5]}, {\"citations\": [1, 3, 1]}]\n",
    "    for case in cases:\n",
    "        print(sol.hIndex(case[\"citations\"]))"
   ]
  }
 ],
 "metadata": {
  "kernelspec": {
   "display_name": "Python 3",
   "language": "python",
   "name": "python3"
  },
  "language_info": {
   "codemirror_mode": {
    "name": "ipython",
    "version": 3
   },
   "file_extension": ".py",
   "mimetype": "text/x-python",
   "name": "python",
   "nbconvert_exporter": "python",
   "pygments_lexer": "ipython3",
   "version": "3.12.2"
  }
 },
 "nbformat": 4,
 "nbformat_minor": 2
}
