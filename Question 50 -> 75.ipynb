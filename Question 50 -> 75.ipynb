{
 "cells": [
  {
   "cell_type": "markdown",
   "metadata": {},
   "source": [
    "#### Prerequisites\n"
   ]
  },
  {
   "cell_type": "code",
   "execution_count": null,
   "metadata": {},
   "outputs": [],
   "source": [
    "from typing import List"
   ]
  },
  {
   "cell_type": "markdown",
   "metadata": {},
   "source": [
    "## 53. Maximum Subarray\n",
    "\n",
    "    Difficulty - Medium\n",
    "    Topic - Array\n",
    "    Algos - Dynamic Programming, Divide and Conquer\n",
    "\n",
    "Given an integer array `nums`, find the **subarray** with the largest sum, and return _its sum_.\n"
   ]
  },
  {
   "cell_type": "code",
   "execution_count": null,
   "metadata": {},
   "outputs": [],
   "source": [
    "class Solution:\n",
    "    def maxSubArray(self, nums: List[int]) -> int:\n",
    "        current_max = global_max = nums[0]\n",
    "        for index in range(1, len(nums)):\n",
    "            current_max = max(nums[index], nums[index] + current_max)\n",
    "            global_max = max(global_max, current_max)\n",
    "        return global_max\n",
    "\n",
    "\n",
    "if __name__ == \"__main__\":\n",
    "    sol = Solution()\n",
    "    cases = [\n",
    "        {\"nums\": [-2, 1, -3, 4, -1, 2, 1, -5, 4]},\n",
    "        {\"nums\": [1]},\n",
    "        {\"nums\": [5, 4, -1, 7, 8]},\n",
    "        {\"nums\": [-1, 1]},\n",
    "    ]\n",
    "\n",
    "    for case in cases:\n",
    "        print(sol.maxSubArray(case[\"nums\"]))"
   ]
  },
  {
   "cell_type": "markdown",
   "metadata": {},
   "source": [
    "## 58. Length of Last Word\n",
    "\n",
    "    Difficulty - Easy\n",
    "    Topic - String\n",
    "\n",
    "Given a string s consisting of words and spaces, return the length of the last word in the string.\n",
    "\n",
    "A word is a maximal substring consisting of non-space characters only.\n"
   ]
  },
  {
   "cell_type": "code",
   "execution_count": null,
   "metadata": {},
   "outputs": [],
   "source": [
    "class Solution:\n",
    "    def lengthOfLastWord(self, s: str) -> int:\n",
    "        # Strip trailing whitespace and split the string into words\n",
    "        words = s.rstrip().split()\n",
    "        # Return the length of the last word if it exists, otherwise return 0\n",
    "        return len(words[-1]) if words else 0\n",
    "\n",
    "\n",
    "if __name__ == \"__main__\":\n",
    "    sol = Solution()\n",
    "    cases = [\n",
    "        {\"s\": \"Hello World\"},\n",
    "        {\"s\": \"   fly me   to   the moon  \"},\n",
    "        {\"s\": \"luffy is still joyboy\"},\n",
    "    ]\n",
    "    for case in cases:\n",
    "        print(sol.lengthOfLastWord(case[\"s\"]))"
   ]
  },
  {
   "cell_type": "markdown",
   "metadata": {},
   "source": [
    "## 66. Plus One\n",
    "\n",
    "    Difficulty - Easy\n",
    "    Topics - Array, Math\n",
    "\n",
    "You are given a **large integer** represented as an integer array `digits`, where each `digits[i]` is the `ith` digit of the integer. The digits are ordered from most significant to least significant in left-to-right order. The large integer does not contain any leading `0`'s.\n",
    "\n",
    "Increment the large integer by one and return _the resulting array of digits_.\n"
   ]
  },
  {
   "cell_type": "code",
   "execution_count": null,
   "metadata": {},
   "outputs": [],
   "source": [
    "class Solution:\n",
    "    def plusOne(self, digits: List[int]) -> List[int]:\n",
    "        n = len(digits)\n",
    "\n",
    "        # Traverse the list from the end to the beginning\n",
    "        for i in range(n - 1, -1, -1):\n",
    "            if digits[i] < 9:\n",
    "                digits[i] += 1\n",
    "                return digits\n",
    "            # Set the current digit to 0 if it was 9\n",
    "            digits[i] = 0\n",
    "\n",
    "        # If all the digits were 9, we need an extra digit at the beginning\n",
    "        return [1] + digits\n",
    "\n",
    "\n",
    "if __name__ == \"__main__\":\n",
    "    sol = Solution()\n",
    "    cases = [{\"digits\": [1, 2, 3]}, {\"digits\": [4, 3, 2, 1]}, {\"digits\": [9]}]\n",
    "    for case in cases:\n",
    "        print(case[\"digits\"], end=\"\\t->\\t \")\n",
    "        print(sol.plusOne(case[\"digits\"]))"
   ]
  },
  {
   "cell_type": "markdown",
   "metadata": {},
   "source": [
    "## 70. Climbing Stairs\n",
    "\n",
    "    Difficulty - Easy\n",
    "\n",
    "You are climbing a staircase. It takes `n` steps to reach the top.\n",
    "\n",
    "Each time you can either climb `1` or `2` steps. In how many distinct ways can you climb to the top?\n"
   ]
  },
  {
   "cell_type": "code",
   "execution_count": null,
   "metadata": {},
   "outputs": [],
   "source": [
    "class Solution:\n",
    "    def climbStairs(self, n: int) -> int:\n",
    "        if n == 0 or n == 1:\n",
    "            return 1\n",
    "        prev1, prev2 = 1, 1\n",
    "        for _ in range(2, n + 1):\n",
    "            curr = prev1 + prev2\n",
    "            prev2, prev1 = prev1, curr\n",
    "        return prev1\n",
    "\n",
    "\n",
    "if __name__ == \"__main__\":\n",
    "    sol = Solution()\n",
    "    cases = [\n",
    "        {\"n\": 2},\n",
    "        {\"n\": 3},\n",
    "    ]\n",
    "    for case in cases:\n",
    "        print(sol.climbStairs(case[\"n\"]))"
   ]
  }
 ],
 "metadata": {
  "kernelspec": {
   "display_name": "Python 3",
   "language": "python",
   "name": "python3"
  },
  "language_info": {
   "codemirror_mode": {
    "name": "ipython",
    "version": 3
   },
   "file_extension": ".py",
   "mimetype": "text/x-python",
   "name": "python",
   "nbconvert_exporter": "python",
   "pygments_lexer": "ipython3",
   "version": "3.12.2"
  }
 },
 "nbformat": 4,
 "nbformat_minor": 2
}
