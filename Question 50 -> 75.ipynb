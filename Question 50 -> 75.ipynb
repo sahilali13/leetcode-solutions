{
 "cells": [
  {
   "cell_type": "markdown",
   "metadata": {},
   "source": [
    "#### Prerequisites\n"
   ]
  },
  {
   "cell_type": "code",
   "execution_count": null,
   "metadata": {},
   "outputs": [],
   "source": [
    "from typing import List"
   ]
  },
  {
   "cell_type": "markdown",
   "metadata": {},
   "source": [
    "## 58. Length of Last Word\n",
    "\n",
    "    Difficulty - Easy\n",
    "    Topic - String\n",
    "\n",
    "Given a string s consisting of words and spaces, return the length of the last word in the string.\n",
    "\n",
    "A word is a maximal substring consisting of non-space characters only.\n"
   ]
  },
  {
   "cell_type": "code",
   "execution_count": null,
   "metadata": {},
   "outputs": [],
   "source": [
    "class Solution:\n",
    "    def lengthOfLastWord(self, s: str) -> int:\n",
    "        # Strip trailing whitespace and split the string into words\n",
    "        words = s.rstrip().split()\n",
    "        # Return the length of the last word if it exists, otherwise return 0\n",
    "        return len(words[-1]) if words else 0\n",
    "\n",
    "\n",
    "if __name__ == \"__main__\":\n",
    "    sol = Solution()\n",
    "    cases = [\n",
    "        {\"s\": \"Hello World\"},\n",
    "        {\"s\": \"   fly me   to   the moon  \"},\n",
    "        {\"s\": \"luffy is still joyboy\"},\n",
    "    ]\n",
    "    for case in cases:\n",
    "        print(sol.lengthOfLastWord(case[\"s\"]))"
   ]
  },
  {
   "cell_type": "markdown",
   "metadata": {},
   "source": [
    "## 66. Plus One\n",
    "\n",
    "    Difficulty - Easy\n",
    "    Topics - Array, Math\n",
    "\n",
    "You are given a **large integer** represented as an integer array `digits`, where each `digits[i]` is the `ith` digit of the integer. The digits are ordered from most significant to least significant in left-to-right order. The large integer does not contain any leading `0`'s.\n",
    "\n",
    "Increment the large integer by one and return _the resulting array of digits_.\n"
   ]
  },
  {
   "cell_type": "code",
   "execution_count": null,
   "metadata": {},
   "outputs": [],
   "source": [
    "class Solution:\n",
    "    def plusOne(self, digits: List[int]) -> List[int]:\n",
    "        n = len(digits)\n",
    "\n",
    "        # Traverse the list from the end to the beginning\n",
    "        for i in range(n - 1, -1, -1):\n",
    "            if digits[i] < 9:\n",
    "                digits[i] += 1\n",
    "                return digits\n",
    "            # Set the current digit to 0 if it was 9\n",
    "            digits[i] = 0\n",
    "\n",
    "        # If all the digits were 9, we need an extra digit at the beginning\n",
    "        return [1] + digits\n",
    "\n",
    "\n",
    "if __name__ == \"__main__\":\n",
    "    sol = Solution()\n",
    "    cases = [{\"digits\": [1, 2, 3]}, {\"digits\": [4, 3, 2, 1]}, {\"digits\": [9]}]\n",
    "    for case in cases:\n",
    "        print(case[\"digits\"], end=\"\\t->\\t \")\n",
    "        print(sol.plusOne(case[\"digits\"]))"
   ]
  }
 ],
 "metadata": {
  "kernelspec": {
   "display_name": "Python 3",
   "language": "python",
   "name": "python3"
  },
  "language_info": {
   "codemirror_mode": {
    "name": "ipython",
    "version": 3
   },
   "file_extension": ".py",
   "mimetype": "text/x-python",
   "name": "python",
   "nbconvert_exporter": "python",
   "pygments_lexer": "ipython3",
   "version": "3.12.2"
  }
 },
 "nbformat": 4,
 "nbformat_minor": 2
}
