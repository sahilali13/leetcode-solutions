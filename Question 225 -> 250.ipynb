{
 "cells": [
  {
   "cell_type": "markdown",
   "metadata": {},
   "source": [
    "#### Prerequisites\n"
   ]
  },
  {
   "cell_type": "code",
   "execution_count": null,
   "metadata": {},
   "outputs": [],
   "source": [
    "from typing import List\n",
    "\n",
    "\n",
    "class ListNode:\n",
    "    def __init__(self, x: int) -> None:\n",
    "        self.val = x\n",
    "        self.next = None\n",
    "\n",
    "\n",
    "class LinkedList:\n",
    "    def __init__(self, values: List) -> None:\n",
    "        if not values:\n",
    "            self.head = None\n",
    "\n",
    "        self.head = ListNode(values[0])\n",
    "        current = self.head\n",
    "\n",
    "        for value in values[1:]:\n",
    "            current.next = ListNode(value)\n",
    "            current = current.next\n",
    "\n",
    "    def __str__(self) -> str:\n",
    "        s = \"\"\n",
    "        current = self.head\n",
    "        while current:\n",
    "            s += str(current.val)\n",
    "            s += \" -> \" if current.next else \"\"\n",
    "            current = current.next\n",
    "        return s"
   ]
  },
  {
   "cell_type": "markdown",
   "metadata": {},
   "source": [
    "## 237. Delete Node in a Linked List\n",
    "\n",
    "    Difficulty - Medium\n",
    "    Topic - Linked List\n",
    "\n",
    "There is a singly-linked list `head` and we want to delete a node `node` in it.\n",
    "\n",
    "You are given the node to be deleted `node`. You will **not be given access** to the first node of `head`.\n",
    "\n",
    "All the values of the linked list are **unique**, and it is guaranteed that the given node `node` is not the last node in the linked list.\n",
    "\n",
    "Delete the given node. Note that by deleting the node, we do not mean removing it from memory. We mean:\n",
    "\n",
    "-   The value of the given node should not exist in the linked list.\n",
    "-   The number of nodes in the linked list should decrease by one.\n",
    "-   All the values before `node` should be in the same order.\n",
    "-   All the values after `node` should be in the same order.\n"
   ]
  },
  {
   "cell_type": "code",
   "execution_count": null,
   "metadata": {},
   "outputs": [],
   "source": [
    "class Solution:\n",
    "    def deleteNode(self, node: ListNode) -> None:\n",
    "        \"\"\"\n",
    "        :type node: ListNode\n",
    "        :rtype: void Do not return anything, modify node in-place instead.\n",
    "        \"\"\"\n",
    "        node.val = node.next.val\n",
    "        node.next = node.next.next\n",
    "\n",
    "    def test(self, linked_list: LinkedList, node_val: int) -> None:\n",
    "        current = linked_list.head\n",
    "        while current:\n",
    "            if current.val == node_val:\n",
    "                self.deleteNode(current)\n",
    "                break\n",
    "            current = current.next\n",
    "\n",
    "\n",
    "if __name__ == \"__main__\":\n",
    "    sol = Solution()\n",
    "    cases = [{\"head\": [4, 5, 1, 9], \"node\": 5}, {\"head\": [4, 5, 1, 9], \"node\": 1}]\n",
    "    for case in cases:\n",
    "        linkedList = LinkedList(case[\"head\"])\n",
    "        print(linkedList, end=\"\\t|\\t\")\n",
    "        sol.test(linkedList, case[\"node\"])\n",
    "        print(linkedList)"
   ]
  }
 ],
 "metadata": {
  "kernelspec": {
   "display_name": "Python 3",
   "language": "python",
   "name": "python3"
  },
  "language_info": {
   "codemirror_mode": {
    "name": "ipython",
    "version": 3
   },
   "file_extension": ".py",
   "mimetype": "text/x-python",
   "name": "python",
   "nbconvert_exporter": "python",
   "pygments_lexer": "ipython3",
   "version": "3.12.2"
  }
 },
 "nbformat": 4,
 "nbformat_minor": 2
}
