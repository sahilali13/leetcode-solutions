{
 "cells": [
  {
   "cell_type": "markdown",
   "metadata": {},
   "source": [
    "### 24 Mar 2024\n",
    "\n",
    "#### 287. Find the Duplicate Number\n",
    "\n",
    "    Given an array of integers nums containing n + 1 integers where each integer is in the range [1, n] inclusive.\n",
    "\n",
    "    There is only one repeated number in nums, return this repeated number.\n",
    "\n",
    "    You must solve the problem without modifying the array nums and uses only constant extra space.\n"
   ]
  },
  {
   "cell_type": "code",
   "execution_count": 4,
   "metadata": {},
   "outputs": [
    {
     "name": "stdout",
     "output_type": "stream",
     "text": [
      "3\n"
     ]
    }
   ],
   "source": [
    "class Solution:\n",
    "    def findDuplicate(self, nums: list[int]) -> int:\n",
    "        tortoise = nums[0]\n",
    "        hare = nums[0]\n",
    "\n",
    "        while True:\n",
    "            tortoise = nums[tortoise]\n",
    "            hare = nums[nums[hare]]\n",
    "            if tortoise == hare:\n",
    "                break\n",
    "        \n",
    "        tortoise = nums[0]\n",
    "\n",
    "        while tortoise != hare:\n",
    "            tortoise = nums[tortoise]\n",
    "            hare = nums[hare]\n",
    "        \n",
    "        del hare\n",
    "\n",
    "        return tortoise\n",
    "\n",
    "if __name__ == '__main__':\n",
    "    sol = Solution()\n",
    "    # nums = [1,3,4,2,2]\n",
    "    # nums = [3,1,3,4,2]\n",
    "    nums = [3,3,3,3,3]\n",
    "\n",
    "    print(sol.findDuplicate(nums = nums))"
   ]
  },
  {
   "cell_type": "markdown",
   "metadata": {},
   "source": [
    "### 25 Mar 2024\n",
    "\n",
    "#### 442. Find All Duplicates in an Array\n",
    "\n",
    "    Given an integer array nums of length n where all the integers of nums are in the range [1, n] and each integer appears once or twice, return an array of all the integers that appears twice.\n",
    "\n",
    "    You must write an algorithm that runs in O(n) time and uses only constant extra space.\n"
   ]
  },
  {
   "cell_type": "code",
   "execution_count": 12,
   "metadata": {},
   "outputs": [
    {
     "name": "stdout",
     "output_type": "stream",
     "text": [
      "[2, 3]\n"
     ]
    }
   ],
   "source": [
    "from collections import defaultdict\n",
    "\n",
    "class Solution:\n",
    "    def findDuplicates(self, nums: list[int]) -> list[int]:\n",
    "        seen = defaultdict(int)\n",
    "        \n",
    "        result = []\n",
    "\n",
    "        for num in nums:\n",
    "            if num in seen:\n",
    "                result.append(num)\n",
    "            else:\n",
    "                seen[num]\n",
    "        \n",
    "        del seen\n",
    "\n",
    "        return result\n",
    "    \n",
    "if __name__ == '__main__':\n",
    "    sol = Solution()\n",
    "    nums = [4,3,2,7,8,2,3,1]\n",
    "    # nums = [1,1,2]\n",
    "    # nums = [1]\n",
    "\n",
    "    print(sol.findDuplicates(nums = nums))"
   ]
  },
  {
   "cell_type": "markdown",
   "metadata": {},
   "source": [
    "##\n"
   ]
  }
 ],
 "metadata": {
  "kernelspec": {
   "display_name": "Python 3",
   "language": "python",
   "name": "python3"
  },
  "language_info": {
   "codemirror_mode": {
    "name": "ipython",
    "version": 3
   },
   "file_extension": ".py",
   "mimetype": "text/x-python",
   "name": "python",
   "nbconvert_exporter": "python",
   "pygments_lexer": "ipython3",
   "version": "3.12.2"
  }
 },
 "nbformat": 4,
 "nbformat_minor": 2
}
