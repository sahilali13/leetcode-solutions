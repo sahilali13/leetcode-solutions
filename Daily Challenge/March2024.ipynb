{
 "cells": [
  {
   "cell_type": "markdown",
   "metadata": {},
   "source": [
    "### 24 Mar 2024\n",
    "\n",
    "#### 287. Find the Duplicate Number\n",
    "\n",
    "    Given an array of integers nums containing n + 1 integers where each integer is in the range [1, n] inclusive.\n",
    "\n",
    "    There is only one repeated number in nums, return this repeated number.\n",
    "\n",
    "    You must solve the problem without modifying the array nums and uses only constant extra space.\n"
   ]
  },
  {
   "cell_type": "code",
   "execution_count": null,
   "metadata": {},
   "outputs": [],
   "source": [
    "class Solution:\n",
    "    def findDuplicate(self, nums: list[int]) -> int:\n",
    "        tortoise = nums[0]\n",
    "        hare = nums[0]\n",
    "\n",
    "        while True:\n",
    "            tortoise = nums[tortoise]\n",
    "            hare = nums[nums[hare]]\n",
    "            if tortoise == hare:\n",
    "                break\n",
    "        \n",
    "        tortoise = nums[0]\n",
    "\n",
    "        while tortoise != hare:\n",
    "            tortoise = nums[tortoise]\n",
    "            hare = nums[hare]\n",
    "        \n",
    "        del hare\n",
    "\n",
    "        return tortoise\n",
    "\n",
    "if __name__ == '__main__':\n",
    "    sol = Solution()\n",
    "    # nums = [1,3,4,2,2]\n",
    "    # nums = [3,1,3,4,2]\n",
    "    nums = [3,3,3,3,3]\n",
    "\n",
    "    print(sol.findDuplicate(nums = nums))"
   ]
  },
  {
   "cell_type": "markdown",
   "metadata": {},
   "source": [
    "### 25 Mar 2024\n",
    "\n",
    "#### 442. Find All Duplicates in an Array\n",
    "\n",
    "    Given an integer array nums of length n where all the integers of nums are in the range [1, n] and each integer appears once or twice, return an array of all the integers that appears twice.\n",
    "\n",
    "    You must write an algorithm that runs in O(n) time and uses only constant extra space.\n"
   ]
  },
  {
   "cell_type": "code",
   "execution_count": null,
   "metadata": {},
   "outputs": [],
   "source": [
    "from collections import defaultdict\n",
    "\n",
    "class Solution:\n",
    "    def findDuplicates(self, nums: list[int]) -> list[int]:\n",
    "        seen = defaultdict(int)\n",
    "        \n",
    "        result = []\n",
    "\n",
    "        for num in nums:\n",
    "            if num in seen:\n",
    "                result.append(num)\n",
    "            else:\n",
    "                seen[num]\n",
    "        \n",
    "        del seen\n",
    "\n",
    "        return result\n",
    "    \n",
    "if __name__ == '__main__':\n",
    "    sol = Solution()\n",
    "    nums = [4,3,2,7,8,2,3,1]\n",
    "    # nums = [1,1,2]\n",
    "    # nums = [1]\n",
    "\n",
    "    print(sol.findDuplicates(nums = nums))"
   ]
  },
  {
   "cell_type": "markdown",
   "metadata": {},
   "source": [
    "### 26 Mar 2024\n",
    "\n",
    "#### 41. First Missing Positive\n",
    "\n",
    "    Given an unsorted integer array nums. Return the smallest positive integer that is not present in nums.\n",
    "\n",
    "    You must implement an algorithm that runs in O(n) time and uses O(1) auxiliary space.\n"
   ]
  },
  {
   "cell_type": "code",
   "execution_count": null,
   "metadata": {},
   "outputs": [],
   "source": [
    "class Solution:\n",
    "    def firstMissingPositive(self, nums: list[int]) -> int:\n",
    "        nums = sorted(set(nums))\n",
    "        missingPositive, pointer = 1, 0\n",
    "        while pointer < len(nums):\n",
    "            if nums[pointer] > 0:\n",
    "                if missingPositive == nums[pointer]:\n",
    "                    missingPositive += 1\n",
    "                else:\n",
    "                    break\n",
    "            pointer += 1\n",
    "        del pointer, nums\n",
    "        return missingPositive\n",
    "\n",
    "if __name__ == '__main__':\n",
    "    sol = Solution()\n",
    "    cases = [[1,2,0],\n",
    "             [3,4,-1,1],\n",
    "             [7,8,9,11,12],\n",
    "             [0,2,2,1,1]]\n",
    "    for case in cases:\n",
    "        print(sol.firstMissingPositive(nums = case))"
   ]
  },
  {
   "cell_type": "markdown",
   "metadata": {},
   "source": [
    "### 27 Mar 2024\n",
    "\n",
    "#### 713. Subarray Product Less Than K\n",
    "\n",
    "    Given an array of integers nums and an integer k, return the number of contiguous subarrays where the product of all the elements in the subarray is strictly less than k.\n"
   ]
  },
  {
   "cell_type": "code",
   "execution_count": null,
   "metadata": {},
   "outputs": [],
   "source": [
    "import math\n",
    "\n",
    "class Solution:\n",
    "    def numSubarrayProductLessThanK(self, nums: list[int], k: int) -> int:\n",
    "        if k <= 1:\n",
    "            return 0\n",
    "        ans, left, prod = 0, 0, 1\n",
    "        for right, number in enumerate(nums):\n",
    "            prod *= number\n",
    "            \n",
    "            while prod >= k:\n",
    "                prod //= nums[left]\n",
    "                left += 1\n",
    "            \n",
    "            ans += right - left + 1\n",
    "        return ans\n",
    "        \n",
    "if __name__ == '__main__':\n",
    "    sol = Solution()\n",
    "    cases = [([10, 5, 2, 6], 100),\n",
    "             ([1,1,1], 2),\n",
    "             ([1,2,3], 0)]\n",
    "    for case in cases:\n",
    "        print(sol.numSubarrayProductLessThanK(nums = case[0], k = case[1]))\n"
   ]
  },
  {
   "cell_type": "markdown",
   "metadata": {},
   "source": [
    "### 28 Mar 2024\n",
    "\n",
    "#### 2958. Length of Longest Subarray With at Most K Frequency\n",
    "\n",
    "    You are given an integer array nums and an integer k.\n",
    "\n",
    "    The frequency of an element x is the number of times it occurs in an array.\n",
    "\n",
    "    An array is called good if the frequency of each element in this array is less than or equal to k.\n",
    "\n",
    "    Return the length of the longest good subarray of nums.\n",
    "\n",
    "    A subarray is a contiguous non-empty sequence of elements within an array.\n"
   ]
  },
  {
   "cell_type": "code",
   "execution_count": null,
   "metadata": {},
   "outputs": [],
   "source": [
    "class Solution:\n",
    "    def maxSubarrayLength(self, nums: list[int], k: int) -> int:\n",
    "        left, ans, max = 0, 0, 0\n",
    "        memo = defaultdict(lambda: 0)\n",
    "        for right, num in enumerate(nums):\n",
    "            memo[num] += 1\n",
    "            while memo[num] > k:\n",
    "                memo[nums[left]] -= 1\n",
    "                left += 1\n",
    "            ans = right - left + 1\n",
    "            max = max if max > ans else ans\n",
    "        del left, ans, memo\n",
    "        return max\n",
    "\n",
    "if __name__ == '__main__':\n",
    "    sol = Solution()\n",
    "    cases = [([1,2,3,1,2,3,1,2], 2),\n",
    "             ([1,2,1,2,1,2,1,2], 1),\n",
    "             ([5,5,5,5,5,5,5], 4),\n",
    "             ([3,1,1], 1)]\n",
    "    for case in cases:\n",
    "        print(sol.maxSubarrayLength(nums = case[0], k = case[1]))\n",
    "    "
   ]
  },
  {
   "cell_type": "markdown",
   "metadata": {},
   "source": [
    "### 29 Mar 2024\n",
    "\n",
    "#### 2962. Count Subarrays Where Max Element Appears at Least K Times\n",
    "\n",
    "    You are given an integer array nums and a positive integer k.\n",
    "\n",
    "    Return the number of subarrays where the maximum element of nums appears at least k times in that subarray.\n",
    "\n",
    "    A subarray is a contiguous sequence of elements within an array.\n"
   ]
  },
  {
   "cell_type": "code",
   "execution_count": null,
   "metadata": {},
   "outputs": [],
   "source": [
    "class Solution:\n",
    "    def countSubarrays(self, nums: list[int], k: int) -> int:\n",
    "        ans, left, window_size = 0, 0, 0\n",
    "        maxNums = max(nums)\n",
    "        for num in nums:\n",
    "            if num == maxNums:\n",
    "                window_size += 1\n",
    "            while window_size == k:\n",
    "                if nums[left] == maxNums:\n",
    "                    window_size -= 1\n",
    "                left += 1\n",
    "            ans += left\n",
    "        del left, window_size, maxNums\n",
    "        return ans\n",
    "\n",
    "if __name__ == '__main__':\n",
    "    sol = Solution()\n",
    "    cases = [([1,3,2,3,3], 2),\n",
    "             ([1,4,2,1], 3)]\n",
    "    for case in cases:\n",
    "        print(sol.countSubarrays(nums = case[0], k = case[1]))"
   ]
  },
  {
   "cell_type": "markdown",
   "metadata": {},
   "source": [
    "### 30 Mar 2024\n",
    "\n",
    "#### Subarrays with K Different Integers\n",
    "\n",
    "    Given an integer array nums and an integer k, return the number of good subarrays of nums.\n",
    "\n",
    "    A good array is an array where the number of different integers in that array is exactly k.\n",
    "\n",
    "    For example, [1,2,3,1,2] has 3 different integers: 1, 2, and 3.\n",
    "    A subarray is a contiguous part of an array.\n"
   ]
  },
  {
   "cell_type": "code",
   "execution_count": null,
   "metadata": {},
   "outputs": [],
   "source": [
    "class Solution:\n",
    "    def subarraysWithAtMostKDistinct(self, nums: list[int], k: int) -> int:\n",
    "        memo = {}\n",
    "        ans, left = 0, 0\n",
    "\n",
    "        for right, num in enumerate(nums):\n",
    "            if num not in memo:\n",
    "                memo[num] = 0\n",
    "            memo[num] += 1\n",
    "            while len(memo) > k:\n",
    "                if nums[left] not in memo:\n",
    "                    memo[nums[left]] = 0\n",
    "                memo[nums[left]] -= 1\n",
    "                if memo[nums[left]] == 0:\n",
    "                    del memo[nums[left]]\n",
    "                left += 1\n",
    "            ans += right - left + 1\n",
    "        del memo, left\n",
    "        return ans\n",
    "    \n",
    "    def subarraysWithKDistinct(self, nums: list[int], k: int) -> int:\n",
    "        return self.subarraysWithAtMostKDistinct(nums = nums, k = k) - self.subarraysWithAtMostKDistinct(nums = nums, k = k - 1)\n",
    "\n",
    "if __name__ == '__main__':\n",
    "    sol = Solution()\n",
    "    cases = [([1,2,1,2,3], 2),\n",
    "             ([1,2,1,3,4], 3)]\n",
    "    for case in cases:\n",
    "        print(sol.subarraysWithKDistinct(nums = case[0], k = case[1]))"
   ]
  },
  {
   "cell_type": "markdown",
   "metadata": {},
   "source": [
    "### 31 Mar 2024\n",
    "\n",
    "#### 2444. Count Subarrays With Fixed Bounds\n",
    "\n",
    "    You are given an integer array nums and two integers minK and maxK.\n",
    "\n",
    "    A fixed-bound subarray of nums is a subarray that satisfies the following conditions:\n",
    "\n",
    "    * The minimum value in the subarray is equal to minK.\n",
    "    * The maximum value in the subarray is equal to maxK.\n",
    "\n",
    "    Return the number of fixed-bound subarrays.\n",
    "\n",
    "    A subarray is a contiguous part of an array.\n"
   ]
  },
  {
   "cell_type": "code",
   "execution_count": 10,
   "metadata": {},
   "outputs": [
    {
     "name": "stdout",
     "output_type": "stream",
     "text": [
      "2\n",
      "10\n"
     ]
    }
   ],
   "source": [
    "class Solution:\n",
    "    def countSubarrays(self, nums: list[int], minK: int, maxK: int) -> int:\n",
    "        ans = 0\n",
    "        left = prevMinIndex = prevMaxIndex = -1\n",
    "        for right, num in enumerate(nums):\n",
    "            if num < minK or num > maxK:\n",
    "                left = right\n",
    "            if num == minK:\n",
    "                prevMinIndex = right\n",
    "            if num == maxK:\n",
    "                prevMaxIndex = right\n",
    "            ans += max(0, min(prevMinIndex, prevMaxIndex) - left)\n",
    "        del left, prevMinIndex, prevMaxIndex\n",
    "        return ans\n",
    "\n",
    "if __name__ == '__main__':\n",
    "    sol = Solution()\n",
    "    cases = [([1,3,5,2,7,5], 1, 5),\n",
    "             ([1,1,1,1], 1, 1)]\n",
    "    for case in cases:\n",
    "        print(sol.countSubarrays(nums = case[0], minK = case[1], maxK = case[2]))"
   ]
  }
 ],
 "metadata": {
  "kernelspec": {
   "display_name": "Python 3",
   "language": "python",
   "name": "python3"
  },
  "language_info": {
   "codemirror_mode": {
    "name": "ipython",
    "version": 3
   },
   "file_extension": ".py",
   "mimetype": "text/x-python",
   "name": "python",
   "nbconvert_exporter": "python",
   "pygments_lexer": "ipython3",
   "version": "3.12.2"
  }
 },
 "nbformat": 4,
 "nbformat_minor": 2
}
