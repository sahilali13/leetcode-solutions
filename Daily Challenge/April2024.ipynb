{
 "cells": [
  {
   "cell_type": "markdown",
   "metadata": {},
   "source": [
    "### 1 Apr 2024\n",
    "\n",
    "#### 58. Length of Last Word\n",
    "\n",
    "    Given a string s consisting of words and spaces, return the length of the last word in the string.\n",
    "\n",
    "    A word is a maximal substring consisting of non-space characters only.\n"
   ]
  },
  {
   "cell_type": "code",
   "execution_count": 12,
   "metadata": {},
   "outputs": [
    {
     "name": "stdout",
     "output_type": "stream",
     "text": [
      "5\n",
      "4\n",
      "6\n"
     ]
    }
   ],
   "source": [
    "class Solution:\n",
    "    def lengthOfLastWord(self, s: str) -> int:\n",
    "        count = 0\n",
    "        temp = s.rstrip()\n",
    "        for char in reversed(temp):\n",
    "            if char == ' ':\n",
    "                break\n",
    "            count += 1\n",
    "        del temp\n",
    "        return count\n",
    "\n",
    "if __name__ == '__main__':\n",
    "    sol = Solution()\n",
    "    cases = [\"Hello World\",\n",
    "            \"   fly me   to   the moon  \",\n",
    "            \"luffy is still joyboy\"]\n",
    "    for case in cases:\n",
    "        print(sol.lengthOfLastWord(s = case))\n",
    "    "
   ]
  }
 ],
 "metadata": {
  "kernelspec": {
   "display_name": "Python 3",
   "language": "python",
   "name": "python3"
  },
  "language_info": {
   "codemirror_mode": {
    "name": "ipython",
    "version": 3
   },
   "file_extension": ".py",
   "mimetype": "text/x-python",
   "name": "python",
   "nbconvert_exporter": "python",
   "pygments_lexer": "ipython3",
   "version": "3.12.2"
  }
 },
 "nbformat": 4,
 "nbformat_minor": 2
}
