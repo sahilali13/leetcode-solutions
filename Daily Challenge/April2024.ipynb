{
 "cells": [
  {
   "cell_type": "markdown",
   "metadata": {},
   "source": [
    "### 1 Apr 2024\n",
    "\n",
    "#### 58. Length of Last Word\n",
    "\n",
    "    Given a string s consisting of words and spaces, return the length of the last word in the string.\n",
    "\n",
    "    A word is a maximal substring consisting of non-space characters only.\n"
   ]
  },
  {
   "cell_type": "code",
   "execution_count": null,
   "metadata": {},
   "outputs": [],
   "source": [
    "class Solution:\n",
    "    def lengthOfLastWord(self, s: str) -> int:\n",
    "        count = 0\n",
    "        temp = s.rstrip()\n",
    "        for char in reversed(temp):\n",
    "            if char == ' ':\n",
    "                break\n",
    "            count += 1\n",
    "        del temp\n",
    "        return count\n",
    "\n",
    "if __name__ == '__main__':\n",
    "    sol = Solution()\n",
    "    cases = [\"Hello World\",\n",
    "            \"   fly me   to   the moon  \",\n",
    "            \"luffy is still joyboy\"]\n",
    "    for case in cases:\n",
    "        print(sol.lengthOfLastWord(s = case))\n",
    "    "
   ]
  },
  {
   "cell_type": "markdown",
   "metadata": {},
   "source": [
    "### 2 Apr 2024\n",
    "\n",
    "#### 205. Isomorphic Strings\n",
    "\n",
    "    Given two strings s and t, determine if they are isomorphic.\n",
    "\n",
    "    Two strings s and t are isomorphic if the characters in s can be replaced to get t.\n",
    "\n",
    "    All occurrences of a character must be replaced with another character while preserving the order of characters. No two characters may map to the same character, but a character may map to itself.\n"
   ]
  },
  {
   "cell_type": "code",
   "execution_count": 14,
   "metadata": {},
   "outputs": [
    {
     "name": "stdout",
     "output_type": "stream",
     "text": [
      "True\n",
      "False\n",
      "True\n",
      "False\n",
      "False\n"
     ]
    }
   ],
   "source": [
    "from collections import defaultdict\n",
    "\n",
    "class Solution:\n",
    "    def isIsomorphic(self, s: str, t: str) -> bool:\n",
    "        if len(s) != len(t):\n",
    "            return False\n",
    "        \n",
    "        char_map = {}\n",
    "        \n",
    "        for char_s, char_t in zip(s, t):\n",
    "            if char_s not in char_map:\n",
    "                char_map[char_s] = char_t\n",
    "            elif char_map[char_s] != char_t:\n",
    "                return False\n",
    "        \n",
    "        if len(set(char_map.values())) != len(char_map):\n",
    "            return False\n",
    "        \n",
    "        return True\n",
    "\n",
    "if __name__ == '__main__':\n",
    "    sol = Solution()\n",
    "    cases = [(\"egg\", 'add'),\n",
    "            ('foo', 'bar'),\n",
    "            ('paper', 'title'),\n",
    "            ('bbbaaaba', 'aaabbbba'),\n",
    "             ('badc', 'baba')]\n",
    "    for case in cases:\n",
    "        print(sol.isIsomorphic(s = case[0], t = case[1]))\n",
    "    "
   ]
  }
 ],
 "metadata": {
  "kernelspec": {
   "display_name": "Python 3",
   "language": "python",
   "name": "python3"
  },
  "language_info": {
   "codemirror_mode": {
    "name": "ipython",
    "version": 3
   },
   "file_extension": ".py",
   "mimetype": "text/x-python",
   "name": "python",
   "nbconvert_exporter": "python",
   "pygments_lexer": "ipython3",
   "version": "3.12.2"
  }
 },
 "nbformat": 4,
 "nbformat_minor": 2
}
