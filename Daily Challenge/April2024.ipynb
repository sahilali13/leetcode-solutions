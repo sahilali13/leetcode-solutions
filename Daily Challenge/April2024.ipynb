{
 "cells": [
  {
   "cell_type": "markdown",
   "metadata": {},
   "source": [
    "### 1 Apr 2024\n",
    "\n",
    "#### 58. Length of Last Word\n",
    "\n",
    "    Given a string s consisting of words and spaces, return the length of the last word in the string.\n",
    "\n",
    "    A word is a maximal substring consisting of non-space characters only.\n"
   ]
  },
  {
   "cell_type": "code",
   "execution_count": 1,
   "metadata": {},
   "outputs": [
    {
     "name": "stdout",
     "output_type": "stream",
     "text": [
      "5\n",
      "4\n",
      "6\n"
     ]
    }
   ],
   "source": [
    "class Solution:\n",
    "    def lengthOfLastWord(self, s: str) -> int:\n",
    "        count = 0\n",
    "        temp = s.rstrip()\n",
    "        for char in reversed(temp):\n",
    "            if char == ' ':\n",
    "                break\n",
    "            count += 1\n",
    "        del temp\n",
    "        return count\n",
    "\n",
    "if __name__ == '__main__':\n",
    "    sol = Solution()\n",
    "    cases = [\"Hello World\",\n",
    "            \"   fly me   to   the moon  \",\n",
    "            \"luffy is still joyboy\"]\n",
    "    for case in cases:\n",
    "        print(sol.lengthOfLastWord(s = case))\n",
    "    "
   ]
  },
  {
   "cell_type": "markdown",
   "metadata": {},
   "source": [
    "### 2 Apr 2024\n",
    "\n",
    "#### 205. Isomorphic Strings\n",
    "\n",
    "    Given two strings s and t, determine if they are isomorphic.\n",
    "\n",
    "    Two strings s and t are isomorphic if the characters in s can be replaced to get t.\n",
    "\n",
    "    All occurrences of a character must be replaced with another character while preserving the order of characters. No two characters may map to the same character, but a character may map to itself.\n"
   ]
  },
  {
   "cell_type": "code",
   "execution_count": 2,
   "metadata": {},
   "outputs": [
    {
     "name": "stdout",
     "output_type": "stream",
     "text": [
      "True\n",
      "False\n",
      "True\n",
      "False\n",
      "False\n"
     ]
    }
   ],
   "source": [
    "from collections import defaultdict\n",
    "\n",
    "class Solution:\n",
    "    def isIsomorphic(self, s: str, t: str) -> bool:\n",
    "        if len(s) != len(t):\n",
    "            return False\n",
    "        \n",
    "        char_map = {}\n",
    "        \n",
    "        for char_s, char_t in zip(s, t):\n",
    "            if char_s not in char_map:\n",
    "                char_map[char_s] = char_t\n",
    "            elif char_map[char_s] != char_t:\n",
    "                return False\n",
    "        \n",
    "        if len(set(char_map.values())) != len(char_map):\n",
    "            return False\n",
    "        \n",
    "        return True\n",
    "\n",
    "if __name__ == '__main__':\n",
    "    sol = Solution()\n",
    "    cases = [(\"egg\", 'add'),\n",
    "            ('foo', 'bar'),\n",
    "            ('paper', 'title'),\n",
    "            ('bbbaaaba', 'aaabbbba'),\n",
    "             ('badc', 'baba')]\n",
    "    for case in cases:\n",
    "        print(sol.isIsomorphic(s = case[0], t = case[1]))\n",
    "    "
   ]
  },
  {
   "cell_type": "markdown",
   "metadata": {},
   "source": [
    "### 3 Apr 2024\n",
    "\n",
    "#### 79. Word Search\n",
    "\n",
    "    Given an m x n grid of characters board and a string word, return true if word exists in the grid.\n",
    "\n",
    "    The word can be constructed from letters of sequentially adjacent cells, where adjacent cells are horizontally or vertically neighboring. The same letter cell may not be used more than once.\n"
   ]
  },
  {
   "cell_type": "code",
   "execution_count": 3,
   "metadata": {},
   "outputs": [
    {
     "name": "stdout",
     "output_type": "stream",
     "text": [
      "True\n",
      "True\n",
      "False\n"
     ]
    }
   ],
   "source": [
    "from typing import List\n",
    "\n",
    "class Solution:\n",
    "    def isAdjacent(self, cell1: tuple, cell2: tuple) -> bool:\n",
    "        if cell2 == (cell1[0] + 1, cell1[1]):\n",
    "            return True\n",
    "        elif cell2 == (cell1[0] - 1, cell1[1]):\n",
    "            return True\n",
    "        elif cell2 == (cell1[0], cell1[1] - 1):\n",
    "            return True\n",
    "        elif cell2 == (cell1[0], cell1[1] + 1):\n",
    "            return True\n",
    "        else:\n",
    "            return False\n",
    "             \n",
    "    def exist(self, board: List[List[str]], word: str) -> bool:\n",
    "        rows = len(board)\n",
    "        cols = len(board[0])\n",
    "\n",
    "        def dfs(row: int, col: int, idx: int) -> bool:\n",
    "            if row < 0 or row == rows or col < 0 or col == cols:\n",
    "                return False\n",
    "            if board[row][col] != word[idx] or board[row][col] == '*':\n",
    "                return False\n",
    "            if idx == len(word) - 1:\n",
    "                return True\n",
    "\n",
    "            temp = board[row][col]\n",
    "            board[row][col] = '*'\n",
    "            found = (dfs(row + 1, col, idx + 1) or\n",
    "                     dfs(row - 1, col, idx + 1) or\n",
    "                     dfs(row, col + 1, idx + 1) or\n",
    "                     dfs(row, col - 1, idx + 1))\n",
    "            board[row][col] = temp\n",
    "\n",
    "            return found\n",
    "\n",
    "        for i in range(rows):\n",
    "            for j in range(cols):\n",
    "                if dfs(i, j, 0):\n",
    "                    return True\n",
    "        return False\n",
    "\n",
    "if __name__ == '__main__':\n",
    "    sol = Solution()\n",
    "    cases = [([[\"A\",\"B\",\"C\",\"E\"],[\"S\",\"F\",\"C\",\"S\"],[\"A\",\"D\",\"E\",\"E\"]], 'ABCCED'),\n",
    "            ([[\"A\",\"B\",\"C\",\"E\"],[\"S\",\"F\",\"C\",\"S\"],[\"A\",\"D\",\"E\",\"E\"]], 'SEE'),\n",
    "            ([[\"A\",\"B\",\"C\",\"E\"],[\"S\",\"F\",\"C\",\"S\"],[\"A\",\"D\",\"E\",\"E\"]], 'ABCB')]\n",
    "    for case in cases:\n",
    "        print(sol.exist(board = case[0], word = case[1]))\n",
    "    "
   ]
  },
  {
   "cell_type": "markdown",
   "metadata": {},
   "source": [
    "### 4 Apr 2024\n",
    "\n",
    "#### 1614. Maximum Nesting Depth of the Parentheses\n",
    "\n",
    "    Given a Valid Parenthesis (only '()') String represented as string s, return the nesting depth of s.\n"
   ]
  },
  {
   "cell_type": "code",
   "execution_count": 4,
   "metadata": {},
   "outputs": [
    {
     "name": "stdout",
     "output_type": "stream",
     "text": [
      "0\n",
      "0\n",
      "1\n",
      "3\n",
      "3\n"
     ]
    }
   ],
   "source": [
    "class Solution:\n",
    "    def maxDepth(self, s: str) -> int:\n",
    "        max_depth = 0\n",
    "        current_depth = 0\n",
    "        \n",
    "        for char in s:\n",
    "            if char == '(':\n",
    "                current_depth += 1\n",
    "                max_depth = max(max_depth, current_depth)\n",
    "            elif char == ')':\n",
    "                current_depth -= 1\n",
    "\n",
    "        return max_depth\n",
    "\n",
    "\n",
    "if __name__ == '__main__':\n",
    "    sol = Solution()\n",
    "    cases = ['',\n",
    "             'S',\n",
    "             '(s)',\n",
    "            \"(1+(2*3)+((8)/4))+1\",\n",
    "            '(1)+((2))+(((3)))']\n",
    "    for case in cases:\n",
    "        print(sol.maxDepth(s = case))\n",
    "    "
   ]
  },
  {
   "cell_type": "markdown",
   "metadata": {},
   "source": [
    "### 5 Apr 2024\n",
    "\n",
    "#### 1544. Make The String Great\n",
    "\n",
    "    Given a string s of lower and upper case English letters.\n",
    "\n",
    "    A good string is a string which doesn't have two adjacent characters s[i] and s[i + 1] where:\n",
    "\n",
    "        * 0 <= i <= s.length - 2\n",
    "        * s[i] is a lower-case letter and s[i + 1] is the same letter but in upper-case or vice-versa.\n",
    "\n",
    "    To make the string good, you can choose two adjacent characters that make the string bad and remove them. You can keep doing this until the string becomes good.\n",
    "\n",
    "    Return the string after making it good. The answer is guaranteed to be unique under the given constraints.\n",
    "\n",
    "    Notice that an empty string is also good.\n"
   ]
  },
  {
   "cell_type": "code",
   "execution_count": 5,
   "metadata": {},
   "outputs": [
    {
     "name": "stdout",
     "output_type": "stream",
     "text": [
      "leetcode\n",
      "\n",
      "\n",
      "s\n"
     ]
    }
   ],
   "source": [
    "class Solution:\n",
    "    def makeGood(self, s: str) -> str:\n",
    "        stack = []\n",
    "    \n",
    "        for char in s:\n",
    "            if stack and (char.lower() == stack[-1].lower() and char != stack[-1]):\n",
    "                stack.pop()\n",
    "            else:\n",
    "                stack.append(char)\n",
    "        \n",
    "        return ''.join(stack)\n",
    "\n",
    "if __name__ == '__main__':\n",
    "    sol = Solution()\n",
    "    cases = ['leEeetcode',\n",
    "             'abBAcC',\n",
    "             'Pp',\n",
    "             's']\n",
    "    for case in cases:\n",
    "        print(sol.makeGood(s = case))\n",
    "    "
   ]
  },
  {
   "cell_type": "markdown",
   "metadata": {},
   "source": [
    "### 6 Mar 2024\n",
    "\n",
    "#### 1249. Minimum Remove to Make Valid Parentheses\n",
    "\n",
    "    Given a string s of '(' , ')' and lowercase English characters.\n",
    "\n",
    "    Your task is to remove the minimum number of parentheses ( '(' or ')', in any positions ) so that the resulting parentheses string is valid and return any valid string.\n",
    "\n",
    "    Formally, a parentheses string is valid if and only if:\n",
    "\n",
    "        * It is the empty string, contains only lowercase characters, or\n",
    "        * It can be written as AB (A concatenated with B), where A and B are valid strings, or\n",
    "        * It can be written as (A), where A is a valid string.\n"
   ]
  },
  {
   "cell_type": "code",
   "execution_count": 6,
   "metadata": {},
   "outputs": [
    {
     "name": "stdout",
     "output_type": "stream",
     "text": [
      "lee((t(c)o)de)\n",
      "ab(c)d\n",
      "\n",
      "\n"
     ]
    }
   ],
   "source": [
    "class Solution:\n",
    "    def minRemoveToMakeValid(self, s: str) -> str:\n",
    "        if not s:\n",
    "            return ''\n",
    "\n",
    "        open_stack = []\n",
    "        to_remove = set()\n",
    "\n",
    "        for i, char in enumerate(s):\n",
    "            if char == '(':\n",
    "                open_stack.append(i)\n",
    "            elif char == ')':\n",
    "                if open_stack:\n",
    "                    open_stack.pop()\n",
    "                else:\n",
    "                    to_remove.add(i)\n",
    "\n",
    "        to_remove.update(open_stack)\n",
    "\n",
    "        result = ''.join([char for i, char in enumerate(s) if i not in to_remove])\n",
    "\n",
    "        return result\n",
    "\n",
    "if __name__ == '__main__':\n",
    "    sol = Solution()\n",
    "    cases = ['lee(((t(c)o)de)',\n",
    "             'a)b(c)d',\n",
    "             '))((',\n",
    "             '']\n",
    "    for case in cases:\n",
    "        print(sol.minRemoveToMakeValid(s = case))\n",
    "    "
   ]
  },
  {
   "cell_type": "markdown",
   "metadata": {},
   "source": [
    "### 7 Mat 2024\n",
    "\n",
    "#### 678. Valid Parenthesis String\n",
    "\n",
    "    Given a string s containing only three types of characters: '(', ')' and '*', return true if s is valid.\n",
    "\n",
    "    The following rules define a valid string:\n",
    "\n",
    "        * Any left parenthesis '(' must have a corresponding right parenthesis ')'.\n",
    "        * Any right parenthesis ')' must have a corresponding left parenthesis '('.\n",
    "        * Left parenthesis '(' must go before the corresponding right parenthesis ')'.\n",
    "        * '*' could be treated as a single right parenthesis ')' or a single left parenthesis '(' or an empty string \"\".\n"
   ]
  },
  {
   "cell_type": "code",
   "execution_count": 26,
   "metadata": {},
   "outputs": [
    {
     "name": "stdout",
     "output_type": "stream",
     "text": [
      "True\n",
      "True\n",
      "True\n",
      "False\n"
     ]
    }
   ],
   "source": [
    "class Solution:\n",
    "    def checkValidString(self, s: str) -> bool:\n",
    "        open_count = 0\n",
    "        close_count = 0\n",
    "\n",
    "        for i in range(len(s)):\n",
    "            if s[i] in '(*':\n",
    "                open_count += 1\n",
    "            else:\n",
    "                open_count -= 1\n",
    "\n",
    "            if s[len(s) - 1 - i] in ')*':\n",
    "                close_count += 1\n",
    "            else:\n",
    "                close_count -= 1\n",
    "                \n",
    "            if open_count < 0 or close_count < 0:\n",
    "                return False\n",
    "            \n",
    "        return True\n",
    "\n",
    "if __name__ == '__main__':\n",
    "    sol = Solution()\n",
    "    cases = ['()',\n",
    "             '(*)',\n",
    "             '(*))',\n",
    "             \"(((((*(()((((*((**(((()()*)()()()*((((**)())*)*)))))))(())(()))())((*()()(((()((()*(())*(()**)()(())\"]\n",
    "    for case in cases:\n",
    "        print(sol.checkValidString(s = case))\n",
    "    "
   ]
  }
 ],
 "metadata": {
  "kernelspec": {
   "display_name": "Python 3",
   "language": "python",
   "name": "python3"
  },
  "language_info": {
   "codemirror_mode": {
    "name": "ipython",
    "version": 3
   },
   "file_extension": ".py",
   "mimetype": "text/x-python",
   "name": "python",
   "nbconvert_exporter": "python",
   "pygments_lexer": "ipython3",
   "version": "3.12.2"
  }
 },
 "nbformat": 4,
 "nbformat_minor": 2
}
