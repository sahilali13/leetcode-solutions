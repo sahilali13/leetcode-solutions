{
 "cells": [
  {
   "cell_type": "markdown",
   "metadata": {},
   "source": [
    "### 3 May 2024\n",
    "\n",
    "#### 165. Compare Version Numbers\n",
    "\n",
    "    Given two version numbers, version1 and version2, compare them.\n",
    "\n",
    "    Version numbers consist of one or more revisions joined by a dot '.'. Each revision consists of digits and may contain leading zeros. Every revision contains at least one character. Revisions are 0-indexed from left to right, with the leftmost revision being revision 0, the next revision being revision 1, and so on. For example 2.5.33 and 0.1 are valid version numbers.\n",
    "\n",
    "    To compare version numbers, compare their revisions in left-to-right order. Revisions are compared using their integer value ignoring any leading zeros. This means that revisions 1 and 001 are considered equal. If a version number does not specify a revision at an index, then treat the revision as 0. For example, version 1.0 is less than version 1.1 because their revision 0s are the same, but their revision 1s are 0 and 1 respectively, and 0 < 1.\n",
    "\n",
    "    Return the following:\n",
    "\n",
    "        * If version1 < version2, return -1.\n",
    "        * If version1 > version2, return 1.\n",
    "        * Otherwise, return 0.\n"
   ]
  },
  {
   "cell_type": "code",
   "execution_count": 8,
   "metadata": {},
   "outputs": [
    {
     "name": "stdout",
     "output_type": "stream",
     "text": [
      "0\n",
      "0\n",
      "-1\n",
      "0\n"
     ]
    }
   ],
   "source": [
    "class Solution:\n",
    "    def compareVersion(self, version1: str, version2: str) -> int:\n",
    "        v1 = version1.split('.')\n",
    "        v2 = version2.split('.')\n",
    "\n",
    "        len_v1, len_v2 = len(v1), len(v2)\n",
    "        max_len = max(len_v1, len_v2)\n",
    "\n",
    "        for i in range(max_len):\n",
    "            num1 = int(v1[i]) if i < len_v1 else 0\n",
    "            num2 = int(v2[i]) if i < len_v2 else 0\n",
    "\n",
    "            if num1 > num2:\n",
    "                return 1\n",
    "            elif num1 < num2:\n",
    "                return -1\n",
    "\n",
    "        return 0\n",
    "\n",
    "if __name__ == '__main__':\n",
    "    solution = Solution()\n",
    "    test_cases = [\n",
    "        (\"1.01\", \"1.001\"),\n",
    "        (\"1.0\", \"1.0.0\"),\n",
    "        (\"0.1\", \"1.1\"),\n",
    "        (\"1.0.0\", \"1.0\"),\n",
    "    ]\n",
    "    for case in test_cases:\n",
    "        sol = solution.compareVersion(version1 = case[0], version2 = case[1])\n",
    "        print(sol)"
   ]
  }
 ],
 "metadata": {
  "kernelspec": {
   "display_name": "Python 3",
   "language": "python",
   "name": "python3"
  },
  "language_info": {
   "codemirror_mode": {
    "name": "ipython",
    "version": 3
   },
   "file_extension": ".py",
   "mimetype": "text/x-python",
   "name": "python",
   "nbconvert_exporter": "python",
   "pygments_lexer": "ipython3",
   "version": "3.12.2"
  }
 },
 "nbformat": 4,
 "nbformat_minor": 2
}
