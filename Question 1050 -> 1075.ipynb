{
 "cells": [
  {
   "cell_type": "markdown",
   "metadata": {},
   "source": [
    "#### Prerequisites\n"
   ]
  },
  {
   "cell_type": "code",
   "execution_count": null,
   "metadata": {},
   "outputs": [],
   "source": [
    "from typing import List"
   ]
  },
  {
   "cell_type": "markdown",
   "metadata": {},
   "source": [
    "## Question 1050 -> 1075\n",
    "\n",
    "    Difficulty - Easy\n",
    "    Topic - Array\n",
    "    Algo - Counting Sort\n",
    "\n",
    "A school is trying to take an annual photo of all the students. The students are asked to stand in a single file line in **non-decreasing order** by height. Let this ordering be represented by the integer array `expected` where `expected[i]` is the expected height of the <code>i<sup>th</sup></code> student in line.\n",
    "\n",
    "You are given an integer array `heights` representing the **current order** that the students are standing in. Each `heights[i]` is the height of the <code>i<sup>th</sup></code> student in line (**0-indexed**).\n",
    "\n",
    "Return _the **number of indices** where_ `heights[i] != expected[i]`.\n",
    "\n",
    "**Constraints:**\n",
    "\n",
    "-   `1 <= heights.length <= 100`\n",
    "-   `1 <= heights[i] <= 100`\n"
   ]
  },
  {
   "cell_type": "code",
   "execution_count": null,
   "metadata": {},
   "outputs": [],
   "source": [
    "class Solution:\n",
    "    def heightChecker(self, heights: List[int]) -> int:\n",
    "        max_height = 100\n",
    "        count = [0] * (max_height + 1)\n",
    "\n",
    "        # Step 1: Count each height's occurrences\n",
    "        for height in heights:\n",
    "            count[height] += 1\n",
    "\n",
    "        # Step 2: Reconstruct the sorted list of heights\n",
    "        sorted_heights = []\n",
    "        for height in range(1, max_height + 1):\n",
    "            sorted_heights.extend([height] * count[height])\n",
    "\n",
    "        # Step 3: Compare original heights with sorted heights\n",
    "        out_of_place_count = 0\n",
    "        for original, sorted_height in zip(heights, sorted_heights):\n",
    "            if original != sorted_height:\n",
    "                out_of_place_count += 1\n",
    "\n",
    "        return out_of_place_count\n",
    "\n",
    "\n",
    "if __name__ == \"__main__\":\n",
    "    sol = Solution()\n",
    "    cases = [\n",
    "        {\"heights\": [1, 1, 4, 2, 1, 3]},  # 3\n",
    "        {\"heights\": [5, 1, 2, 3, 4]},  # 5\n",
    "        {\"heights\": [1, 2, 3, 4, 5]},  # 0\n",
    "    ]\n",
    "    for case in cases:\n",
    "        print(sol.heightChecker(case[\"heights\"]))"
   ]
  }
 ],
 "metadata": {
  "kernelspec": {
   "display_name": "Python 3",
   "language": "python",
   "name": "python3"
  },
  "language_info": {
   "codemirror_mode": {
    "name": "ipython",
    "version": 3
   },
   "file_extension": ".py",
   "mimetype": "text/x-python",
   "name": "python",
   "nbconvert_exporter": "python",
   "pygments_lexer": "ipython3",
   "version": "3.12.2"
  }
 },
 "nbformat": 4,
 "nbformat_minor": 2
}
