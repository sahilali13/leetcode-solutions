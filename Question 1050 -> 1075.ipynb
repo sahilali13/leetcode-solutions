{
 "cells": [
  {
   "cell_type": "markdown",
   "metadata": {},
   "source": [
    "#### Prerequisites\n"
   ]
  },
  {
   "cell_type": "code",
   "execution_count": null,
   "metadata": {},
   "outputs": [],
   "source": [
    "from typing import List"
   ]
  },
  {
   "cell_type": "markdown",
   "metadata": {},
   "source": [
    "## 1051. Height Checker\n",
    "\n",
    "    Difficulty - Easy\n",
    "    Topic - Array\n",
    "    Algo - Counting Sort\n",
    "\n",
    "A school is trying to take an annual photo of all the students. The students are asked to stand in a single file line in **non-decreasing order** by height. Let this ordering be represented by the integer array `expected` where `expected[i]` is the expected height of the <code>i<sup>th</sup></code> student in line.\n",
    "\n",
    "You are given an integer array `heights` representing the **current order** that the students are standing in. Each `heights[i]` is the height of the <code>i<sup>th</sup></code> student in line (**0-indexed**).\n",
    "\n",
    "Return _the **number of indices** where_ `heights[i] != expected[i]`.\n",
    "\n",
    "**Constraints:**\n",
    "\n",
    "-   `1 <= heights.length <= 100`\n",
    "-   `1 <= heights[i] <= 100`\n"
   ]
  },
  {
   "cell_type": "code",
   "execution_count": null,
   "metadata": {},
   "outputs": [],
   "source": [
    "class Solution:\n",
    "    def heightChecker(self, heights: List[int]) -> int:\n",
    "        max_height = 100\n",
    "        count = [0] * (max_height + 1)\n",
    "\n",
    "        # Step 1: Count each height's occurrences\n",
    "        for height in heights:\n",
    "            count[height] += 1\n",
    "\n",
    "        # Step 2: Reconstruct the sorted list of heights\n",
    "        sorted_heights = []\n",
    "        for height in range(1, max_height + 1):\n",
    "            sorted_heights.extend([height] * count[height])\n",
    "\n",
    "        # Step 3: Compare original heights with sorted heights\n",
    "        out_of_place_count = 0\n",
    "        for original, sorted_height in zip(heights, sorted_heights):\n",
    "            if original != sorted_height:\n",
    "                out_of_place_count += 1\n",
    "\n",
    "        return out_of_place_count\n",
    "\n",
    "\n",
    "if __name__ == \"__main__\":\n",
    "    sol = Solution()\n",
    "    cases = [\n",
    "        {\"heights\": [1, 1, 4, 2, 1, 3]},  # 3\n",
    "        {\"heights\": [5, 1, 2, 3, 4]},  # 5\n",
    "        {\"heights\": [1, 2, 3, 4, 5]},  # 0\n",
    "    ]\n",
    "    for case in cases:\n",
    "        print(sol.heightChecker(case[\"heights\"]))"
   ]
  },
  {
   "cell_type": "markdown",
   "metadata": {},
   "source": [
    "## 1052. Grumpy Bookstore Owner\n",
    "\n",
    "    Difficulty - Medium\n",
    "    Topic - Array\n",
    "    Algo - Sliding Window\n",
    "\n",
    "There is a bookstore owner that has a store open for `n` minutes. Every minute, some number of customers enter the store. You are given an integer array `customers` of length `n` where `customers[i]` is the number of the customer that enters the store at the start of the <code>i<sup>th</sup></code> minute and all those customers leave after the end of that minute.\n",
    "\n",
    "On some minutes, the bookstore owner is grumpy. You are given a binary array grumpy where `grumpy[i]` is `1` if the bookstore owner is grumpy during the <code>i<sup>th</sup></code> minute, and is `0` otherwise.\n",
    "\n",
    "When the bookstore owner is grumpy, the customers of that minute are not satisfied, otherwise, they are satisfied.\n",
    "\n",
    "The bookstore owner knows a secret technique to keep themselves not grumpy for `minutes` consecutive minutes, but can only use it once.\n",
    "\n",
    "Return _the maximum number of customers that can be satisfied throughout the day_.\n",
    "\n",
    "**Constraints:**\n",
    "\n",
    "-   `n == customers.length == grumpy.length`\n",
    "-   <code>1 <= minutes <= n <= 2 \\* 10<sup>4</sup></code>\n",
    "-   `0 <= customers[i] <= 1000`\n",
    "-   `grumpy[i]` is either `0` or `1`.\n"
   ]
  },
  {
   "cell_type": "code",
   "execution_count": null,
   "metadata": {},
   "outputs": [],
   "source": [
    "class Solution:\n",
    "    def maxSatisfied(\n",
    "        self, customers: List[int], grumpy: List[int], minutes: int\n",
    "    ) -> int:\n",
    "        n = len(customers)\n",
    "\n",
    "        # Initial satisfaction without using the technique\n",
    "        initial_satisfaction = sum(customers[i] for i in range(n) if not grumpy[i])\n",
    "\n",
    "        # Calculate the additional satisfaction that can be gained by using the technique\n",
    "        additional_satisfaction = 0\n",
    "        current_window_satisfaction = 0\n",
    "\n",
    "        # Initialize the window\n",
    "        for i in range(minutes):\n",
    "            if grumpy[i]:\n",
    "                current_window_satisfaction += customers[i]\n",
    "\n",
    "        additional_satisfaction = current_window_satisfaction\n",
    "\n",
    "        # Slide the window across the array\n",
    "        for i in range(minutes, n):\n",
    "            if grumpy[i]:\n",
    "                current_window_satisfaction += customers[i]\n",
    "            if grumpy[i - minutes]:\n",
    "                current_window_satisfaction -= customers[i - minutes]\n",
    "            additional_satisfaction = max(\n",
    "                additional_satisfaction, current_window_satisfaction\n",
    "            )\n",
    "\n",
    "        return initial_satisfaction + additional_satisfaction\n",
    "\n",
    "\n",
    "if __name__ == \"__main__\":\n",
    "    sol = Solution()\n",
    "    cases = [\n",
    "        {\n",
    "            \"customers\": [1, 0, 1, 2, 1, 1, 7, 5],\n",
    "            \"grumpy\": [0, 1, 0, 1, 0, 1, 0, 1],\n",
    "            \"minutes\": 3,\n",
    "        },\n",
    "        {\"customers\": [1], \"grumpy\": [0], \"minutes\": 1},\n",
    "    ]\n",
    "for case in cases:\n",
    "    print(sol.maxSatisfied(case[\"customers\"], case[\"grumpy\"], case[\"minutes\"]))"
   ]
  }
 ],
 "metadata": {
  "kernelspec": {
   "display_name": "Python 3",
   "language": "python",
   "name": "python3"
  },
  "language_info": {
   "codemirror_mode": {
    "name": "ipython",
    "version": 3
   },
   "file_extension": ".py",
   "mimetype": "text/x-python",
   "name": "python",
   "nbconvert_exporter": "python",
   "pygments_lexer": "ipython3",
   "version": "3.12.2"
  }
 },
 "nbformat": 4,
 "nbformat_minor": 2
}
