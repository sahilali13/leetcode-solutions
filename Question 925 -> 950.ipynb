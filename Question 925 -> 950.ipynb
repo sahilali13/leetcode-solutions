{
 "cells": [
  {
   "cell_type": "markdown",
   "metadata": {},
   "source": [
    "#### Prerequisites\n"
   ]
  },
  {
   "cell_type": "code",
   "execution_count": null,
   "metadata": {},
   "outputs": [],
   "source": [
    "from collections import Counter\n",
    "from typing import List"
   ]
  },
  {
   "cell_type": "markdown",
   "metadata": {},
   "source": [
    "## 945. Minimum Increment to Make Array Unique\n",
    "\n",
    "    Difficulty - Medium\n",
    "    Topic - Array\n",
    "    Algos - Greedy, Sorting\n",
    "\n",
    "You are given an integer array `nums`. In one move, you can pick an index `i` where `0 <= i < nums.length` and increment `nums[i]` by `1`.\n",
    "\n",
    "Return _the minimum number of moves to make every value in_ `nums` _**unique**_.\n",
    "\n",
    "The test cases are generated so that the answer fits in a 32-bit integer.\n",
    "\n",
    "**Constraints:**\n",
    "\n",
    "-   <code>1 <= nums.length <= 10<sup>5</sup></code>\n",
    "-   <code>0 <= nums[i] <= 10<sup>5</sup></code>\n"
   ]
  },
  {
   "cell_type": "code",
   "execution_count": null,
   "metadata": {},
   "outputs": [],
   "source": [
    "class Solution:\n",
    "    def minIncrementForUnique(self, nums: List[int]) -> int:\n",
    "        nums.sort()\n",
    "        moves = 0\n",
    "\n",
    "        for i in range(1, len(nums)):\n",
    "            if nums[i] <= nums[i - 1]:\n",
    "                moves += nums[i - 1] - nums[i] + 1\n",
    "                nums[i] = nums[i - 1] + 1\n",
    "\n",
    "        return moves\n",
    "\n",
    "\n",
    "if __name__ == \"__main__\":\n",
    "    sol = Solution()\n",
    "    cases = [{\"nums\": [1, 2, 2]}, {\"nums\": [3, 2, 1, 2, 1, 7]}]\n",
    "    1, 1, 2, 2, 3, 7\n",
    "    for case in cases:\n",
    "        print(sol.minIncrementForUnique(case[\"nums\"]))"
   ]
  }
 ],
 "metadata": {
  "kernelspec": {
   "display_name": "Python 3",
   "language": "python",
   "name": "python3"
  },
  "language_info": {
   "codemirror_mode": {
    "name": "ipython",
    "version": 3
   },
   "file_extension": ".py",
   "mimetype": "text/x-python",
   "name": "python",
   "nbconvert_exporter": "python",
   "pygments_lexer": "ipython3",
   "version": "3.12.2"
  }
 },
 "nbformat": 4,
 "nbformat_minor": 2
}
