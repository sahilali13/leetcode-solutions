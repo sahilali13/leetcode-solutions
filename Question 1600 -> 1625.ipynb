{
 "cells": [
  {
   "cell_type": "markdown",
   "metadata": {},
   "source": [
    "#### Prerequisites\n"
   ]
  },
  {
   "cell_type": "code",
   "execution_count": null,
   "metadata": {},
   "outputs": [],
   "source": [
    "from typing import List"
   ]
  },
  {
   "cell_type": "markdown",
   "metadata": {},
   "source": [
    "## 1608. Special Array With X Elements Greater Than or Equal X\n",
    "\n",
    "    Difficulty - Easy\n",
    "    Topic - Array\n",
    "    Algos - Binary Search, Sorting\n",
    "\n",
    "You are given an array `nums` of non-negative integers. `nums` is considered **special** if there exists a number `x` such that there are **exactly** `x` numbers in `nums` that are **greater than or equal to** `x`.\n",
    "\n",
    "Notice that `x` **does not** have to be an element in `nums`.\n",
    "\n",
    "Return `x` _if the array is **special**, otherwise, return_ `-1`. It can be proven that if `nums` is special, the value for `x` is **unique**.\n",
    "\n",
    "**Constraints:**\n",
    "\n",
    "-   `1 <= nums.length <= 100`\n",
    "-   `0 <= nums[i] <= 1000`\n"
   ]
  },
  {
   "cell_type": "code",
   "execution_count": null,
   "metadata": {},
   "outputs": [],
   "source": [
    "class Solution:\n",
    "    def specialArray(self, nums: List[int]) -> int:\n",
    "        max_num = max(nums)\n",
    "\n",
    "        for x in range(max_num + 1):\n",
    "            count = sum(1 for num in nums if num >= x)\n",
    "            if count == x:\n",
    "                return x\n",
    "        return -1\n",
    "\n",
    "\n",
    "if __name__ == \"__main__\":\n",
    "    sol = Solution()\n",
    "    cases = [\n",
    "        {\"nums\": [3, 5]},\n",
    "        {\"nums\": [0, 0]},\n",
    "        {\"nums\": [0, 4, 3, 0, 4]},\n",
    "        {\"nums\": [3, 6, 7, 7, 0]},\n",
    "    ]\n",
    "    for case in cases:\n",
    "        print(sol.specialArray(case[\"nums\"]))"
   ]
  },
  {
   "cell_type": "markdown",
   "metadata": {},
   "source": [
    "## 1614. Maximum Nesting Depth of the Parentheses\n",
    "\n",
    "    Difficulty - Easy\n",
    "    Topic - String, Stack\n",
    "\n",
    "Given a **valid parentheses string** `s`, return the **nesting depth** of `s`. The nesting depth is the **maximum** number of nested parentheses.\n",
    "\n",
    "**Constraints:**\n",
    "\n",
    "-   `1 <= s.length <= 100`\n",
    "-   `s` consists of digits `0-9` and characters `'+'`, `'-'`, `'*'`, `'/'`, `'('`, and `')'`.\n",
    "-   It is guaranteed that parentheses expression `s` is a VPS.\n"
   ]
  },
  {
   "cell_type": "code",
   "execution_count": null,
   "metadata": {},
   "outputs": [],
   "source": [
    "class Solution:\n",
    "    def maxDepth(self, s: str) -> int:\n",
    "        max_depth = 0\n",
    "        current_depth = 0\n",
    "\n",
    "        for char in s:\n",
    "            if char == \"(\":\n",
    "                current_depth += 1\n",
    "                max_depth = max(max_depth, current_depth)\n",
    "            elif char == \")\":\n",
    "                current_depth -= 1\n",
    "\n",
    "        return max_depth\n",
    "\n",
    "\n",
    "if __name__ == \"__main__\":\n",
    "    sol = Solution()\n",
    "    cases = [\n",
    "        {\"s\": \"\"},\n",
    "        {\"s\": \"S\"},\n",
    "        {\"s\": \"(s)\"},\n",
    "        {\"s\": \"(1+(2*3)+((8)/4))+1\"},\n",
    "        {\"s\": \"(1)+((2))+(((3)))\"},\n",
    "    ]\n",
    "    for case in cases:\n",
    "        print(sol.maxDepth(case[\"s\"]))"
   ]
  }
 ],
 "metadata": {
  "kernelspec": {
   "display_name": "Python 3",
   "language": "python",
   "name": "python3"
  },
  "language_info": {
   "codemirror_mode": {
    "name": "ipython",
    "version": 3
   },
   "file_extension": ".py",
   "mimetype": "text/x-python",
   "name": "python",
   "nbconvert_exporter": "python",
   "pygments_lexer": "ipython3",
   "version": "3.12.2"
  }
 },
 "nbformat": 4,
 "nbformat_minor": 2
}
