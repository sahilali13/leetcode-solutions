{
 "cells": [
  {
   "cell_type": "markdown",
   "metadata": {},
   "source": [
    "## 1614. Maximum Nesting Depth of the Parentheses\n",
    "\n",
    "    Difficulty - Easy\n",
    "    Topic - String\n",
    "\n",
    "Given a Valid Parenthesis (only '()') String represented as string s, return the nesting depth of s.\n"
   ]
  },
  {
   "cell_type": "code",
   "execution_count": null,
   "metadata": {},
   "outputs": [],
   "source": [
    "class Solution:\n",
    "    def maxDepth(self, s: str) -> int:\n",
    "        max_depth = 0\n",
    "        current_depth = 0\n",
    "\n",
    "        for char in s:\n",
    "            if char == \"(\":\n",
    "                current_depth += 1\n",
    "                max_depth = max(max_depth, current_depth)\n",
    "            elif char == \")\":\n",
    "                current_depth -= 1\n",
    "\n",
    "        return max_depth\n",
    "\n",
    "\n",
    "if __name__ == \"__main__\":\n",
    "    sol = Solution()\n",
    "    cases = [\n",
    "        {\"s\": \"\"},\n",
    "        {\"s\": \"S\"},\n",
    "        {\"s\": \"(s)\"},\n",
    "        {\"s\": \"(1+(2*3)+((8)/4))+1\"},\n",
    "        {\"s\": \"(1)+((2))+(((3)))\"},\n",
    "    ]\n",
    "    for case in cases:\n",
    "        print(sol.maxDepth(case[\"s\"]))"
   ]
  }
 ],
 "metadata": {
  "kernelspec": {
   "display_name": "Python 3",
   "language": "python",
   "name": "python3"
  },
  "language_info": {
   "codemirror_mode": {
    "name": "ipython",
    "version": 3
   },
   "file_extension": ".py",
   "mimetype": "text/x-python",
   "name": "python",
   "nbconvert_exporter": "python",
   "pygments_lexer": "ipython3",
   "version": "3.12.2"
  }
 },
 "nbformat": 4,
 "nbformat_minor": 2
}
