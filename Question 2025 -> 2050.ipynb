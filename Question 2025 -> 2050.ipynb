{
 "cells": [
  {
   "cell_type": "markdown",
   "metadata": {},
   "source": [
    "#### Prerequisites\n"
   ]
  },
  {
   "cell_type": "code",
   "execution_count": null,
   "metadata": {},
   "outputs": [],
   "source": [
    "from typing import List"
   ]
  },
  {
   "cell_type": "markdown",
   "metadata": {},
   "source": [
    "## 2037. Minimum Number of Moves to Seat Everyone\n",
    "\n",
    "    Difficulty - Easy\n",
    "    Topic - Array\n",
    "    Algos - Greedy, Sorting\n",
    "\n",
    "There are `n` seats and `n` students in a room. You are given an array `seats` of length `n`, where `seats[i]` is the position of the <code>i<sup>th</sup></code> seat. You are also given the array `students` of length `n`, where `students[j]` is the position of the <code>j<sup>th</sup></code> student.\n",
    "\n",
    "You may perform the following move any number of times:\n",
    "\n",
    "-   Increase or decrease the position of the <code>i<sup>th</sup></code> student by `1` (i.e., moving the <code>i<sup>th</sup></code> student from position `x` to `x + 1` or `x - 1`)\n",
    "\n",
    "Return _the **minimum number of moves** required to move each student to a seat such that no two students are in the same seat_.\n",
    "\n",
    "Note that there may be **multiple** seats or students in the **same** position at the beginning.\n",
    "\n",
    "**Constraints:**\n",
    "\n",
    "-   `n == seats.length == students.length`\n",
    "-   `1 <= n <= 100`\n",
    "-   `1 <= seats[i], students[j] <= 100`\n"
   ]
  },
  {
   "cell_type": "code",
   "execution_count": null,
   "metadata": {},
   "outputs": [],
   "source": [
    "class Solution:\n",
    "    def minMovesToSeat(self, seats: List[int], students: List[int]) -> int:\n",
    "        # Sort both lists\n",
    "        seats.sort()\n",
    "        students.sort()\n",
    "\n",
    "        # Calculate the total minimum moves\n",
    "        minMoves = 0\n",
    "        for seat, student in zip(seats, students):\n",
    "            minMoves += abs(seat - student)\n",
    "\n",
    "        return minMoves\n",
    "\n",
    "\n",
    "if __name__ == \"__main__\":\n",
    "    sol = Solution()\n",
    "    cases = [\n",
    "        {\"seats\": [3, 1, 5], \"students\": [2, 7, 4]},\n",
    "        {\"seats\": [4, 1, 5, 9], \"students\": [1, 3, 2, 6]},\n",
    "        {\"seats\": [2, 2, 6, 6], \"students\": [1, 3, 2, 6]},\n",
    "    ]\n",
    "    for case in cases:\n",
    "        print(sol.minMovesToSeat(case[\"seats\"], case[\"students\"]))"
   ]
  }
 ],
 "metadata": {
  "kernelspec": {
   "display_name": "Python 3",
   "language": "python",
   "name": "python3"
  },
  "language_info": {
   "codemirror_mode": {
    "name": "ipython",
    "version": 3
   },
   "file_extension": ".py",
   "mimetype": "text/x-python",
   "name": "python",
   "nbconvert_exporter": "python",
   "pygments_lexer": "ipython3",
   "version": "3.12.2"
  }
 },
 "nbformat": 4,
 "nbformat_minor": 2
}
