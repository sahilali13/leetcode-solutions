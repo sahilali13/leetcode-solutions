{
 "cells": [
  {
   "cell_type": "markdown",
   "metadata": {},
   "source": [
    "#### Prerequisite\n"
   ]
  },
  {
   "cell_type": "code",
   "execution_count": 19,
   "metadata": {},
   "outputs": [],
   "source": [
    "from itertools import combinations\n",
    "from typing import List"
   ]
  },
  {
   "cell_type": "markdown",
   "metadata": {},
   "source": [
    "## 1863. Sum of All Subset XOR Totals\n",
    "\n",
    "    Difficulty - Easy\n",
    "    Topics - Array, Bit Manipulation, Combinatronics\n",
    "    Algo - Backtracking\n",
    "\n",
    "The **XOR** total of an array is defined as the bitwise `XOR` of **all its elements**, or `0` if the array is **empty**.\n",
    "\n",
    "-   For example, the **XOR total** of the array `[2,5,6]` is `2 XOR 5 XOR 6 = 1`.\n",
    "\n",
    "Given an array `nums`, return _the **sum** of all **XOR totals** for every **subset** of_ `nums`.\n",
    "\n",
    "**Note:** Subsets with the **same** elements should be counted **multiple** times.\n",
    "\n",
    "An array `a` is a **subset** of an array `b` if `a` can be obtained from `b` by deleting some (possibly zero) elements of `b`.\n"
   ]
  },
  {
   "cell_type": "code",
   "execution_count": 26,
   "metadata": {},
   "outputs": [
    {
     "name": "stdout",
     "output_type": "stream",
     "text": [
      "6\n",
      "28\n",
      "480\n"
     ]
    }
   ],
   "source": [
    "class Solution:\n",
    "    def subsetXORSum(self, nums: List[int]) -> int:\n",
    "        total_xor = 0\n",
    "        for num in nums:\n",
    "            total_xor |= num\n",
    "        return total_xor * (1 << (len(nums) - 1))\n",
    "\n",
    "\n",
    "if __name__ == \"__main__\":\n",
    "    sol = Solution()\n",
    "    cases = [{\"nums\": [1, 3]}, {\"nums\": [5, 1, 6]}, {\"nums\": [3, 4, 5, 6, 7, 8]}]\n",
    "    for case in cases:\n",
    "        print(sol.subsetXORSum(case[\"nums\"]))"
   ]
  }
 ],
 "metadata": {
  "kernelspec": {
   "display_name": "Python 3",
   "language": "python",
   "name": "python3"
  },
  "language_info": {
   "codemirror_mode": {
    "name": "ipython",
    "version": 3
   },
   "file_extension": ".py",
   "mimetype": "text/x-python",
   "name": "python",
   "nbconvert_exporter": "python",
   "pygments_lexer": "ipython3",
   "version": "3.12.2"
  }
 },
 "nbformat": 4,
 "nbformat_minor": 2
}
