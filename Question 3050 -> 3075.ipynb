{
 "cells": [
  {
   "cell_type": "markdown",
   "metadata": {},
   "source": [
    "#### Prerequisites\n"
   ]
  },
  {
   "cell_type": "code",
   "execution_count": null,
   "metadata": {},
   "outputs": [],
   "source": [
    "from typing import List"
   ]
  },
  {
   "cell_type": "markdown",
   "metadata": {},
   "source": [
    "## 3068. Find the Maximum Sum of Node Values\n",
    "\n",
    "    Difficulty - Hard\n",
    "    Types - Array, Tree\n",
    "    Algos - Dynamic Programming, Greedy, Bit Manipulation\n",
    "\n",
    "There exists an **undirected** tree with `n` nodes numbered `0` to `n - 1`. You are given a **0-indexed** 2D integer array `edges` of length `n - 1`, where `edges[i] = [ui, vi]` indicates that there is an edge between nodes `ui` and `vi` in the tree. You are also given a **positive** integer `k`, and a **0-indexed** array of **non-negative** integers `nums` of length `n`, where `nums[i]` represents the **value** of the node numbered `i`.\n",
    "\n",
    "Alice wants the sum of values of tree nodes to be **maximum**, for which Alice can perform the following operation **any** number of times (**including zero**) on the tree:\n",
    "\n",
    "-   Choose any edge `[u, v]` connecting the nodes `u` and `v`, and update their values as follows:\n",
    "    -   `nums[u] = nums[u] XOR k`\n",
    "    -   `nums[v] = nums[v] XOR k`\n",
    "\n",
    "Return _the `maximum` possible `sum` of the `values` Alice can achieve by performing the operation `any` number of times_.\n"
   ]
  },
  {
   "cell_type": "code",
   "execution_count": null,
   "metadata": {},
   "outputs": [],
   "source": [
    "class Solution:\n",
    "    def maximumValueSum(self, nums: List[int], k: int, edges: List[List[int]]) -> int:\n",
    "        maxValSum, count = 0, 0\n",
    "        positiveMinimum = float(\"inf\")\n",
    "        negativeMaximum = -float(\"inf\")\n",
    "\n",
    "        for nodeValue in nums:\n",
    "            newNodeValue = nodeValue ^ k\n",
    "            maxValSum += nodeValue\n",
    "            netChange = newNodeValue - nodeValue\n",
    "            if netChange > 0:\n",
    "                positiveMinimum = min(positiveMinimum, netChange)\n",
    "                maxValSum += netChange\n",
    "                count += 1\n",
    "            else:\n",
    "                negativeMaximum = max(negativeMaximum, netChange)\n",
    "\n",
    "        if count % 2 == 0:\n",
    "            return maxValSum\n",
    "\n",
    "        return max(maxValSum - positiveMinimum, maxValSum + negativeMaximum)\n",
    "\n",
    "\n",
    "if __name__ == \"__main__\":\n",
    "    sol = Solution()\n",
    "    cases = [\n",
    "        {\"nums\": [1, 2, 1], \"k\": 3, \"edges\": [[0, 1], [0, 2]]},\n",
    "        {\"nums\": [2, 3], \"k\": 7, \"edges\": [[0, 1]]},\n",
    "        {\n",
    "            \"nums\": [7, 7, 7, 7, 7, 7],\n",
    "            \"k\": 3,\n",
    "            \"edges\": [[0, 1], [0, 2], [0, 3], [0, 4], [0, 5]],\n",
    "        },\n",
    "    ]\n",
    "    for case in cases:\n",
    "        print(sol.maximumValueSum(case[\"nums\"], case[\"k\"], case[\"edges\"]))"
   ]
  }
 ],
 "metadata": {
  "kernelspec": {
   "display_name": "Python 3",
   "language": "python",
   "name": "python3"
  },
  "language_info": {
   "codemirror_mode": {
    "name": "ipython",
    "version": 3
   },
   "file_extension": ".py",
   "mimetype": "text/x-python",
   "name": "python",
   "nbconvert_exporter": "python",
   "pygments_lexer": "ipython3",
   "version": "3.12.2"
  }
 },
 "nbformat": 4,
 "nbformat_minor": 2
}
