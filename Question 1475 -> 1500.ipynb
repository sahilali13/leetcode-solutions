{
 "cells": [
  {
   "cell_type": "markdown",
   "metadata": {},
   "source": [
    "#### Prerequisites\n"
   ]
  },
  {
   "cell_type": "code",
   "execution_count": null,
   "metadata": {},
   "outputs": [],
   "source": [
    "from typing import List"
   ]
  },
  {
   "cell_type": "markdown",
   "metadata": {},
   "source": [
    "## 1482. Minimum Number of Days to Make m Bouquets\n",
    "\n",
    "    Difficulty - Medium\n",
    "    Topic - Array\n",
    "    Algo - Binary Search\n",
    "\n",
    "You are given an integer array `bloomDay`, an integer `m` and an integer `k`.\n",
    "\n",
    "You want to make `m` bouquets. To make a bouquet, you need to use `k` **adjacent flowers** from the garden.\n",
    "\n",
    "The garden consists of `n` flowers, the <code>i<sup>th</sup></code> flower will bloom in the `bloomDay[i]` and then can be used in **exactly one** bouquet.\n",
    "\n",
    "Return _the minimum number of days you need to wait to be able to make_ `m` _bouquets from the garden_. If it is impossible to make m bouquets return `-1`.\n",
    "\n",
    "**Constraints:**\n",
    "\n",
    "-   `bloomDay.length == n`\n",
    "-   <code>1 <= n <= 10<sup>5</sup></code>\n",
    "-   <code>1 <= bloomDay[i] <= 10<sup>9</sup></code>\n",
    "-   <code>1 <= m <= 10<sup>6</sup></code>\n",
    "-   `1 <= k <= n`\n"
   ]
  },
  {
   "cell_type": "code",
   "execution_count": null,
   "metadata": {},
   "outputs": [],
   "source": [
    "class Solution:\n",
    "    def minDays(self, bloomDay: List[int], m: int, k: int) -> int:\n",
    "        n = len(bloomDay)\n",
    "\n",
    "        if m * k > n:\n",
    "            return -1\n",
    "\n",
    "        def canFormBouquets(days: int) -> bool:\n",
    "            bouquets = 0\n",
    "            flowers_in_bouquet = 0\n",
    "\n",
    "            for bloom in bloomDay:\n",
    "                if bloom <= days:\n",
    "                    flowers_in_bouquet += 1\n",
    "                    if flowers_in_bouquet == k:\n",
    "                        bouquets += 1\n",
    "                        flowers_in_bouquet = 0\n",
    "                        if bouquets == m:\n",
    "                            return True\n",
    "                else:\n",
    "                    flowers_in_bouquet = 0\n",
    "\n",
    "            return bouquets >= m\n",
    "\n",
    "        left, right = min(bloomDay), max(bloomDay)\n",
    "\n",
    "        while left < right:\n",
    "            mid = (left + right) // 2\n",
    "            if canFormBouquets(mid):\n",
    "                right = mid\n",
    "            else:\n",
    "                left = mid + 1\n",
    "\n",
    "        return left\n",
    "\n",
    "\n",
    "if __name__ == \"__main__\":\n",
    "    sol = Solution()\n",
    "    cases = [\n",
    "        {\"bloomDay\": [1, 10, 3, 10, 2], \"m\": 3, \"k\": 1},\n",
    "        {\"bloomDay\": [1, 10, 3, 10, 2], \"m\": 3, \"k\": 2},\n",
    "        {\"bloomDay\": [7, 7, 7, 7, 12, 7, 7], \"m\": 2, \"k\": 3},\n",
    "    ]\n",
    "    for case in cases:\n",
    "        print(sol.minDays(case[\"bloomDay\"], case[\"m\"], case[\"k\"]))"
   ]
  }
 ],
 "metadata": {
  "kernelspec": {
   "display_name": "Python 3",
   "language": "python",
   "name": "python3"
  },
  "language_info": {
   "codemirror_mode": {
    "name": "ipython",
    "version": 3
   },
   "file_extension": ".py",
   "mimetype": "text/x-python",
   "name": "python",
   "nbconvert_exporter": "python",
   "pygments_lexer": "ipython3",
   "version": "3.12.2"
  }
 },
 "nbformat": 4,
 "nbformat_minor": 2
}
