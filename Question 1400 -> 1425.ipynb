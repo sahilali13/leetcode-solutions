{
 "cells": [
  {
   "cell_type": "markdown",
   "metadata": {},
   "source": [
    "## 1404. Number of Steps to Reduce a Number in Binary Representation to One\n",
    "\n",
    "    Difficulty - Medium\n",
    "    Topic - String\n",
    "    Algo - Bit Manipulation\n",
    "\n",
    "Given the binary representation of an integer as a string `s`, return _the number of steps to reduce it to_ `1` _under the following rules_:\n",
    "\n",
    "-   If the current number is even, you have to divide it by `2`.\n",
    "\n",
    "-   If the current number is odd, you have to add `1` to it.\n",
    "\n",
    "It is guaranteed that you can always reach one for all test cases.\n",
    "\n",
    "**Constraints:**\n",
    "\n",
    "-   `1 <= s.length <= 500`\n",
    "-   `s` consists of characters '0' or '1'\n",
    "-   `s[0] == '1'`\n"
   ]
  },
  {
   "cell_type": "code",
   "execution_count": null,
   "metadata": {},
   "outputs": [],
   "source": [
    "class Solution:\n",
    "    def numSteps(self, s: str) -> int:\n",
    "        steps = 0\n",
    "        carry = 0\n",
    "\n",
    "        for i in range(len(s) - 1, 0, -1):\n",
    "            if int(s[i]) + carry == 1:\n",
    "                steps += 1\n",
    "                carry = 1\n",
    "            steps += 1\n",
    "\n",
    "        return steps + carry\n",
    "\n",
    "\n",
    "if __name__ == \"__main__\":\n",
    "    sol = Solution()\n",
    "    cases = [{\"s\": \"1101\"}, {\"s\": \"10\"}, {\"s\": \"1\"}]\n",
    "    for case in cases:\n",
    "        print(sol.numSteps(case[\"s\"]))"
   ]
  }
 ],
 "metadata": {
  "kernelspec": {
   "display_name": "Python 3",
   "language": "python",
   "name": "python3"
  },
  "language_info": {
   "codemirror_mode": {
    "name": "ipython",
    "version": 3
   },
   "file_extension": ".py",
   "mimetype": "text/x-python",
   "name": "python",
   "nbconvert_exporter": "python",
   "pygments_lexer": "ipython3",
   "version": "3.12.2"
  }
 },
 "nbformat": 4,
 "nbformat_minor": 2
}
