{
 "cells": [
  {
   "cell_type": "markdown",
   "metadata": {},
   "source": [
    "#### Prerequisites\n"
   ]
  },
  {
   "cell_type": "code",
   "execution_count": null,
   "metadata": {},
   "outputs": [],
   "source": [
    "from typing import List"
   ]
  },
  {
   "cell_type": "markdown",
   "metadata": {},
   "source": [
    "## 189. Rotate Array\n",
    "\n",
    "    Difficulty - Medium\n",
    "    Topics - Array\n",
    "    Algo - Two Pointers\n",
    "\n",
    "Given an integer array nums, rotate the array to the right by k steps, where k is non-negative.\n"
   ]
  },
  {
   "cell_type": "code",
   "execution_count": null,
   "metadata": {},
   "outputs": [],
   "source": [
    "class Solution:\n",
    "    def rotate(self, nums: List[int], k: int) -> None:\n",
    "        \"\"\"\n",
    "        Do not return anything, modify nums in-place instead.\n",
    "        \"\"\"\n",
    "\n",
    "        def reverse(nums: List[int], start: int, end: int) -> None:\n",
    "            while start < end:\n",
    "                nums[start], nums[end] = nums[end], nums[start]\n",
    "                start += 1\n",
    "                end -= 1\n",
    "\n",
    "        n = len(nums)\n",
    "        k %= n\n",
    "\n",
    "        if k == 0:\n",
    "            return\n",
    "\n",
    "        reverse(nums, 0, n - 1)\n",
    "        reverse(nums, 0, k - 1)\n",
    "        reverse(nums, k, n - 1)\n",
    "\n",
    "\n",
    "if __name__ == \"__main__\":\n",
    "    sol = Solution()\n",
    "    cases = [\n",
    "        {\"nums\": [1, 2, 3, 4, 5, 6, 7], \"k\": 3},\n",
    "        {\"nums\": [-1, -100, 3, 99], \"k\": 2},\n",
    "        {\"nums\": [1, 2, 3, 4, 5, 6], \"k\": 1},\n",
    "        {\"nums\": [1, 2, 3, 4, 5, 6], \"k\": 11},\n",
    "    ]\n",
    "    for case in cases:\n",
    "        print(case[\"nums\"], end=\"\\t->\\t\")\n",
    "        sol.rotate(case[\"nums\"], case[\"k\"])\n",
    "        print(case[\"nums\"])"
   ]
  },
  {
   "cell_type": "markdown",
   "metadata": {},
   "source": [
    "## 198. House Robber\n",
    "\n",
    "    Difficulty - Medium\n",
    "    Topic - Array\n",
    "    Algo - Dynamic Programming\n",
    "\n",
    "You are a professional robber planning to rob houses along a street. Each house has a certain amount of money stashed, the only constraint stopping you from robbing each of them is that adjacent houses have security systems connected and **it will automatically contact the police if two adjacent houses were broken into on the same night**.\n",
    "\n",
    "Given an integer array `nums` representing the amount of money of each house, return _the maximum amount of money you can rob tonight **without alerting the police**_.\n"
   ]
  },
  {
   "cell_type": "code",
   "execution_count": null,
   "metadata": {},
   "outputs": [],
   "source": [
    "class Solution:\n",
    "    def rob(self, nums: List[int]) -> int:\n",
    "        if len(nums) == 1:\n",
    "            return nums[0]\n",
    "        if len(nums) == 2:\n",
    "            return max(nums[0], nums[1])\n",
    "\n",
    "        prev2, prev1 = nums[0], max(nums[0], nums[1])\n",
    "        for house in range(2, len(nums)):\n",
    "            curr = max(prev2 + nums[house], prev1)\n",
    "            prev2, prev1 = prev1, curr\n",
    "\n",
    "        return prev1\n",
    "\n",
    "\n",
    "if __name__ == \"__main__\":\n",
    "    sol = Solution()\n",
    "    cases = [{\"nums\": [1, 2, 3, 1]}, {\"nums\": [2, 7, 9, 3, 1]}, {\"nums\": [0, 0]}]\n",
    "    for case in cases:\n",
    "        print(sol.rob(case[\"nums\"]))"
   ]
  }
 ],
 "metadata": {
  "kernelspec": {
   "display_name": "Python 3",
   "language": "python",
   "name": "python3"
  },
  "language_info": {
   "codemirror_mode": {
    "name": "ipython",
    "version": 3
   },
   "file_extension": ".py",
   "mimetype": "text/x-python",
   "name": "python",
   "nbconvert_exporter": "python",
   "pygments_lexer": "ipython3",
   "version": "3.12.2"
  }
 },
 "nbformat": 4,
 "nbformat_minor": 2
}
