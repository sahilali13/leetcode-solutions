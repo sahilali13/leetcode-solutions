{
 "cells": [
  {
   "cell_type": "markdown",
   "metadata": {},
   "source": [
    "#### Prerequisites\n"
   ]
  },
  {
   "cell_type": "code",
   "execution_count": null,
   "metadata": {},
   "outputs": [],
   "source": [
    "from typing import List\n",
    "\n",
    "\n",
    "class ListNode: ...\n",
    "\n",
    "\n",
    "class ListNode:\n",
    "    def __init__(self, x: int = 0, next: ListNode | None = None) -> None:\n",
    "        self.val = x\n",
    "        self.next = next\n",
    "\n",
    "    def __str__(self) -> str:\n",
    "        s = \"\"\n",
    "        current = self\n",
    "        while current:\n",
    "            s += str(current.val)\n",
    "            s += \" -> \" if current.next else \"\"\n",
    "            current = current.next\n",
    "        return s\n",
    "\n",
    "\n",
    "class LinkedList:\n",
    "    def __init__(self, values: List) -> None:\n",
    "        if not values or len(values) == 0:\n",
    "            self.head = None\n",
    "            return\n",
    "\n",
    "        self.head = ListNode(values[0])\n",
    "        current = self.head\n",
    "\n",
    "        for value in values[1:]:\n",
    "            current.next = ListNode(value)\n",
    "            current = current.next\n",
    "\n",
    "    def __str__(self) -> str:\n",
    "        s = \"\"\n",
    "        current = self.head\n",
    "        while current:\n",
    "            s += str(current.val)\n",
    "            s += \" -> \" if current.next else \"\"\n",
    "            current = current.next\n",
    "        return s"
   ]
  },
  {
   "cell_type": "markdown",
   "metadata": {},
   "source": [
    "## 205. Isomorphic Strings\n",
    "\n",
    "    Difficulty - Easy\n",
    "    Topic - String\n",
    "    Algo - Hash Table\n",
    "\n",
    "Given two strings s and t, determine if they are isomorphic.\n",
    "\n",
    "Two strings s and t are isomorphic if the characters in s can be replaced to get t.\n",
    "\n",
    "All occurrences of a character must be replaced with another character while preserving the order of characters. No two characters may map to the same character, but a character may map to itself.\n"
   ]
  },
  {
   "cell_type": "code",
   "execution_count": null,
   "metadata": {},
   "outputs": [],
   "source": [
    "class Solution:\n",
    "    def isIsomorphic(self, s: str, t: str) -> bool:\n",
    "        # If the lengths of the strings are different, they cannot be isomorphic\n",
    "        if len(s) != len(t):\n",
    "            return False\n",
    "\n",
    "        # Create dictionaries to store the character mappings from s to t and t to s\n",
    "        map_s_to_t = {}\n",
    "        map_t_to_s = {}\n",
    "\n",
    "        # Iterate through the characters of both strings simultaneously\n",
    "        for char_s, char_t in zip(s, t):\n",
    "            # Check if there is an existing mapping for char_s in map_s_to_t\n",
    "            # and it maps to a different character than char_t\n",
    "            if (char_s in map_s_to_t and map_s_to_t[char_s] != char_t) or (\n",
    "                char_t in map_t_to_s and map_t_to_s[char_t] != char_s\n",
    "            ):\n",
    "                return False\n",
    "\n",
    "            # Create the mapping from char_s to char_t and vice versa\n",
    "            map_s_to_t[char_s] = char_t\n",
    "            map_t_to_s[char_t] = char_s\n",
    "\n",
    "        # If all characters have consistent mappings, the strings are isomorphic\n",
    "        return True\n",
    "\n",
    "\n",
    "if __name__ == \"__main__\":\n",
    "    sol = Solution()\n",
    "    cases = [\n",
    "        {\"s\": \"egg\", \"t\": \"add\"},\n",
    "        {\"s\": \"foo\", \"t\": \"bar\"},\n",
    "        {\"s\": \"paper\", \"t\": \"title\"},\n",
    "        {\"s\": \"bbbaaaba\", \"t\": \"aaabbbba\"},\n",
    "        {\"s\": \"badc\", \"t\": \"baba\"},\n",
    "    ]\n",
    "    # Test each case and print the result\n",
    "    for case in cases:\n",
    "        print(sol.isIsomorphic(case[\"s\"], case[\"t\"]))"
   ]
  },
  {
   "cell_type": "markdown",
   "metadata": {},
   "source": [
    "## 206. Reverse Linked List\n",
    "\n",
    "    Difficulty - Easy\n",
    "    Topic - Linked List\n",
    "    Algo - Recursion\n",
    "\n",
    "Given the `head` of a singly linked list, reverse the list, and return _the reversed list_.\n"
   ]
  },
  {
   "cell_type": "code",
   "execution_count": null,
   "metadata": {},
   "outputs": [],
   "source": [
    "class Solution:\n",
    "    def reverseList(self, head: ListNode) -> ListNode:\n",
    "        prevNode = None\n",
    "        curNode = head\n",
    "        while curNode:\n",
    "            nextNode = curNode.next\n",
    "            curNode.next = prevNode\n",
    "            prevNode = curNode\n",
    "            curNode = nextNode\n",
    "        return prevNode\n",
    "\n",
    "\n",
    "if __name__ == \"__main__\":\n",
    "    sol = Solution()\n",
    "    cases = [\n",
    "        {\"head\": [1, 2, 3, 4, 5]},\n",
    "        {\"head\": [1, 2]},\n",
    "        {\"head\": []},\n",
    "    ]\n",
    "    for case in cases:\n",
    "        linkedList = LinkedList(case[\"head\"])\n",
    "        print(sol.reverseList(linkedList.head))"
   ]
  },
  {
   "cell_type": "markdown",
   "metadata": {},
   "source": [
    "## 217. Contains Duplicate\n",
    "\n",
    "    Difficulty - Easy\n",
    "    Topic - Array\n",
    "    Algos - Sorting\n",
    "\n",
    "Given an integer array nums, return true if any value appears at least twice in the array, and return false if every element is distinct.\n"
   ]
  },
  {
   "cell_type": "code",
   "execution_count": null,
   "metadata": {},
   "outputs": [],
   "source": [
    "class Solution:\n",
    "    def containsDuplicate(self, nums: List[int]) -> bool:\n",
    "        nums.sort()\n",
    "        for i in range(len(nums) - 1):\n",
    "            if nums[i] == nums[i + 1]:\n",
    "                return True\n",
    "        return False\n",
    "\n",
    "\n",
    "if __name__ == \"__main__\":\n",
    "    sol = Solution()\n",
    "    cases = [\n",
    "        {\"nums\": [1, 2, 3, 1]},\n",
    "        {\"nums\": [1, 2, 3, 4]},\n",
    "        {\"nums\": [1, 1, 1, 3, 3, 4, 3, 2, 4, 2]},\n",
    "    ]\n",
    "    for case in cases:\n",
    "        print(sol.containsDuplicate(case[\"nums\"]))"
   ]
  }
 ],
 "metadata": {
  "kernelspec": {
   "display_name": "Python 3",
   "language": "python",
   "name": "python3"
  },
  "language_info": {
   "codemirror_mode": {
    "name": "ipython",
    "version": 3
   },
   "file_extension": ".py",
   "mimetype": "text/x-python",
   "name": "python",
   "nbconvert_exporter": "python",
   "pygments_lexer": "ipython3",
   "version": "3.12.2"
  }
 },
 "nbformat": 4,
 "nbformat_minor": 2
}
