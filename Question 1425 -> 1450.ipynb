{
 "cells": [
  {
   "cell_type": "markdown",
   "metadata": {},
   "source": [
    "#### Prerequisites\n"
   ]
  },
  {
   "cell_type": "code",
   "execution_count": null,
   "metadata": {},
   "outputs": [],
   "source": [
    "from collections import deque\n",
    "from itertools import combinations\n",
    "from typing import List"
   ]
  },
  {
   "cell_type": "markdown",
   "metadata": {},
   "source": [
    "## 1438. Longest Continuous Subarray With Absolute Diff Less Than or Equal to Limit\n",
    "\n",
    "    Difficulty - Medium\n",
    "    Topics - Array, Queue, Heap, Ordered Set\n",
    "    Algo - Sliding Window\n",
    "\n",
    "Given an array of integers `nums` and an integer `limit`, return the size of the longest non-empty subarray such that the absolute difference between any two elements of this subarray is less than or equal to `limit`.\n",
    "\n",
    "**Constraints:**\n",
    "\n",
    "-   <code>1 <= nums.length <= 10<sup>5</sup></code>\n",
    "-   <code>1 <= nums[i] <= 10<sup>9</sup></code>\n",
    "-   <code>0 <= limit <= 10<sup>9</sup></code>\n"
   ]
  },
  {
   "cell_type": "code",
   "execution_count": null,
   "metadata": {},
   "outputs": [],
   "source": [
    "class Solution:\n",
    "    def longestSubarray(self, nums: List[int], limit: int) -> int:\n",
    "        max_deque = deque()\n",
    "        min_deque = deque()\n",
    "\n",
    "        left = 0\n",
    "        max_len = 0\n",
    "\n",
    "        for right in range(len(nums)):\n",
    "            # Maintain max_deque\n",
    "            while max_deque and nums[max_deque[-1]] <= nums[right]:\n",
    "                max_deque.pop()\n",
    "            max_deque.append(right)\n",
    "\n",
    "            # Maintain min_deque\n",
    "            while min_deque and nums[min_deque[-1]] >= nums[right]:\n",
    "                min_deque.pop()\n",
    "            min_deque.append(right)\n",
    "\n",
    "            # Check the condition\n",
    "            while nums[max_deque[0]] - nums[min_deque[0]] > limit:\n",
    "                left += 1\n",
    "                if max_deque[0] < left:\n",
    "                    max_deque.popleft()\n",
    "                if min_deque[0] < left:\n",
    "                    min_deque.popleft()\n",
    "\n",
    "            max_len = max(max_len, right - left + 1)\n",
    "\n",
    "        return max_len\n",
    "\n",
    "\n",
    "if __name__ == \"__main__\":\n",
    "    sol = Solution()\n",
    "    cases = [\n",
    "        {\"nums\": [8, 2, 4, 7], \"limit\": 4},\n",
    "        {\"nums\": [10, 1, 2, 4, 7, 2], \"limit\": 5},\n",
    "        {\"nums\": [4, 2, 2, 2, 4, 4, 2, 2], \"limit\": 0},\n",
    "    ]\n",
    "    for case in cases:\n",
    "        print(sol.longestSubarray(case[\"nums\"], case[\"limit\"]))"
   ]
  },
  {
   "cell_type": "markdown",
   "metadata": {},
   "source": [
    "## 1442. Count Triplets That Can Form Two Arrays of Equal XOR\n",
    "\n",
    "    Difficulty - Medium\n",
    "    Topics - Array, Hash Table\n",
    "    Algo - Bit Manipulation\n",
    "\n",
    "Given an array of integers `arr`.\n",
    "\n",
    "We want to select three indices `i`, `j` and `k` where `(0 <= i < j <= k < arr.length)`.\n",
    "\n",
    "Let's define `a` and `b` as follows:\n",
    "\n",
    "-   `a = arr[i] ^ arr[i + 1] ^ ... ^ arr[j - 1]`\n",
    "-   `b = arr[j] ^ arr[j + 1] ^ ... ^ arr[k]`\n",
    "    Note that **^** denotes the **bitwise-xor** operation.\n",
    "\n",
    "Return _the number of triplets_ (`i`, `j` and `k`) Where `a == b`.\n",
    "\n",
    "**Constraints:**\n",
    "\n",
    "-   `1 <= arr.length <= 300`\n",
    "-   <code>1 <= arr[i] <= 10<sup>8</sup></code>\n"
   ]
  },
  {
   "cell_type": "code",
   "execution_count": null,
   "metadata": {},
   "outputs": [],
   "source": [
    "class Solution:\n",
    "    def countTriplets(self, arr: List[int]) -> int:\n",
    "        n = len(arr)\n",
    "        prefix_xor = [0] * (n + 1)\n",
    "        for i in range(n):\n",
    "            prefix_xor[i + 1] = prefix_xor[i] ^ arr[i]\n",
    "\n",
    "        count = 0\n",
    "        for i in range(n):\n",
    "            for j in range(i + 1, n):\n",
    "                if prefix_xor[i] == prefix_xor[j + 1]:\n",
    "                    count += j - i\n",
    "        return count\n",
    "\n",
    "\n",
    "if __name__ == \"__main__\":\n",
    "    sol = Solution()\n",
    "    cases = [{\"arr\": [2, 3, 1, 6, 7]}, {\"arr\": [1, 1, 1, 1, 1]}]\n",
    "    for case in cases:\n",
    "        print(sol.countTriplets(case[\"arr\"]))"
   ]
  }
 ],
 "metadata": {
  "kernelspec": {
   "display_name": "Python 3",
   "language": "python",
   "name": "python3"
  },
  "language_info": {
   "codemirror_mode": {
    "name": "ipython",
    "version": 3
   },
   "file_extension": ".py",
   "mimetype": "text/x-python",
   "name": "python",
   "nbconvert_exporter": "python",
   "pygments_lexer": "ipython3",
   "version": "3.12.2"
  }
 },
 "nbformat": 4,
 "nbformat_minor": 2
}
