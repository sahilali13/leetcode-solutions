{
 "cells": [
  {
   "cell_type": "markdown",
   "metadata": {},
   "source": [
    "#### Prerequisites\n"
   ]
  },
  {
   "cell_type": "code",
   "execution_count": null,
   "metadata": {},
   "outputs": [],
   "source": [
    "from itertools import combinations\n",
    "from typing import List"
   ]
  },
  {
   "cell_type": "markdown",
   "metadata": {},
   "source": [
    "## 1442. Count Triplets That Can Form Two Arrays of Equal XOR\n",
    "\n",
    "    Difficulty - Medium\n",
    "    Topics - Array, Hash Table\n",
    "    Algo - Bit Manipulation\n",
    "\n",
    "Given an array of integers `arr`.\n",
    "\n",
    "We want to select three indices `i`, `j` and `k` where `(0 <= i < j <= k < arr.length)`.\n",
    "\n",
    "Let's define `a` and `b` as follows:\n",
    "\n",
    "-   `a = arr[i] ^ arr[i + 1] ^ ... ^ arr[j - 1]`\n",
    "-   `b = arr[j] ^ arr[j + 1] ^ ... ^ arr[k]`\n",
    "    Note that **^** denotes the **bitwise-xor** operation.\n",
    "\n",
    "Return _the number of triplets_ (`i`, `j` and `k`) Where `a == b`.\n",
    "\n",
    "**Constraints:**\n",
    "\n",
    "-   `1 <= arr.length <= 300`\n",
    "-   <code>1 <= arr[i] <= 10<sup>8</sup></code>\n"
   ]
  },
  {
   "cell_type": "code",
   "execution_count": null,
   "metadata": {},
   "outputs": [],
   "source": [
    "class Solution:\n",
    "    def countTriplets(self, arr: List[int]) -> int:\n",
    "        n = len(arr)\n",
    "        prefix_xor = [0] * (n + 1)\n",
    "        for i in range(n):\n",
    "            prefix_xor[i + 1] = prefix_xor[i] ^ arr[i]\n",
    "\n",
    "        count = 0\n",
    "        for i in range(n):\n",
    "            for j in range(i + 1, n):\n",
    "                if prefix_xor[i] == prefix_xor[j + 1]:\n",
    "                    count += j - i\n",
    "        return count\n",
    "\n",
    "\n",
    "if __name__ == \"__main__\":\n",
    "    sol = Solution()\n",
    "    cases = [{\"arr\": [2, 3, 1, 6, 7]}, {\"arr\": [1, 1, 1, 1, 1]}]\n",
    "    for case in cases:\n",
    "        print(sol.countTriplets(case[\"arr\"]))"
   ]
  }
 ],
 "metadata": {
  "kernelspec": {
   "display_name": "Python 3",
   "language": "python",
   "name": "python3"
  },
  "language_info": {
   "codemirror_mode": {
    "name": "ipython",
    "version": 3
   },
   "file_extension": ".py",
   "mimetype": "text/x-python",
   "name": "python",
   "nbconvert_exporter": "python",
   "pygments_lexer": "ipython3",
   "version": "3.12.2"
  }
 },
 "nbformat": 4,
 "nbformat_minor": 2
}
