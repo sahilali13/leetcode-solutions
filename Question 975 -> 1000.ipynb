{
 "cells": [
  {
   "cell_type": "markdown",
   "metadata": {},
   "source": [
    "#### Prerequisites\n"
   ]
  },
  {
   "cell_type": "code",
   "execution_count": 4,
   "metadata": {},
   "outputs": [],
   "source": [
    "from typing import List\n",
    "from collections import defaultdict"
   ]
  },
  {
   "cell_type": "markdown",
   "metadata": {},
   "source": [
    "## 992. Subarrays with K Different Integers\n",
    "\n",
    "    Difficulty - Hard\n",
    "    Topics - Array\n",
    "    Algos - Hash Table, Sliding Window\n",
    "\n",
    "Given an integer array nums and an integer k, return the number of good subarrays of nums.\n",
    "\n",
    "A good array is an array where the number of different integers in that array is exactly k.\n",
    "\n",
    "-   For example, [1,2,3,1,2] has 3 different integers: 1, 2, and 3.\n",
    "\n",
    "A subarray is a contiguous part of an array.\n"
   ]
  },
  {
   "cell_type": "code",
   "execution_count": 5,
   "metadata": {},
   "outputs": [
    {
     "name": "stdout",
     "output_type": "stream",
     "text": [
      "7\n",
      "3\n"
     ]
    }
   ],
   "source": [
    "class Solution:\n",
    "    def subarraysWithAtMostKDistinct(self, nums: list[int], k: int) -> int:\n",
    "        memo = defaultdict(int)\n",
    "        ans = left = 0\n",
    "\n",
    "        for right, num in enumerate(nums):\n",
    "            memo[num] += 1\n",
    "            while len(memo) > k:\n",
    "                memo[nums[left]] -= 1\n",
    "                if memo[nums[left]] == 0:\n",
    "                    del memo[nums[left]]\n",
    "                left += 1\n",
    "            ans += right - left + 1\n",
    "\n",
    "        return ans\n",
    "\n",
    "    def subarraysWithKDistinct(self, nums: list[int], k: int) -> int:\n",
    "        return self.subarraysWithAtMostKDistinct(\n",
    "            nums, k\n",
    "        ) - self.subarraysWithAtMostKDistinct(nums, k - 1)\n",
    "\n",
    "\n",
    "if __name__ == \"__main__\":\n",
    "    sol = Solution()\n",
    "    cases = [{\"nums\": [1, 2, 1, 2, 3], \"k\": 2}, {\"nums\": [1, 2, 1, 3, 4], \"k\": 3}]\n",
    "    for case in cases:\n",
    "        print(sol.subarraysWithKDistinct(case[\"nums\"], case[\"k\"]))"
   ]
  }
 ],
 "metadata": {
  "kernelspec": {
   "display_name": "Python 3",
   "language": "python",
   "name": "python3"
  },
  "language_info": {
   "codemirror_mode": {
    "name": "ipython",
    "version": 3
   },
   "file_extension": ".py",
   "mimetype": "text/x-python",
   "name": "python",
   "nbconvert_exporter": "python",
   "pygments_lexer": "ipython3",
   "version": "3.12.2"
  }
 },
 "nbformat": 4,
 "nbformat_minor": 2
}
