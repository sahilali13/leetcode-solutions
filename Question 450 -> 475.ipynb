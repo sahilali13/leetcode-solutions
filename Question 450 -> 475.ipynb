{
 "cells": [
  {
   "cell_type": "markdown",
   "metadata": {},
   "source": [
    "## 461. Hamming Distance\n",
    "\n",
    "    Difficulty - Easy\n",
    "    Topic - Bit Manipulation\n",
    "\n",
    "The **Hamming distance** between two integers is the number of positions at which the corresponding bits are different.\n",
    "\n",
    "Given two integers `x` and `y`, return _the **Hamming distance** between them_.\n",
    "\n",
    "**Constraints:**\n",
    "\n",
    "-   <code>0 <= x, y <= 2<sup>31</sup> - 1</code>\n"
   ]
  },
  {
   "cell_type": "code",
   "execution_count": null,
   "metadata": {},
   "outputs": [],
   "source": [
    "class Solution:\n",
    "    def hammingDistance(self, x: int, y: int) -> int:\n",
    "        return (x ^ y).bit_count()\n",
    "\n",
    "\n",
    "if __name__ == \"__main__\":\n",
    "    sol = Solution()\n",
    "    cases = [{\"x\": 1, \"y\": 4}, {\"x\": 3, \"y\": 1}]\n",
    "    for case in cases:\n",
    "        print(sol.hammingDistance(case[\"x\"], case[\"y\"]))"
   ]
  }
 ],
 "metadata": {
  "kernelspec": {
   "display_name": "Python 3",
   "language": "python",
   "name": "python3"
  },
  "language_info": {
   "codemirror_mode": {
    "name": "ipython",
    "version": 3
   },
   "file_extension": ".py",
   "mimetype": "text/x-python",
   "name": "python",
   "nbconvert_exporter": "python",
   "pygments_lexer": "ipython3",
   "version": "3.12.2"
  }
 },
 "nbformat": 4,
 "nbformat_minor": 2
}
