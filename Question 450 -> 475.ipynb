{
 "cells": [
  {
   "cell_type": "markdown",
   "metadata": {},
   "source": [
    "#### Prerequisites\n"
   ]
  },
  {
   "cell_type": "code",
   "execution_count": null,
   "metadata": {},
   "outputs": [],
   "source": [
    "from typing import List"
   ]
  },
  {
   "cell_type": "markdown",
   "metadata": {},
   "source": [
    "## 452. Minimum Number of Arrows to Burst Balloons\n",
    "\n",
    "    Difficulty - Medium\n",
    "    Topic - Array\n",
    "    Algos - Greedy, Sorting\n",
    "\n",
    "There are some spherical balloons taped onto a flat wall that represents the XY-plane. The balloons are represented as a 2D integer array `points` where <code>points[i] = [x<sub>start</sub>, x<sub>end</sub>]</code> denotes a balloon whose **horizontal diameter** stretches between <code>x<sub>start</sub></code> and <code>x<sub>end</sub></code>. You do not know the exact y-coordinates of the balloons.\n",
    "\n",
    "Arrows can be shot up **directly vertically** (in the positive y-direction) from different points along the x-axis. A balloon with <code>x<sub>start</sub></code> and <code>x<sub>end</sub></code> is **burst** by an arrow shot at `x` if <code>x<sub>start</sub> <= x <= x<sub>end</sub></code>. There is **no limit** to the number of arrows that can be shot. A shot arrow keeps traveling up infinitely, bursting any balloons in its path.\n",
    "\n",
    "Given the array `points`, return _the **minimum** number of arrows that must be shot to burst all balloons_.\n",
    "\n",
    "Constraints:\n",
    "\n",
    "-   <code>1 <= points.length <= 10<sup>5</sup></code>\n",
    "-   `points[i].length == 2`\n",
    "-   <code>-2<sup>31</sup> <= x<sub>start</sub> < x<sub>end</sub> <= 2<sup>31</sup> - 1</code>\n"
   ]
  },
  {
   "cell_type": "code",
   "execution_count": null,
   "metadata": {},
   "outputs": [],
   "source": [
    "class Solution:\n",
    "    def findMinArrowShots(self, points: List[List[int]]) -> int:\n",
    "        if not points:\n",
    "            return 0\n",
    "\n",
    "        # Sort the points by their ending coordinates\n",
    "        points.sort(key=lambda x: x[1])\n",
    "\n",
    "        # Initialize the number of arrows and the end coordinate of the first balloon\n",
    "        arrows = 1\n",
    "        end = points[0][1]\n",
    "\n",
    "        # Iterate through the sorted points\n",
    "        for start, point_end in points:\n",
    "            # If the current balloon starts after the last balloon's end,\n",
    "            # we need a new arrow, and we update the end to the current balloon's end\n",
    "            if start > end:\n",
    "                arrows += 1\n",
    "                end = point_end\n",
    "\n",
    "        return arrows\n",
    "\n",
    "\n",
    "if __name__ == \"__main__\":\n",
    "    sol = Solution()\n",
    "    cases = [\n",
    "        {\"points\": [[10, 16], [2, 8], [1, 6], [7, 12]]},\n",
    "        {\"points\": [[1, 2], [3, 4], [5, 6], [7, 8]]},\n",
    "        {\"points\": [[1, 2], [2, 3], [3, 4], [4, 5]]},\n",
    "    ]\n",
    "    for case in cases:\n",
    "        print(sol.findMinArrowShots(case[\"points\"]))"
   ]
  },
  {
   "cell_type": "markdown",
   "metadata": {},
   "source": [
    "## 461. Hamming Distance\n",
    "\n",
    "    Difficulty - Easy\n",
    "    Topic - Bit Manipulation\n",
    "\n",
    "The **Hamming distance** between two integers is the number of positions at which the corresponding bits are different.\n",
    "\n",
    "Given two integers `x` and `y`, return _the **Hamming distance** between them_.\n",
    "\n",
    "**Constraints:**\n",
    "\n",
    "-   <code>0 <= x, y <= 2<sup>31</sup> - 1</code>\n"
   ]
  },
  {
   "cell_type": "code",
   "execution_count": null,
   "metadata": {},
   "outputs": [],
   "source": [
    "class Solution:\n",
    "    def hammingDistance(self, x: int, y: int) -> int:\n",
    "        return (x ^ y).bit_count()\n",
    "\n",
    "\n",
    "if __name__ == \"__main__\":\n",
    "    sol = Solution()\n",
    "    cases = [{\"x\": 1, \"y\": 4}, {\"x\": 3, \"y\": 1}]\n",
    "    for case in cases:\n",
    "        print(sol.hammingDistance(case[\"x\"], case[\"y\"]))"
   ]
  }
 ],
 "metadata": {
  "kernelspec": {
   "display_name": "Python 3",
   "language": "python",
   "name": "python3"
  },
  "language_info": {
   "codemirror_mode": {
    "name": "ipython",
    "version": 3
   },
   "file_extension": ".py",
   "mimetype": "text/x-python",
   "name": "python",
   "nbconvert_exporter": "python",
   "pygments_lexer": "ipython3",
   "version": "3.12.2"
  }
 },
 "nbformat": 4,
 "nbformat_minor": 2
}
