{
 "cells": [
  {
   "cell_type": "markdown",
   "metadata": {},
   "source": [
    "#### Prerequisites\n"
   ]
  },
  {
   "cell_type": "code",
   "execution_count": 2,
   "metadata": {},
   "outputs": [],
   "source": [
    "from typing import List"
   ]
  },
  {
   "cell_type": "markdown",
   "metadata": {},
   "source": [
    "## 2444. Count Subarrays With Fixed Bounds\n",
    "\n",
    "    Difficulty - Hard\n",
    "    Topics - Array, Queue\n",
    "    Algo - Sliding Window\n",
    "\n",
    "You are given an integer array nums and two integers minK and maxK.\n",
    "\n",
    "A fixed-bound subarray of nums is a subarray that satisfies the following conditions:\n",
    "\n",
    "-   The minimum value in the subarray is equal to minK.\n",
    "-   The maximum value in the subarray is equal to maxK.\n",
    "\n",
    "Return the number of fixed-bound subarrays.\n",
    "\n",
    "A subarray is a contiguous part of an array.\n"
   ]
  },
  {
   "cell_type": "code",
   "execution_count": 4,
   "metadata": {},
   "outputs": [
    {
     "name": "stdout",
     "output_type": "stream",
     "text": [
      "2\n",
      "10\n"
     ]
    }
   ],
   "source": [
    "class Solution:\n",
    "    def countSubarrays(self, nums: list[int], minK: int, maxK: int) -> int:\n",
    "        ans = 0\n",
    "        left = -1\n",
    "        prevMinIndex = -1\n",
    "        prevMaxIndex = -1\n",
    "\n",
    "        for right, num in enumerate(nums):\n",
    "            if num < minK or num > maxK:\n",
    "                left = right\n",
    "            if num == minK:\n",
    "                prevMinIndex = right\n",
    "            if num == maxK:\n",
    "                prevMaxIndex = right\n",
    "            if prevMinIndex != -1 and prevMaxIndex != -1:\n",
    "                ans += max(0, min(prevMinIndex, prevMaxIndex) - left)\n",
    "\n",
    "        return ans\n",
    "\n",
    "\n",
    "if __name__ == \"__main__\":\n",
    "    sol = Solution()\n",
    "    cases = [\n",
    "        {\"nums\": [1, 3, 5, 2, 7, 5], \"minK\": 1, \"maxK\": 5},\n",
    "        {\"nums\": [1, 1, 1, 1], \"minK\": 1, \"maxK\": 1},\n",
    "    ]\n",
    "    for case in cases:\n",
    "        print(sol.countSubarrays(case[\"nums\"], case[\"minK\"], case[\"maxK\"]))"
   ]
  }
 ],
 "metadata": {
  "kernelspec": {
   "display_name": "Python 3",
   "language": "python",
   "name": "python3"
  },
  "language_info": {
   "codemirror_mode": {
    "name": "ipython",
    "version": 3
   },
   "file_extension": ".py",
   "mimetype": "text/x-python",
   "name": "python",
   "nbconvert_exporter": "python",
   "pygments_lexer": "ipython3",
   "version": "3.12.2"
  }
 },
 "nbformat": 4,
 "nbformat_minor": 2
}
