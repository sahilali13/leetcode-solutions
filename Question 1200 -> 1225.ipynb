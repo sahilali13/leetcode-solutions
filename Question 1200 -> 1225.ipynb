{
 "cells": [
  {
   "cell_type": "markdown",
   "metadata": {},
   "source": [
    "#### Prerequisites\n"
   ]
  },
  {
   "cell_type": "code",
   "execution_count": null,
   "metadata": {},
   "outputs": [],
   "source": [
    "from typing import List"
   ]
  },
  {
   "cell_type": "markdown",
   "metadata": {},
   "source": [
    "## 1219. Path with Maximum Gold\n",
    "\n",
    "    Difficulty - Medium\n",
    "    Topics - Array, Matrix\n",
    "    Algo - Backtracking\n",
    "\n",
    "In a gold mine `grid` of size `m x n`, each cell in this mine has an integer representing the amount of gold in that cell, `0` if it is empty.\n",
    "\n",
    "Return the maximum amount of gold you can collect under the conditions:\n",
    "\n",
    "-   Every time you are located in a cell you will collect all the gold in that cell.\n",
    "-   From your position, you can walk one step to the left, right, up, or down.\n",
    "-   You can't visit the same cell more than once.\n",
    "-   Never visit a cell with `0` gold.\n",
    "-   You can start and stop collecting gold from **any** position in the grid that has some gold.\n"
   ]
  },
  {
   "cell_type": "code",
   "execution_count": null,
   "metadata": {},
   "outputs": [],
   "source": [
    "class Solution:\n",
    "    def getMaximumGold(self, grid: List[List[int]]) -> int:\n",
    "        rows, cols = len(grid), len(grid[0])\n",
    "        max_gold = 0\n",
    "\n",
    "        def dfs(row, col):\n",
    "            if row < 0 or row >= rows or col < 0 or col >= cols or grid[row][col] == 0:\n",
    "                return 0\n",
    "\n",
    "            current_gold = grid[row][col]\n",
    "\n",
    "            original_value = grid[row][col]\n",
    "            grid[row][col] = 0\n",
    "\n",
    "            total_gold = current_gold + max(\n",
    "                dfs(row + 1, col),\n",
    "                dfs(row - 1, col),\n",
    "                dfs(row, col + 1),\n",
    "                dfs(row, col - 1),\n",
    "            )\n",
    "\n",
    "            grid[row][col] = original_value\n",
    "\n",
    "            return total_gold\n",
    "\n",
    "        for i in range(rows):\n",
    "            for j in range(cols):\n",
    "                max_gold = max(max_gold, dfs(i, j))\n",
    "\n",
    "        return max_gold\n",
    "\n",
    "\n",
    "if __name__ == \"__main__\":\n",
    "    sol = Solution()\n",
    "    cases = [\n",
    "        {\"grid\": [[0, 6, 0], [5, 8, 7], [0, 9, 0]]},\n",
    "        {\"grid\": [[1, 0, 7], [2, 0, 6], [3, 4, 5], [0, 3, 0], [9, 0, 20]]},\n",
    "    ]\n",
    "    for case in cases:\n",
    "        print(sol.getMaximumGold(case[\"grid\"]))"
   ]
  }
 ],
 "metadata": {
  "kernelspec": {
   "display_name": "Python 3",
   "language": "python",
   "name": "python3"
  },
  "language_info": {
   "codemirror_mode": {
    "name": "ipython",
    "version": 3
   },
   "file_extension": ".py",
   "mimetype": "text/x-python",
   "name": "python",
   "nbconvert_exporter": "python",
   "pygments_lexer": "ipython3",
   "version": "3.12.2"
  }
 },
 "nbformat": 4,
 "nbformat_minor": 2
}
