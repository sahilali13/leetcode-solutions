{
 "cells": [
  {
   "cell_type": "markdown",
   "metadata": {},
   "source": [
    "#### Prerequisites\n"
   ]
  },
  {
   "cell_type": "code",
   "execution_count": null,
   "metadata": {},
   "outputs": [],
   "source": [
    "from typing import List"
   ]
  },
  {
   "cell_type": "markdown",
   "metadata": {},
   "source": [
    "## 1208. Get Equal Substrings Within Budget\n",
    "\n",
    "    Difficulty - Medium\n",
    "    Topic - String\n",
    "    Algos - Binary Search, Sliding Windows\n",
    "\n",
    "You are given two strings `s` and `t` of the same length and an integer `maxCost`.\n",
    "\n",
    "You want to change `s` to `t`. Changing the <code>i<sup>th</sup></code> character of `s` to <code>i<sup>th</sup></code> character of `t` costs `|s[i] - t[i]|` (i.e., the absolute difference between the ASCII values of the characters).\n",
    "\n",
    "Return _the maximum length of a substring of_ `s` _that can be changed to be the same as the corresponding substring of_ `t` _with a cost less than or equal to_ `maxCost`. If there is no substring from `s` that can be changed to its corresponding substring from `t`, return `0`.\n",
    "\n",
    "**Constraints:**\n",
    "\n",
    "-   <code>1 <= s.length <= 10<sup>5</sup></code>\n",
    "-   `t.length == s.length`\n",
    "-   <code>0 <= maxCost <= 10<sup>6</sup></code>\n",
    "-   `s` and `t` consist of only lowercase English letters.\n"
   ]
  },
  {
   "cell_type": "code",
   "execution_count": null,
   "metadata": {},
   "outputs": [],
   "source": [
    "class Solution:\n",
    "    def equalSubstring(self, s: str, t: str, maxCost: int) -> int:\n",
    "        left = 0\n",
    "        maxLength = 0\n",
    "        cost = 0\n",
    "\n",
    "        for right in range(len(s)):\n",
    "            cost += abs(ord(s[right]) - ord(t[right]))\n",
    "\n",
    "            while cost > maxCost:\n",
    "                cost -= abs(ord(s[left]) - ord(t[left]))\n",
    "                left += 1\n",
    "\n",
    "            maxLength = max(maxLength, right - left + 1)\n",
    "\n",
    "        return maxLength\n",
    "\n",
    "\n",
    "if __name__ == \"__main__\":\n",
    "    sol = Solution()\n",
    "    cases = [\n",
    "        {\"s\": \"abcd\", \"t\": \"bcdf\", \"maxCost\": 3},\n",
    "        {\"s\": \"abcd\", \"t\": \"cdef\", \"maxCost\": 3},\n",
    "        {\"s\": \"abcd\", \"t\": \"acde\", \"maxCost\": 0},\n",
    "    ]\n",
    "    for case in cases:\n",
    "        print(sol.equalSubstring(case[\"s\"], case[\"t\"], case[\"maxCost\"]))"
   ]
  },
  {
   "cell_type": "markdown",
   "metadata": {},
   "source": [
    "## 1219. Path with Maximum Gold\n",
    "\n",
    "    Difficulty - Medium\n",
    "    Topics - Array, Matrix\n",
    "    Algo - Backtracking\n",
    "\n",
    "In a gold mine `grid` of size `m x n`, each cell in this mine has an integer representing the amount of gold in that cell, `0` if it is empty.\n",
    "\n",
    "Return the maximum amount of gold you can collect under the conditions:\n",
    "\n",
    "-   Every time you are located in a cell you will collect all the gold in that cell.\n",
    "-   From your position, you can walk one step to the left, right, up, or down.\n",
    "-   You can't visit the same cell more than once.\n",
    "-   Never visit a cell with `0` gold.\n",
    "-   You can start and stop collecting gold from **any** position in the grid that has some gold.\n",
    "\n",
    "**Constraints:**\n",
    "\n",
    "-   `m == grid.length`\n",
    "-   `n == grid[i].length`\n",
    "-   `1 <= m, n <= 15`\n",
    "-   `0 <= grid[i][j] <= 100`\n",
    "-   There are at most **25** cells containing gold.\n"
   ]
  },
  {
   "cell_type": "code",
   "execution_count": null,
   "metadata": {},
   "outputs": [],
   "source": [
    "class Solution:\n",
    "    def getMaximumGold(self, grid: List[List[int]]) -> int:\n",
    "        rows, cols = len(grid), len(grid[0])\n",
    "        max_gold = 0\n",
    "        memo = {}\n",
    "\n",
    "        def dfs(row, col):\n",
    "            if row < 0 or row >= rows or col < 0 or col >= cols or grid[row][col] == 0:\n",
    "                memo[(row, col)] = 0\n",
    "                return memo[(row, col)]\n",
    "\n",
    "            current_gold = grid[row][col]\n",
    "\n",
    "            original_value = grid[row][col]\n",
    "            grid[row][col] = 0\n",
    "\n",
    "            total_gold = current_gold + max(\n",
    "                dfs(row + 1, col),\n",
    "                dfs(row - 1, col),\n",
    "                dfs(row, col + 1),\n",
    "                dfs(row, col - 1),\n",
    "            )\n",
    "\n",
    "            memo[(row, col)] = total_gold\n",
    "\n",
    "            grid[row][col] = original_value\n",
    "\n",
    "            return memo[(row, col)]\n",
    "\n",
    "        for i in range(rows):\n",
    "            for j in range(cols):\n",
    "                max_gold = max(max_gold, dfs(i, j))\n",
    "\n",
    "        return max_gold\n",
    "\n",
    "\n",
    "if __name__ == \"__main__\":\n",
    "    sol = Solution()\n",
    "    cases = [\n",
    "        {\"grid\": [[0, 6, 0], [5, 8, 7], [0, 9, 0]]},\n",
    "        {\"grid\": [[1, 0, 7], [2, 0, 6], [3, 4, 5], [0, 3, 0], [9, 0, 20]]},\n",
    "    ]\n",
    "    for case in cases:\n",
    "        print(sol.getMaximumGold(case[\"grid\"]))"
   ]
  }
 ],
 "metadata": {
  "kernelspec": {
   "display_name": "Python 3",
   "language": "python",
   "name": "python3"
  },
  "language_info": {
   "codemirror_mode": {
    "name": "ipython",
    "version": 3
   },
   "file_extension": ".py",
   "mimetype": "text/x-python",
   "name": "python",
   "nbconvert_exporter": "python",
   "pygments_lexer": "ipython3",
   "version": "3.12.2"
  }
 },
 "nbformat": 4,
 "nbformat_minor": 2
}
