{
 "cells": [
  {
   "cell_type": "markdown",
   "metadata": {},
   "source": [
    "## 678. Valid Parenthesis String\n",
    "\n",
    "    Difficulty - Medium\n",
    "    Topics - String\n",
    "\n",
    "Given a string s containing only three types of characters: '(', ')' and '\\*', return true if s is valid.\n",
    "\n",
    "The following rules define a valid string:\n",
    "\n",
    "-   Any left parenthesis '(' must have a corresponding right parenthesis ')'.\n",
    "-   Any right parenthesis ')' must have a corresponding left parenthesis '('.\n",
    "-   Left parenthesis '(' must go before the corresponding right parenthesis ')'.\n",
    "-   '\\*' could be treated as a single right parenthesis ')' or a single left parenthesis '(' or an empty string \"\".\n"
   ]
  },
  {
   "cell_type": "code",
   "execution_count": null,
   "metadata": {},
   "outputs": [],
   "source": [
    "class Solution:\n",
    "    def checkValidString(self, s: str) -> bool:\n",
    "        open_count = 0\n",
    "        close_count = 0\n",
    "\n",
    "        for i in range(len(s)):\n",
    "            if s[i] in \"(*\":\n",
    "                open_count += 1\n",
    "            else:\n",
    "                open_count -= 1\n",
    "\n",
    "            if s[len(s) - 1 - i] in \")*\":\n",
    "                close_count += 1\n",
    "            else:\n",
    "                close_count -= 1\n",
    "\n",
    "            if open_count < 0 or close_count < 0:\n",
    "                return False\n",
    "\n",
    "        return True\n",
    "\n",
    "\n",
    "if __name__ == \"__main__\":\n",
    "    sol = Solution()\n",
    "    cases = [\n",
    "        \"()\",\n",
    "        \"(*)\",\n",
    "        \"(*))\",\n",
    "        \"(((((*(()((((*((**(((()()*)()()()*((((**)())*)*)))))))(())(()))())((*()()(((()((()*(())*(()**)()(())\",\n",
    "    ]\n",
    "    for case in cases:\n",
    "        print(sol.checkValidString(s=case))"
   ]
  }
 ],
 "metadata": {
  "kernelspec": {
   "display_name": "Python 3",
   "language": "python",
   "name": "python3"
  },
  "language_info": {
   "codemirror_mode": {
    "name": "ipython",
    "version": 3
   },
   "file_extension": ".py",
   "mimetype": "text/x-python",
   "name": "python",
   "nbconvert_exporter": "python",
   "pygments_lexer": "ipython3",
   "version": "3.12.2"
  }
 },
 "nbformat": 4,
 "nbformat_minor": 2
}
