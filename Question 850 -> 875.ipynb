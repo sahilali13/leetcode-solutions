{
 "cells": [
  {
   "cell_type": "markdown",
   "metadata": {},
   "source": [
    "#### Prerequisites\n"
   ]
  },
  {
   "cell_type": "code",
   "execution_count": null,
   "metadata": {},
   "outputs": [],
   "source": [
    "from heapq import heappush, heappop\n",
    "from typing import List"
   ]
  },
  {
   "cell_type": "markdown",
   "metadata": {},
   "source": [
    "## 857. Minimum Cost to Hire K Workers\n",
    "\n",
    "    Difficulty - Hard\n",
    "    Topics - Array, Heap\n",
    "    Algos - Greedy, Sorting\n",
    "\n",
    "There are `n` workers. You are given two integer arrays `quality` and `wage` where `quality[i]` is the quality of the `ith` worker and `wage[i]` is the minimum wage expectation for the `ith` worker.\n",
    "\n",
    "We want to hire exactly `k` workers to form a **paid group**. To hire a group of `k` workers, we must pay them according to the following rules:\n",
    "\n",
    "1. Every worker in the paid group must be paid at least their minimum wage expectation.\n",
    "2. In the group, each worker's pay must be directly proportional to their quality. This means if a worker’s quality is double that of another worker in the group, then they must be paid twice as much as the other worker.\n",
    "\n",
    "Given the integer `k`, return _the least amount of money needed to form a paid group satisfying the above conditions_. Answers within `10^-5` of the actual answer will be accepted.\n"
   ]
  },
  {
   "cell_type": "code",
   "execution_count": null,
   "metadata": {},
   "outputs": [],
   "source": [
    "class Solution:\n",
    "    def mincostToHireWorkers(\n",
    "        self, quality: List[int], wage: List[int], k: int\n",
    "    ) -> float:\n",
    "        workers = sorted((w / q, q) for q, w in zip(quality, wage))\n",
    "        min_cost = float(\"inf\")\n",
    "        sum_quality = 0\n",
    "        max_heap = []\n",
    "\n",
    "        for ratio, q in workers:\n",
    "\n",
    "            heappush(max_heap, -q)\n",
    "            sum_quality += q\n",
    "\n",
    "            if len(max_heap) > k:\n",
    "                sum_quality += heappop(max_heap)\n",
    "\n",
    "            if len(max_heap) == k:\n",
    "                min_cost = min(min_cost, ratio * sum_quality)\n",
    "\n",
    "        return min_cost\n",
    "\n",
    "\n",
    "if __name__ == \"__main__\":\n",
    "    sol = Solution()\n",
    "    cases = [\n",
    "        {\"quality\": [10, 20, 5], \"wage\": [70, 50, 30], \"k\": 2},\n",
    "        {\"quality\": [3, 1, 10, 10, 1], \"wage\": [4, 8, 2, 2, 7], \"k\": 3},\n",
    "    ]\n",
    "    for case in cases:\n",
    "        print(sol.mincostToHireWorkers(case[\"quality\"], case[\"wage\"], case[\"k\"]))"
   ]
  },
  {
   "cell_type": "markdown",
   "metadata": {},
   "source": [
    "## 861. Score After Flipping Matrix\n",
    "\n",
    "    Difficulty - Medium\n",
    "    Topics - Array, Matrix\n",
    "    Algos - Greedy, Bit Manipulation\n",
    "\n",
    "You are given an `m x n` binary matrix `grid`.\n",
    "\n",
    "A **move** consists of choosing any row or column and toggling each value in that row or column (i.e., changing all `0`'s to `1`'s, and all `1`'s to `0`'s).\n",
    "\n",
    "Every row of the matrix is interpreted as a binary number, and the **score** of the matrix is the sum of these numbers.\n",
    "\n",
    "Return _the highest possible **score** after making any number of **moves** (including zero moves)_.\n"
   ]
  },
  {
   "cell_type": "code",
   "execution_count": null,
   "metadata": {},
   "outputs": [],
   "source": [
    "class Solution:\n",
    "    def matrixScore(self, grid: List[List[int]]) -> int:\n",
    "        rows, cols = len(grid), len(grid[0])\n",
    "\n",
    "        for row in range(rows):\n",
    "            if grid[row][0] == 0:\n",
    "                for col in range(cols):\n",
    "                    grid[row][col] = 1 - grid[row][col]\n",
    "\n",
    "        for col in range(1, cols):\n",
    "            count_ones = sum(grid[row][col] for row in range(rows))\n",
    "            count_zeros = rows - count_ones\n",
    "            if count_zeros > count_ones:\n",
    "                for row in range(rows):\n",
    "                    grid[row][col] = 1 - grid[row][col]\n",
    "\n",
    "        score = sum(int(\"\".join(map(str, row)), 2) for row in grid)\n",
    "        return score\n",
    "\n",
    "\n",
    "if __name__ == \"__main__\":\n",
    "    sol = Solution()\n",
    "    cases = [{\"grid\": [[0, 0, 1, 1], [1, 0, 1, 0], [1, 1, 0, 0]]}, {\"grid\": [[0]]}]\n",
    "    for case in cases:\n",
    "        print(sol.matrixScore(case[\"grid\"]))"
   ]
  }
 ],
 "metadata": {
  "kernelspec": {
   "display_name": "Python 3",
   "language": "python",
   "name": "python3"
  },
  "language_info": {
   "codemirror_mode": {
    "name": "ipython",
    "version": 3
   },
   "file_extension": ".py",
   "mimetype": "text/x-python",
   "name": "python",
   "nbconvert_exporter": "python",
   "pygments_lexer": "ipython3",
   "version": "3.12.2"
  }
 },
 "nbformat": 4,
 "nbformat_minor": 2
}
