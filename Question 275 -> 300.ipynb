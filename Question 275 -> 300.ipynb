{
 "cells": [
  {
   "cell_type": "markdown",
   "metadata": {},
   "source": [
    "#### Prerequisites\n"
   ]
  },
  {
   "cell_type": "code",
   "execution_count": null,
   "metadata": {},
   "outputs": [],
   "source": [
    "from typing import List"
   ]
  },
  {
   "cell_type": "markdown",
   "metadata": {},
   "source": [
    "## 278. First Bad Version\n",
    "\n",
    "    Difficulty - Easy\n",
    "    Algo - Binary Search\n",
    "\n",
    "You are a product manager and currently leading a team to develop a new product. Unfortunately, the latest version of your product fails the quality check. Since each version is developed based on the previous version, all the versions after a bad version are also bad.\n",
    "\n",
    "Suppose you have `n` versions `[1, 2, ..., n]` and you want to find out the first bad one, which causes all the following ones to be bad.\n",
    "\n",
    "You are given an API `bool isBadVersion(version)` which returns whether `version` is bad. Implement a function to find the first bad version. You should minimize the number of calls to the API.\n",
    "\n",
    "**Constraints:**\n",
    "\n",
    "-   <code>1 <= bad <= n <= 2<sup>31</sup> - 1</code>\n"
   ]
  },
  {
   "cell_type": "code",
   "execution_count": null,
   "metadata": {},
   "outputs": [],
   "source": [
    "# The isBadVersion API is already defined for you.\n",
    "def isBadVersion(version: int) -> bool:\n",
    "    global bad_version\n",
    "    return version >= bad_version\n",
    "\n",
    "\n",
    "class Solution:\n",
    "    def firstBadVersion(self, n: int) -> int:\n",
    "        ans, start, end = 0, 0, n\n",
    "        while start <= end:\n",
    "            mid = start + ((end - start) // 2)\n",
    "            if isBadVersion(version=mid):\n",
    "                ans = mid\n",
    "                end = mid - 1\n",
    "            else:\n",
    "                start = mid + 1\n",
    "        return ans\n",
    "\n",
    "\n",
    "if __name__ == \"__main__\":\n",
    "    sol = Solution()\n",
    "    cases = [{\"n\": 5, \"bad\": 4}, {\"n\": 1, \"bad\": 1}]\n",
    "    for case in cases:\n",
    "        bad_version = case[\"bad\"]\n",
    "        print(sol.firstBadVersion(case[\"n\"]))"
   ]
  },
  {
   "cell_type": "markdown",
   "metadata": {},
   "source": [
    "## 283. Move Zeroes\n",
    "\n",
    "    Difficulty - Easy\n",
    "    Topic - Array\n",
    "    Algo - Two Pointers\n",
    "\n",
    "Given an integer array `nums`, move all `0`'s to the end of it while maintaining the relative order of the non-zero elements.\n",
    "\n",
    "**Note** that you must do this in-place without making a copy of the array.\n",
    "\n",
    "**Constraints:**\n",
    "\n",
    "-   <code>1 <= nums.length <= 10<sup>4</sup></code>\n",
    "-   <code>-2<sup>31</sup> <= nums[i] <= 2<sup>31</sup> - 1</code>\n"
   ]
  },
  {
   "cell_type": "code",
   "execution_count": null,
   "metadata": {},
   "outputs": [],
   "source": [
    "class Solution:\n",
    "    def moveZeroes(self, nums: list[int]) -> None:\n",
    "        \"\"\"\n",
    "        Do not return anything, modify nums in-place instead.\n",
    "        \"\"\"\n",
    "        pointer = 0\n",
    "        for i in range(len(nums)):\n",
    "            if nums[i] != 0:\n",
    "                nums[pointer], nums[i] = nums[i], nums[pointer]\n",
    "                pointer += 1\n",
    "\n",
    "\n",
    "if __name__ == \"__main__\":\n",
    "    sol = Solution()\n",
    "    cases = [\n",
    "        {\"nums\": [0, 1, 0, 3, 12]},\n",
    "        {\"nums\": [0]},\n",
    "    ]\n",
    "    for case in cases:\n",
    "        print(case, end=\"\\t->\\t\")\n",
    "        sol.moveZeroes(case[\"nums\"])\n",
    "        print(case)"
   ]
  },
  {
   "cell_type": "markdown",
   "metadata": {},
   "source": [
    "## 287. Find the Duplicate Number\n",
    "\n",
    "    Difficulty - Medium\n",
    "    Topics - Array, Bit Manipulation\n",
    "    Algos - Two Pointers, Binary Search\n",
    "\n",
    "Given an array of integers `nums` containing `n + 1` integers where each integer is in the range `[1, n]` inclusive.\n",
    "\n",
    "There is only **one repeated number** in `nums`, return _this repeated number_.\n",
    "\n",
    "You must solve the problem **without** modifying the array `nums` and uses only constant extra space.\n",
    "\n",
    "**Constraints:**\n",
    "\n",
    "-   <code>1 <= n <= 10<sup>5</sup></code>\n",
    "-   `nums.length == n + 1`\n",
    "-   `1 <= nums[i] <= n`\n",
    "-   All the integers in `nums` appear only **once** except for **precisely one integer** which appears **two or more** times.\n"
   ]
  },
  {
   "cell_type": "code",
   "execution_count": null,
   "metadata": {},
   "outputs": [],
   "source": [
    "class Solution:\n",
    "    def findDuplicate(self, nums: List[int]) -> int:\n",
    "        slow = fast = nums[0]\n",
    "\n",
    "        while True:\n",
    "            slow = nums[slow]\n",
    "            fast = nums[nums[fast]]\n",
    "            if slow == fast:\n",
    "                break\n",
    "\n",
    "        slow = nums[0]\n",
    "        while slow != fast:\n",
    "            slow = nums[slow]\n",
    "            fast = nums[fast]\n",
    "\n",
    "        return slow\n",
    "\n",
    "\n",
    "if __name__ == \"__main__\":\n",
    "    sol = Solution()\n",
    "    cases = [\n",
    "        {\"nums\": [1, 3, 4, 2, 2]},\n",
    "        {\"nums\": [3, 1, 3, 4, 2]},\n",
    "        {\"nums\": [3, 3, 3, 3, 3]},\n",
    "    ]\n",
    "    for case in cases:\n",
    "        print(sol.findDuplicate(case[\"nums\"]))"
   ]
  },
  {
   "cell_type": "markdown",
   "metadata": {},
   "source": [
    "## 290. Word Pattern\n",
    "\n",
    "    Difficulty - Easy\n",
    "    Topics - Hash Table, String\n",
    "\n",
    "Given a `pattern` and a string `s`, find if `s` follows the same pattern.\n",
    "\n",
    "Here **follow** means a full match, such that there is a bijection between a letter in `pattern` and a **non-empty** word in `s`.\n",
    "\n",
    "**Constraints:**\n",
    "\n",
    "-   `1 <= pattern.length <= 300`\n",
    "-   `pattern` contains only lower-case English letters.\n",
    "-   `1 <= s.length <= 3000`\n",
    "-   `s` contains only lowercase English letters and spaces `' '`.\n",
    "-   `s` **does not contain** any leading or trailing spaces.\n",
    "-   All the words in `s` are separated by a single space.\n"
   ]
  },
  {
   "cell_type": "code",
   "execution_count": null,
   "metadata": {},
   "outputs": [],
   "source": [
    "class Solution:\n",
    "    def wordPattern(self, pattern: str, s: str) -> bool:\n",
    "        char_to_word = {}\n",
    "        word_to_char = {}\n",
    "\n",
    "        words = s.split()\n",
    "\n",
    "        if len(pattern) != len(words):\n",
    "            return False\n",
    "\n",
    "        for char, word in zip(pattern, words):\n",
    "            if (char in char_to_word and char_to_word[char] != word) or (\n",
    "                word in word_to_char and word_to_char[word] != char\n",
    "            ):\n",
    "                return False\n",
    "            char_to_word[char] = word\n",
    "            word_to_char[word] = char\n",
    "\n",
    "        return True\n",
    "\n",
    "\n",
    "if __name__ == \"__main__\":\n",
    "    sol = Solution()\n",
    "    cases = [\n",
    "        {\"pattern\": \"abba\", \"s\": \"dog cat cat dog\"},\n",
    "        {\"pattern\": \"abba\", \"s\": \"dog cat cat fish\"},\n",
    "        {\"pattern\": \"aaaa\", \"s\": \"dog cat cat dog\"},\n",
    "    ]\n",
    "    for case in cases:\n",
    "        print(sol.wordPattern(case[\"pattern\"], case[\"s\"]))"
   ]
  }
 ],
 "metadata": {
  "kernelspec": {
   "display_name": "Python 3",
   "language": "python",
   "name": "python3"
  },
  "language_info": {
   "codemirror_mode": {
    "name": "ipython",
    "version": 3
   },
   "file_extension": ".py",
   "mimetype": "text/x-python",
   "name": "python",
   "nbconvert_exporter": "python",
   "pygments_lexer": "ipython3",
   "version": "3.12.2"
  }
 },
 "nbformat": 4,
 "nbformat_minor": 2
}
