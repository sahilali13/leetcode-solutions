{
 "cells": [
  {
   "cell_type": "markdown",
   "metadata": {},
   "source": [
    "#### Prerequisites\n"
   ]
  },
  {
   "cell_type": "code",
   "execution_count": null,
   "metadata": {},
   "outputs": [],
   "source": [
    "from typing import List"
   ]
  },
  {
   "cell_type": "markdown",
   "metadata": {},
   "source": [
    "## 2373. Largest Local Values in a Matrix\n",
    "\n",
    "    Difficulty - Easy\n",
    "    Topics - Array, Matrix\n",
    "\n",
    "You are given an `n x n` integer matrix `grid`.\n",
    "\n",
    "Generate an integer matrix `maxLocal` of size `(n - 2) x (n - 2)` such that:\n",
    "\n",
    "-   `maxLocal[i][j]` is equal to the **largest** value of the `3 x 3` matrix in `grid` centered around row `i + 1` and column `j + 1`.\n",
    "\n",
    "In other words, we want to find the largest value in every contiguous `3 x 3` matrix in `grid`.\n",
    "\n",
    "Return _the generated matrix_.\n"
   ]
  },
  {
   "cell_type": "code",
   "execution_count": null,
   "metadata": {},
   "outputs": [],
   "source": [
    "class Solution:\n",
    "    def largestLocal(self, grid: List[List[int]]) -> List[List[int]]:\n",
    "        n = len(grid)\n",
    "        new_n = n - 2\n",
    "\n",
    "        def find_largest_element(start_row, start_col):\n",
    "            return max(\n",
    "                grid[i][j]\n",
    "                for i in range(start_row, start_row + 3)\n",
    "                for j in range(start_col, start_col + 3)\n",
    "            )\n",
    "\n",
    "        res = [\n",
    "            [find_largest_element(row, col) for col in range(new_n)]\n",
    "            for row in range(new_n)\n",
    "        ]\n",
    "\n",
    "        return res\n",
    "\n",
    "\n",
    "if __name__ == \"__main__\":\n",
    "    sol = Solution()\n",
    "    cases = [\n",
    "        {\"grid\": [[9, 9, 8, 1], [5, 6, 2, 6], [8, 2, 6, 4], [6, 2, 2, 2]]},\n",
    "        {\n",
    "            \"grid\": [\n",
    "                [1, 1, 1, 1, 1],\n",
    "                [1, 1, 1, 1, 1],\n",
    "                [1, 1, 2, 1, 1],\n",
    "                [1, 1, 1, 1, 1],\n",
    "                [1, 1, 1, 1, 1],\n",
    "            ]\n",
    "        },\n",
    "    ]\n",
    "    for case in cases:\n",
    "        print(sol.largestLocal(case[\"grid\"]))"
   ]
  }
 ],
 "metadata": {
  "kernelspec": {
   "display_name": "Python 3",
   "language": "python",
   "name": "python3"
  },
  "language_info": {
   "codemirror_mode": {
    "name": "ipython",
    "version": 3
   },
   "file_extension": ".py",
   "mimetype": "text/x-python",
   "name": "python",
   "nbconvert_exporter": "python",
   "pygments_lexer": "ipython3",
   "version": "3.12.2"
  }
 },
 "nbformat": 4,
 "nbformat_minor": 2
}
