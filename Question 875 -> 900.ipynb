{
 "cells": [
  {
   "cell_type": "markdown",
   "metadata": {},
   "source": [
    "#### Prerequisites\n"
   ]
  },
  {
   "cell_type": "code",
   "execution_count": null,
   "metadata": {},
   "outputs": [],
   "source": [
    "from typing import List"
   ]
  },
  {
   "cell_type": "markdown",
   "metadata": {},
   "source": [
    "## 881. Boats to Save People\n",
    "\n",
    "    Difficulty - Medium\n",
    "    Topic - Array\n",
    "    Algo - Two Pointers, Sorting, Greedy\n",
    "\n",
    "You are given an array `people` where `people[i]` is the weight of the `ith` person, and an **infinite number of boats** where each boat can carry a maximum weight of `limit`. Each boat carries at most two people at the same time, provided the sum of the weight of those people is at most `limit`.\n",
    "\n",
    "Return _the minimum number of boats to carry every given person_.\n"
   ]
  },
  {
   "cell_type": "code",
   "execution_count": null,
   "metadata": {},
   "outputs": [],
   "source": [
    "class Solution:\n",
    "    def numRescueBoats(self, people: List[int], limit: int) -> int:\n",
    "        people.sort()\n",
    "        boats, left, right = 0, 0, len(people) - 1\n",
    "\n",
    "        while left <= right:\n",
    "            if people[left] + people[right] <= limit:\n",
    "                left += 1\n",
    "            right -= 1\n",
    "            boats += 1\n",
    "\n",
    "        return boats\n",
    "\n",
    "\n",
    "if __name__ == \"__main__\":\n",
    "    sol = Solution()\n",
    "    cases = [\n",
    "        {\"people\": [1, 2], \"limit\": 3},\n",
    "        {\"people\": [3, 2, 2, 1], \"limit\": 3},\n",
    "        {\"people\": [3, 5, 3, 4], \"limit\": 5},\n",
    "    ]\n",
    "    for case in cases:\n",
    "        print(sol.numRescueBoats(case[\"people\"], case[\"limit\"]))"
   ]
  }
 ],
 "metadata": {
  "kernelspec": {
   "display_name": "Python 3",
   "language": "python",
   "name": "python3"
  },
  "language_info": {
   "codemirror_mode": {
    "name": "ipython",
    "version": 3
   },
   "file_extension": ".py",
   "mimetype": "text/x-python",
   "name": "python",
   "nbconvert_exporter": "python",
   "pygments_lexer": "ipython3",
   "version": "3.12.2"
  }
 },
 "nbformat": 4,
 "nbformat_minor": 2
}
