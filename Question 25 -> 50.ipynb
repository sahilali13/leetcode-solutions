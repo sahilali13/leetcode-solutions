{
 "cells": [
  {
   "cell_type": "markdown",
   "metadata": {},
   "source": [
    "#### Prerequisites\n"
   ]
  },
  {
   "cell_type": "code",
   "execution_count": null,
   "metadata": {},
   "outputs": [],
   "source": [
    "from typing import List"
   ]
  },
  {
   "cell_type": "markdown",
   "metadata": {},
   "source": [
    "## 26. Remove Duplicates from Sorted Array\n",
    "\n",
    "    Difficulty - Easy\n",
    "    Topics - Array\n",
    "    Algo - Two Pointers\n",
    "\n",
    "Given an integer array nums sorted in non-decreasing order, remove the duplicates in-place such that each unique element appears only once. The relative order of the elements should be kept the same. Then return the number of unique elements in nums.\n",
    "\n",
    "Consider the number of unique elements of nums to be k, to get accepted, you need to do the following things:\n",
    "\n",
    "-   Change the array nums such that the first k elements of nums contain the unique elements in the order they were present in nums initially. The remaining elements of nums are not important as well as the size of nums.\n",
    "-   Return k.\n"
   ]
  },
  {
   "cell_type": "code",
   "execution_count": null,
   "metadata": {},
   "outputs": [],
   "source": [
    "class Solution:\n",
    "    def removeDuplicates(self, nums: List[int]) -> int:\n",
    "        if len(nums) == 1:\n",
    "            return len(nums)\n",
    "\n",
    "        unique_counter = 1\n",
    "        unique_pointer = 0\n",
    "\n",
    "        for i in range(1, len(nums)):\n",
    "            if nums[i] != nums[unique_pointer]:\n",
    "                unique_pointer += 1\n",
    "                nums[unique_pointer] = nums[i]\n",
    "                unique_counter += 1\n",
    "\n",
    "        return unique_counter, nums\n",
    "\n",
    "\n",
    "if __name__ == \"__main__\":\n",
    "    sol = Solution()\n",
    "    cases = [\n",
    "        {\"nums\": [1, 1, 2]},\n",
    "        {\"nums\": [0, 0, 1, 1, 1, 2, 2, 3, 3, 4]},\n",
    "    ]\n",
    "    for case in cases:\n",
    "        res = sol.removeDuplicates(case[\"nums\"])\n",
    "        print(res[0], res[1])"
   ]
  },
  {
   "cell_type": "markdown",
   "metadata": {},
   "source": [
    "## 41. First Missing Positive\n",
    "\n",
    "    Difficulty - Hard\n",
    "    Topic - Array\n",
    "    Algo - Hash Table\n",
    "\n",
    "Given an unsorted integer array nums. Return the smallest positive integer that is not present in nums.\n",
    "\n",
    "You must implement an algorithm that runs in O(n) time and uses O(1) auxiliary space.\n"
   ]
  },
  {
   "cell_type": "code",
   "execution_count": null,
   "metadata": {},
   "outputs": [],
   "source": [
    "class Solution:\n",
    "    def firstMissingPositive(self, nums: List[int]) -> int:\n",
    "        n = len(nums)\n",
    "\n",
    "        # Step 1: Move all non-positive integers to the end\n",
    "        j = 0\n",
    "        for i in range(n):\n",
    "            if nums[i] <= 0:\n",
    "                nums[i], nums[j] = nums[j], nums[i]\n",
    "                j += 1\n",
    "\n",
    "        # Step 2: Mark visited positive integers by negating the corresponding index\n",
    "        for i in range(j, n):\n",
    "            if abs(nums[i]) <= n - j:\n",
    "                nums[abs(nums[i]) - 1 + j] = -abs(nums[abs(nums[i]) - 1 + j])\n",
    "\n",
    "        # Step 3: Find the first missing positive integer\n",
    "        for i in range(j, n):\n",
    "            if nums[i] > 0:\n",
    "                return i - j + 1\n",
    "\n",
    "        return n - j + 1\n",
    "\n",
    "\n",
    "if __name__ == \"__main__\":\n",
    "    sol = Solution()\n",
    "    cases = [\n",
    "        {\"nums\": [1, 2, 0]},\n",
    "        {\"nums\": [3, 4, -1, 1]},\n",
    "        {\"nums\": [7, 8, 9, 11, 12]},\n",
    "        {\"nums\": [0, 2, 2, 1, 1]},\n",
    "    ]\n",
    "    for case in cases:\n",
    "        print(sol.firstMissingPositive(case[\"nums\"]))"
   ]
  }
 ],
 "metadata": {
  "kernelspec": {
   "display_name": "Python 3",
   "language": "python",
   "name": "python3"
  },
  "language_info": {
   "codemirror_mode": {
    "name": "ipython",
    "version": 3
   },
   "file_extension": ".py",
   "mimetype": "text/x-python",
   "name": "python",
   "nbconvert_exporter": "python",
   "pygments_lexer": "ipython3",
   "version": "3.12.2"
  }
 },
 "nbformat": 4,
 "nbformat_minor": 2
}
