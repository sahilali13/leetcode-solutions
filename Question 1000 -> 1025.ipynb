{
 "cells": [
  {
   "cell_type": "markdown",
   "metadata": {},
   "source": [
    "#### Prerequisites\n"
   ]
  },
  {
   "cell_type": "code",
   "execution_count": null,
   "metadata": {},
   "outputs": [],
   "source": [
    "from collections import defaultdict\n",
    "from typing import List"
   ]
  },
  {
   "cell_type": "markdown",
   "metadata": {},
   "source": [
    "## Question 1000 -> 1025\n",
    "\n",
    "    Difficulty - Easy\n",
    "    Topics - Array, Hash Table, String\n",
    "\n",
    "Given a string array `words`, return _an array of all characters that show up in all strings within the_ `words` (including duplicates). You may return the answer in **any order**.\n",
    "\n",
    "**Constraints:**\n",
    "\n",
    "-   `1 <= words.length <= 100`\n",
    "-   `1 <= words[i].length <= 100`\n",
    "-   `words[i]` consists of lowercase English letters.\n"
   ]
  },
  {
   "cell_type": "code",
   "execution_count": null,
   "metadata": {},
   "outputs": [],
   "source": [
    "class Solution:\n",
    "    def commonChars(self, words: List[str]) -> List[str]:\n",
    "        # Initialize an array to represent the frequency of characters in the first word\n",
    "        common_count = [0] * 26\n",
    "        for char in words[0]:\n",
    "            common_count[ord(char) - ord(\"a\")] += 1\n",
    "\n",
    "        # Iterate through the rest of the words\n",
    "        for word in words[1:]:\n",
    "            current_count = [0] * 26\n",
    "            # Update the frequency array to keep the minimum frequency of each character\n",
    "            for char in word:\n",
    "                current_count[ord(char) - ord(\"a\")] += 1\n",
    "            for i in range(26):\n",
    "                common_count[i] = min(common_count[i], current_count[i])\n",
    "\n",
    "        # Construct the result list\n",
    "        result = []\n",
    "        for i in range(26):\n",
    "            result.extend([chr(i + ord(\"a\"))] * common_count[i])\n",
    "\n",
    "        return result\n",
    "\n",
    "\n",
    "if __name__ == \"__main__\":\n",
    "    sol = Solution()\n",
    "    cases = [\n",
    "        {\"words\": [\"bella\", \"label\", \"roller\"]},\n",
    "        {\"words\": [\"cool\", \"lock\", \"cook\"]},\n",
    "    ]\n",
    "    for case in cases:\n",
    "        print(sol.commonChars(case[\"words\"]))"
   ]
  }
 ],
 "metadata": {
  "kernelspec": {
   "display_name": "Python 3",
   "language": "python",
   "name": "python3"
  },
  "language_info": {
   "codemirror_mode": {
    "name": "ipython",
    "version": 3
   },
   "file_extension": ".py",
   "mimetype": "text/x-python",
   "name": "python",
   "nbconvert_exporter": "python",
   "pygments_lexer": "ipython3",
   "version": "3.12.2"
  }
 },
 "nbformat": 4,
 "nbformat_minor": 2
}
