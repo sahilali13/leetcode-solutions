{
 "cells": [
  {
   "cell_type": "markdown",
   "metadata": {},
   "source": [
    "#### Prerequisites\n"
   ]
  },
  {
   "cell_type": "code",
   "execution_count": null,
   "metadata": {},
   "outputs": [],
   "source": [
    "from typing import List"
   ]
  },
  {
   "cell_type": "markdown",
   "metadata": {},
   "source": [
    "## 1122. Relative Sort Array\n",
    "\n",
    "    Difficulty - Easy\n",
    "    Topics - Array, Hash Table\n",
    "    Algo - Counting Sort\n",
    "\n",
    "Given two arrays `arr1` and `arr2`, the elements of `arr2` are distinct, and all elements in `arr2` are also in `arr1`.\n",
    "\n",
    "Sort the elements of `arr1` such that the relative ordering of items in `arr1` are the same as in `arr2`. Elements that do not appear in `arr2` should be placed at the end of `arr1` in **ascending** order.\n",
    "\n",
    "Constraints:\n",
    "\n",
    "-   `1 <= arr1.length, arr2.length <= 1000`\n",
    "-   `0 <= arr1[i], arr2[i] <= 1000`\n",
    "-   All the elements of `arr2` are **distinct**.\n",
    "-   Each `arr2[i]` is in `arr1`.\n"
   ]
  },
  {
   "cell_type": "code",
   "execution_count": null,
   "metadata": {},
   "outputs": [],
   "source": [
    "class Solution:\n",
    "    def relativeSortArray(self, arr1: List[int], arr2: List[int]) -> List[int]:\n",
    "        count = [0] * 1001\n",
    "        for num in arr1:\n",
    "            count[num] += 1\n",
    "\n",
    "        res = []\n",
    "        for num in arr2:\n",
    "            res.extend([num] * count[num])\n",
    "            count[num] = 0\n",
    "\n",
    "        for index in range(1001):\n",
    "            res.extend([index] * count[index])\n",
    "\n",
    "        return res\n",
    "\n",
    "\n",
    "if __name__ == \"__main__\":\n",
    "    sol = Solution()\n",
    "    cases = [\n",
    "        {\n",
    "            \"arr1\": [2, 3, 1, 3, 2, 4, 6, 7, 9, 2, 19],\n",
    "            \"arr2\": [2, 1, 4, 3, 9, 6],\n",
    "        },  # [2,2,2,1,4,3,3,9,6,7,19]\n",
    "        {\"arr1\": [28, 6, 22, 8, 44, 17], \"arr2\": [22, 28, 8, 6]},  # [22,28,8,6,17,44]\n",
    "    ]\n",
    "    for case in cases:\n",
    "        print(sol.relativeSortArray(case[\"arr1\"], case[\"arr2\"]))"
   ]
  }
 ],
 "metadata": {
  "kernelspec": {
   "display_name": "Python 3",
   "language": "python",
   "name": "python3"
  },
  "language_info": {
   "codemirror_mode": {
    "name": "ipython",
    "version": 3
   },
   "file_extension": ".py",
   "mimetype": "text/x-python",
   "name": "python",
   "nbconvert_exporter": "python",
   "pygments_lexer": "ipython3",
   "version": "3.12.2"
  }
 },
 "nbformat": 4,
 "nbformat_minor": 2
}
