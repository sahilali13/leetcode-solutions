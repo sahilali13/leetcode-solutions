{
 "cells": [
  {
   "cell_type": "markdown",
   "metadata": {},
   "source": [
    "#### Prerequisites\n"
   ]
  },
  {
   "cell_type": "code",
   "execution_count": null,
   "metadata": {},
   "outputs": [],
   "source": [
    "from collections import deque\n",
    "from typing import List"
   ]
  },
  {
   "cell_type": "markdown",
   "metadata": {},
   "source": [
    "## 909. Snakes and Ladders\n",
    "\n",
    "    Difficulty - Medium\n",
    "    Topics - Matrix, Array\n",
    "    Algo - BFS\n",
    "\n",
    "You are given an `n x n` integer matrix `board` where the cells are labeled from `1` to <code>n<sup>2</sup></code> in a Boustrophedon style starting from the bottom left of the board (i.e. `board[n - 1][0]`) and alternating direction each row.\n",
    "\n",
    "You start on square `1` of the board. In each move, starting from square `curr`, do the following:\n",
    "\n",
    "-   Choose a destination square `next` with a label in the range <code>[curr + 1, min(curr + 6, n<sup>2</sup>)]</code>.\n",
    "    -   This choice simulates the result of a standard **6-sided die roll**: i.e., there are always at most 6 destinations, regardless of the size of the board.\n",
    "-   If `next` has a snake or ladder, you **must** move to the destination of that snake or ladder. Otherwise, you move to `next`.\n",
    "-   The game ends when you reach the square <code>n<sup>2</sup></code>.\n",
    "\n",
    "A board square on row `r` and column `c` has a snake or ladder if `board[r][c] != -1`. The destination of that snake or ladder is `board[r][c]`. Squares `1` and <code>n<sup>2</sup></code> do not have a snake or ladder.\n",
    "\n",
    "Note that you only take a snake or ladder at most once per move. If the destination to a snake or ladder is the start of another snake or ladder, you do **not** follow the subsequent snake or ladder.\n",
    "\n",
    "-   For example, suppose the board is `[[-1,4],[-1,3]]`, and on the first move, your destination square is `2`. You follow the ladder to square `3`, but do **not** follow the subsequent ladder to `4`.\n",
    "\n",
    "Return _the least number of moves required to reach the square_ <code>n<sup>2</sup></code>. _If it is not possible to reach the square, return_ `-1`.\n",
    "\n",
    "**Constraints:**\n",
    "\n",
    "-   `n == board.length == board[i].length`\n",
    "-   `2 <= n <= 20`\n",
    "-   `board[i][j`] is either `-1` or in the range <code>[1, n<sup>2</sup>]</code>.\n",
    "-   The squares labeled `1` and <code>n<sup>2</sup></code> do not have any ladders or snakes.\n"
   ]
  },
  {
   "cell_type": "code",
   "execution_count": null,
   "metadata": {},
   "outputs": [],
   "source": [
    "class Solution:\n",
    "    def snakesAndLadders(self, board: List[List[int]]) -> int:\n",
    "        n = len(board)\n",
    "        cells = {}\n",
    "        lbl = 1\n",
    "        columns = list(range(n))\n",
    "\n",
    "        for row in reversed(range(n)):\n",
    "            for column in columns:\n",
    "                cells[lbl] = (row, column)\n",
    "                lbl += 1\n",
    "            columns.reverse()\n",
    "\n",
    "        dist = [-1] * (n * n + 1)\n",
    "        dist[1] = 0\n",
    "        queue = deque([1])\n",
    "\n",
    "        while queue:\n",
    "            curr = queue.popleft()\n",
    "            if curr == n * n:\n",
    "                return dist[curr]  # Early exit if we reached the last cell\n",
    "\n",
    "            for next_ in range(curr + 1, min(curr + 7, n * n + 1)):\n",
    "                row, column = cells[next_]\n",
    "                destination = board[row][column] if board[row][column] != -1 else next_\n",
    "                if dist[destination] == -1:\n",
    "                    dist[destination] = dist[curr] + 1\n",
    "                    queue.append(destination)\n",
    "\n",
    "        return (\n",
    "            -1\n",
    "        )  # Return -1 if there's no way to reach the last cell (though problem constraints ensure there's always a way)\n",
    "\n",
    "\n",
    "if __name__ == \"__main__\":\n",
    "    sol = Solution()\n",
    "    cases = [\n",
    "        {\n",
    "            \"board\": [\n",
    "                [-1, -1, -1, -1, -1, -1],\n",
    "                [-1, -1, -1, -1, -1, -1],\n",
    "                [-1, -1, -1, -1, -1, -1],\n",
    "                [-1, 35, -1, -1, 13, -1],\n",
    "                [-1, -1, -1, -1, -1, -1],\n",
    "                [-1, 15, -1, -1, -1, -1],\n",
    "            ]\n",
    "        },\n",
    "        {\"board\": [[-1, -1], [-1, 3]]},\n",
    "    ]\n",
    "    for case in cases:\n",
    "        print(sol.snakesAndLadders(case[\"board\"]))"
   ]
  }
 ],
 "metadata": {
  "kernelspec": {
   "display_name": "Python 3",
   "language": "python",
   "name": "python3"
  },
  "language_info": {
   "codemirror_mode": {
    "name": "ipython",
    "version": 3
   },
   "file_extension": ".py",
   "mimetype": "text/x-python",
   "name": "python",
   "nbconvert_exporter": "python",
   "pygments_lexer": "ipython3",
   "version": "3.12.2"
  }
 },
 "nbformat": 4,
 "nbformat_minor": 2
}
