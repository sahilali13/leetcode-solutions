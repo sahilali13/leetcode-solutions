{
 "cells": [
  {
   "cell_type": "markdown",
   "metadata": {},
   "source": [
    "#### Prerequisites\n"
   ]
  },
  {
   "cell_type": "code",
   "execution_count": null,
   "metadata": {},
   "outputs": [],
   "source": [
    "from typing import List"
   ]
  },
  {
   "cell_type": "markdown",
   "metadata": {},
   "source": [
    "## 1700. Number of Students Unable to Eat Lunch\n",
    "\n",
    "    Difficulty - Easy\n",
    "    Topic - Array, Stack, Queue\n",
    "\n",
    "The school cafeteria offers circular and square sandwiches at lunch break, referred to by numbers 0 and 1 respectively. All students stand in a queue. Each student either prefers square or circular sandwiches.\n",
    "\n",
    "The number of sandwiches in the cafeteria is equal to the number of students. The sandwiches are placed in a stack. At each step:\n",
    "\n",
    "-   If the student at the front of the queue prefers the sandwich on the top of the stack, they will take it and leave the queue.\n",
    "-   Otherwise, they will leave it and go to the queue's end.\n",
    "    This continues until none of the queue students want to take the top sandwich and are thus unable to eat.\n",
    "\n",
    "You are given two integer arrays students and sandwiches where sandwiches[i] is the type of the i​​​​​​th sandwich in the stack (i = 0 is the top of the stack) and students[j] is the preference of the j​​​​​​th student in the initial queue (j = 0 is the front of the queue). Return the number of students that are unable to eat.\n"
   ]
  },
  {
   "cell_type": "code",
   "execution_count": null,
   "metadata": {},
   "outputs": [],
   "source": [
    "class Solution:\n",
    "    def countStudents(self, students: List[int], sandwiches: List[int]) -> int:\n",
    "        count = [0, 0]\n",
    "        for preference in students:\n",
    "            count[preference] += 1\n",
    "\n",
    "        for sandwich in sandwiches:\n",
    "            if count[sandwich] == 0:\n",
    "                return sum(count)\n",
    "            count[sandwich] -= 1\n",
    "\n",
    "        return 0\n",
    "\n",
    "\n",
    "if __name__ == \"__main__\":\n",
    "    sol = Solution()\n",
    "    cases = [\n",
    "        {\"students\": [1, 1, 0, 0], \"sandwiches\": [0, 1, 0, 1]},\n",
    "        {\"students\": [1, 1, 1, 0, 0, 1], \"sandwiches\": [1, 0, 0, 0, 1, 1]},\n",
    "    ]\n",
    "    for case in cases:\n",
    "        print(sol.countStudents(case[\"students\"], case[\"sandwiches\"]))"
   ]
  }
 ],
 "metadata": {
  "kernelspec": {
   "display_name": "Python 3",
   "language": "python",
   "name": "python3"
  },
  "language_info": {
   "codemirror_mode": {
    "name": "ipython",
    "version": 3
   },
   "file_extension": ".py",
   "mimetype": "text/x-python",
   "name": "python",
   "nbconvert_exporter": "python",
   "pygments_lexer": "ipython3",
   "version": "3.12.2"
  }
 },
 "nbformat": 4,
 "nbformat_minor": 2
}
