{
 "cells": [
  {
   "cell_type": "markdown",
   "metadata": {},
   "source": [
    "## 1249. Minimum Remove to Make Valid Parentheses\n",
    "\n",
    "    Difficulty - Medium\n",
    "    Topics - String, Stack\n",
    "\n",
    "Given a string s of '(' , ')' and lowercase English characters.\n",
    "\n",
    "Your task is to remove the minimum number of parentheses ( '(' or ')', in any positions ) so that the resulting parentheses string is valid and return any valid string.\n",
    "\n",
    "Formally, a parentheses string is valid if and only if:\n",
    "\n",
    "-   It is the empty string, contains only lowercase characters, or\n",
    "-   It can be written as AB (A concatenated with B), where A and B are valid strings, or\n",
    "-   It can be written as (A), where A is a valid string.\n"
   ]
  },
  {
   "cell_type": "code",
   "execution_count": 1,
   "metadata": {},
   "outputs": [
    {
     "name": "stdout",
     "output_type": "stream",
     "text": [
      "lee((t(c)o)de)\n",
      "ab(c)d\n",
      "\n",
      "\n"
     ]
    }
   ],
   "source": [
    "class Solution:\n",
    "    def minRemoveToMakeValid(self, s: str) -> str:\n",
    "        if not s:\n",
    "            return \"\"\n",
    "\n",
    "        stack = []\n",
    "        to_remove = set()\n",
    "\n",
    "        for i, char in enumerate(s):\n",
    "            if char == \"(\":\n",
    "                stack.append(i)\n",
    "            elif char == \")\":\n",
    "                if stack:\n",
    "                    stack.pop()\n",
    "                else:\n",
    "                    to_remove.add(i)\n",
    "\n",
    "        to_remove.update(stack)\n",
    "\n",
    "        result = \"\".join([char for i, char in enumerate(s) if i not in to_remove])\n",
    "\n",
    "        return result\n",
    "\n",
    "\n",
    "if __name__ == \"__main__\":\n",
    "    sol = Solution()\n",
    "    cases = [{\"s\": \"lee(((t(c)o)de)\"}, {\"s\": \"a)b(c)d\"}, {\"s\": \"))((\"}, {\"s\": \"\"}]\n",
    "    for case in cases:\n",
    "        print(sol.minRemoveToMakeValid(case[\"s\"]))"
   ]
  }
 ],
 "metadata": {
  "kernelspec": {
   "display_name": "Python 3",
   "language": "python",
   "name": "python3"
  },
  "language_info": {
   "codemirror_mode": {
    "name": "ipython",
    "version": 3
   },
   "file_extension": ".py",
   "mimetype": "text/x-python",
   "name": "python",
   "nbconvert_exporter": "python",
   "pygments_lexer": "ipython3",
   "version": "3.12.2"
  }
 },
 "nbformat": 4,
 "nbformat_minor": 2
}
