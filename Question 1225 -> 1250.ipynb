{
 "cells": [
  {
   "cell_type": "markdown",
   "metadata": {},
   "source": [
    "#### Prerequisites\n"
   ]
  },
  {
   "cell_type": "code",
   "execution_count": null,
   "metadata": {},
   "outputs": [],
   "source": [
    "from collections import defaultdict\n",
    "from typing import List"
   ]
  },
  {
   "cell_type": "markdown",
   "metadata": {},
   "source": [
    "## 1248. Count Number of Nice Subarrays\n",
    "\n",
    "    Difficulty - Medium\n",
    "    Topics - Array, Hash Table\n",
    "    Algo - Sliding Windows\n",
    "\n",
    "Given an array of integers `nums` and an integer `k`. A continuous subarray is called **nice** if there are `k` odd numbers on it.\n",
    "\n",
    "Return _the number of **nice** sub-arrays_.\n",
    "\n",
    "**Constraints:**\n",
    "\n",
    "-   `1 <= nums.length <= 50000`\n",
    "-   <code>1 <= nums[i] <= 10<sup>5</sup></code>\n",
    "-   `1 <= k <= nums.length`\n"
   ]
  },
  {
   "cell_type": "code",
   "execution_count": null,
   "metadata": {},
   "outputs": [],
   "source": [
    "class Solution:\n",
    "    def numberOfSubarrays(self, nums: List[int], k: int) -> int:\n",
    "        # Transform nums to only indicate if the number is odd (1) or even (0)\n",
    "        for i in range(len(nums)):\n",
    "            nums[i] = 1 if nums[i] % 2 == 1 else 0\n",
    "\n",
    "        # HashMap to store the frequency of prefix sums\n",
    "        prefix_count = defaultdict(int)\n",
    "        prefix_count[0] = 1  # To handle the case when the prefix sum itself equals k\n",
    "\n",
    "        prefix_sum = 0\n",
    "        count = 0\n",
    "\n",
    "        for num in nums:\n",
    "            prefix_sum += num\n",
    "\n",
    "            # If there is a prefix_sum - k in the map, it means there are some subarrays that sum to k\n",
    "            count += prefix_count[prefix_sum - k]\n",
    "\n",
    "            # Update the frequency of the current prefix_sum\n",
    "            prefix_count[prefix_sum] += 1\n",
    "\n",
    "        return count\n",
    "\n",
    "\n",
    "if __name__ == \"__main__\":\n",
    "    sol = Solution()\n",
    "    cases = [\n",
    "        {\"nums\": [1, 1, 2, 1, 1], \"k\": 3},\n",
    "        {\"nums\": [2, 4, 6], \"k\": 1},\n",
    "        {\"nums\": [2, 2, 2, 1, 2, 2, 1, 2, 2, 2], \"k\": 2},\n",
    "    ]\n",
    "    for case in cases:\n",
    "        print(sol.numberOfSubarrays(case[\"nums\"], case[\"k\"]))"
   ]
  },
  {
   "cell_type": "markdown",
   "metadata": {},
   "source": [
    "## 1249. Minimum Remove to Make Valid Parentheses\n",
    "\n",
    "    Difficulty - Medium\n",
    "    Topics - String, Stack\n",
    "\n",
    "Given a string s of '(' , ')' and lowercase English characters.\n",
    "\n",
    "Your task is to remove the minimum number of parentheses ( '(' or ')', in any positions ) so that the resulting parentheses string is valid and return any valid string.\n",
    "\n",
    "Formally, a parentheses string is valid if and only if:\n",
    "\n",
    "-   It is the empty string, contains only lowercase characters, or\n",
    "-   It can be written as AB (A concatenated with B), where A and B are valid strings, or\n",
    "-   It can be written as (A), where A is a valid string.\n"
   ]
  },
  {
   "cell_type": "code",
   "execution_count": null,
   "metadata": {},
   "outputs": [],
   "source": [
    "class Solution:\n",
    "    def minRemoveToMakeValid(self, s: str) -> str:\n",
    "        if not s:\n",
    "            return \"\"\n",
    "\n",
    "        stack = []\n",
    "        to_remove = set()\n",
    "\n",
    "        for i, char in enumerate(s):\n",
    "            if char == \"(\":\n",
    "                stack.append(i)\n",
    "            elif char == \")\":\n",
    "                if stack:\n",
    "                    stack.pop()\n",
    "                else:\n",
    "                    to_remove.add(i)\n",
    "\n",
    "        to_remove.update(stack)\n",
    "\n",
    "        result = \"\".join([char for i, char in enumerate(s) if i not in to_remove])\n",
    "\n",
    "        return result\n",
    "\n",
    "\n",
    "if __name__ == \"__main__\":\n",
    "    sol = Solution()\n",
    "    cases = [{\"s\": \"lee(((t(c)o)de)\"}, {\"s\": \"a)b(c)d\"}, {\"s\": \"))((\"}, {\"s\": \"\"}]\n",
    "    for case in cases:\n",
    "        print(sol.minRemoveToMakeValid(case[\"s\"]))"
   ]
  }
 ],
 "metadata": {
  "kernelspec": {
   "display_name": "Python 3",
   "language": "python",
   "name": "python3"
  },
  "language_info": {
   "codemirror_mode": {
    "name": "ipython",
    "version": 3
   },
   "file_extension": ".py",
   "mimetype": "text/x-python",
   "name": "python",
   "nbconvert_exporter": "python",
   "pygments_lexer": "ipython3",
   "version": "3.12.2"
  }
 },
 "nbformat": 4,
 "nbformat_minor": 2
}
