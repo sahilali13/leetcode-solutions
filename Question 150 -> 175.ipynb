{
 "cells": [
  {
   "cell_type": "markdown",
   "metadata": {},
   "source": [
    "## 165. Compare Version Numbers\n",
    "\n",
    "    Difficulty - Medium\n",
    "    Topic - String\n",
    "    Algo - Two Pointers\n",
    "\n",
    "Given two **version strings**, `version1` and `version2`, compare them. A version string consists of **revisions** separated by dots `'.'`. The **value of the revision** is its **integer conversion** ignoring leading zeros.\n",
    "\n",
    "To compare version strings, compare their revision values in **left-to-right order**. If one of the version strings has fewer revisions, treat the missing revision values as `0`.\n",
    "\n",
    "_Return the following:_\n",
    "\n",
    "-   If `version1 < version2`, return `-1`.\n",
    "-   If `version1 > version2`, return `1`.\n",
    "-   Otherwise, return `0`.\n"
   ]
  },
  {
   "cell_type": "code",
   "execution_count": null,
   "metadata": {},
   "outputs": [],
   "source": [
    "class Solution:\n",
    "    def compareVersion(self, version1: str, version2: str) -> int:\n",
    "        v1 = version1.split(\".\")\n",
    "        v2 = version2.split(\".\")\n",
    "\n",
    "        len_v1, len_v2 = len(v1), len(v2)\n",
    "        max_len = max(len_v1, len_v2)\n",
    "\n",
    "        for i in range(max_len):\n",
    "            num1 = int(v1[i]) if i < len_v1 else 0\n",
    "            num2 = int(v2[i]) if i < len_v2 else 0\n",
    "\n",
    "            if num1 > num2:\n",
    "                return 1\n",
    "            elif num1 < num2:\n",
    "                return -1\n",
    "\n",
    "        return 0\n",
    "\n",
    "\n",
    "if __name__ == \"__main__\":\n",
    "    solution = Solution()\n",
    "    test_cases = [\n",
    "        {\"version1\": \"1.2\", \"version2\": \"1.10\"},\n",
    "        {\"version1\": \"1.01\", \"version2\": \"1.001\"},\n",
    "        {\"version1\": \"1.0\", \"version2\": \"1.0.0.0\"},\n",
    "        {\"version1\": \"0.1\", \"version2\": \"1.1\"},\n",
    "        {\"version1\": \"1.0.0\", \"version2\": \"1.0\"},\n",
    "    ]\n",
    "    for case in test_cases:\n",
    "        sol = solution.compareVersion(case[\"version1\"], case[\"version2\"])\n",
    "        print(sol)"
   ]
  }
 ],
 "metadata": {
  "kernelspec": {
   "display_name": "Python 3",
   "language": "python",
   "name": "python3"
  },
  "language_info": {
   "codemirror_mode": {
    "name": "ipython",
    "version": 3
   },
   "file_extension": ".py",
   "mimetype": "text/x-python",
   "name": "python",
   "nbconvert_exporter": "python",
   "pygments_lexer": "ipython3",
   "version": "3.12.2"
  }
 },
 "nbformat": 4,
 "nbformat_minor": 2
}
