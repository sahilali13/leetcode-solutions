{
 "cells": [
  {
   "cell_type": "markdown",
   "metadata": {},
   "source": [
    "## 200. Number of Islands\n",
    "\n",
    "    Given an m x n 2D binary grid grid which represents a map of '1's (land) and '0's (water), return the number of islands.\n",
    "\n",
    "    An island is surrounded by water and is formed by connecting adjacent lands horizontally or vertically. You may assume all four edges of the grid are all surrounded by water.\n"
   ]
  },
  {
   "cell_type": "code",
   "execution_count": 31,
   "metadata": {},
   "outputs": [
    {
     "name": "stdout",
     "output_type": "stream",
     "text": [
      "1\n",
      "3\n"
     ]
    }
   ],
   "source": [
    "from typing import List\n",
    "\n",
    "class Solution:\n",
    "    def numIslands(self, grid: List[List[str]]) -> int:\n",
    "        def dfs(row, col):\n",
    "            if row < 0 or row >= len(grid) or col < 0 or col >= len(grid[0]) or grid[row][col] == '0':\n",
    "                return\n",
    "            \n",
    "            grid[row][col] = '0'\n",
    "            \n",
    "            dfs(row + 1, col)\n",
    "            dfs(row - 1, col)\n",
    "            dfs(row, col + 1)\n",
    "            dfs(row, col - 1)\n",
    "        \n",
    "        if not grid:\n",
    "            return 0\n",
    "        \n",
    "        num_islands = 0\n",
    "        rows, cols = len(grid), len(grid[0])\n",
    "        \n",
    "        for i in range(rows):\n",
    "            for j in range(cols):\n",
    "                if grid[i][j] == '1':\n",
    "                    num_islands += 1\n",
    "                    dfs(i, j)\n",
    "        \n",
    "        return num_islands\n",
    "\n",
    "if __name__ == '__main__':\n",
    "    sol = Solution()\n",
    "    cases = [\n",
    "        [\n",
    "            [\"1\",\"1\",\"1\",\"1\",\"0\"],\n",
    "            [\"1\",\"1\",\"0\",\"1\",\"0\"],\n",
    "            [\"1\",\"1\",\"0\",\"0\",\"0\"],\n",
    "            [\"0\",\"0\",\"0\",\"0\",\"0\"]\n",
    "        ],\n",
    "        [\n",
    "            [\"1\",\"1\",\"0\",\"0\",\"0\"],\n",
    "            [\"1\",\"1\",\"0\",\"0\",\"0\"],\n",
    "            [\"0\",\"0\",\"1\",\"0\",\"0\"],\n",
    "            [\"0\",\"0\",\"0\",\"1\",\"1\"]\n",
    "        ]\n",
    "    ]\n",
    "    \n",
    "    for case in cases:\n",
    "        print(sol.numIslands(grid = case))"
   ]
  },
  {
   "cell_type": "markdown",
   "metadata": {},
   "source": [
    "## 130. Surrounded Regions\n",
    "\n",
    "    Given an m x n matrix board containing 'X' and 'O', capture all regions that are 4-directionally surrounded by 'X'.\n",
    "\n",
    "    A region is captured by flipping all 'O's into 'X's in that surrounded region.\n"
   ]
  },
  {
   "cell_type": "code",
   "execution_count": 32,
   "metadata": {},
   "outputs": [
    {
     "name": "stdout",
     "output_type": "stream",
     "text": [
      "[['X', 'X', 'X', 'X'], ['X', 'X', 'X', 'X'], ['X', 'X', 'X', 'X'], ['X', 'O', 'X', 'X']]\n",
      "[['X']]\n"
     ]
    }
   ],
   "source": [
    "from typing import List\n",
    "\n",
    "class Solution:\n",
    "    def solve(self, board: List[List[str]]) -> None:\n",
    "        def dfs(row, col):\n",
    "            if row < 0 or row >= rows or col < 0 or col >= cols or board[row][col] != 'O':\n",
    "                return\n",
    "            \n",
    "            board[row][col] = 'S'\n",
    "            \n",
    "            dfs(row + 1, col)\n",
    "            dfs(row - 1, col)\n",
    "            dfs(row, col + 1)\n",
    "            dfs(row, col - 1)\n",
    "        \n",
    "        if not board:\n",
    "            return\n",
    "        \n",
    "        rows, cols = len(board), len(board[0])\n",
    "        \n",
    "        for col in range(cols):\n",
    "            dfs(0, col)\n",
    "            dfs(rows - 1, col)\n",
    "        \n",
    "        for row in range(rows):\n",
    "            dfs(row, 0)\n",
    "            dfs(row, cols - 1)\n",
    "        \n",
    "        for row in range(rows):\n",
    "            for col in range(cols):\n",
    "                if board[row][col] == 'O':\n",
    "                    board[row][col] = 'X'\n",
    "                elif board[row][col] == 'S':\n",
    "                    board[row][col] = 'O'\n",
    "\n",
    "if __name__ == '__main__':\n",
    "    sol = Solution()\n",
    "    cases = [\n",
    "                [\n",
    "                    [\"X\",\"X\",\"X\",\"X\"],\n",
    "                    [\"X\",\"O\",\"O\",\"X\"],\n",
    "                    [\"X\",\"X\",\"O\",\"X\"],\n",
    "                    [\"X\",\"O\",\"X\",\"X\"]\n",
    "                ],\n",
    "                [\n",
    "                    [\"X\"]\n",
    "                ]\n",
    "            ]\n",
    "    \n",
    "    for case in cases:\n",
    "        sol.solve(board = case)\n",
    "        print(case)"
   ]
  },
  {
   "cell_type": "markdown",
   "metadata": {},
   "source": [
    "## 133. Clone Graph\n",
    "\n",
    "    Given a reference of a node in a connected undirected graph.\n",
    "\n",
    "    Return a deep copy (clone) of the graph.\n",
    "\n",
    "    Each node in the graph contains a value (int) and a list (List[Node]) of its neighbors.\n",
    "\n",
    "    class Node {\n",
    "        public int val;\n",
    "        public List<Node> neighbors;\n",
    "    }\n"
   ]
  },
  {
   "cell_type": "code",
   "execution_count": 33,
   "metadata": {},
   "outputs": [],
   "source": [
    "from typing import Optional\n",
    "\n",
    "class Node:\n",
    "    def __init__(self, val = 0, neighbors = None):\n",
    "        self.val = val\n",
    "        self.neighbors = neighbors if neighbors is not None else []\n",
    "\n",
    "class Solution:\n",
    "    def cloneGraph(self, node: Optional['Node']) -> Optional['Node']:\n",
    "        if not node:\n",
    "            return None\n",
    "        \n",
    "        cloned_nodes = {}\n",
    "        \n",
    "        def dfs(original_node):\n",
    "            if original_node in cloned_nodes:\n",
    "                return cloned_nodes[original_node]\n",
    "        \n",
    "            cloned_node = Node(original_node.val)\n",
    "            cloned_nodes[original_node] = cloned_node\n",
    "            \n",
    "            for neighbor in original_node.neighbors:\n",
    "                cloned_neighbor = dfs(neighbor)\n",
    "                cloned_node.neighbors.append(cloned_neighbor)\n",
    "            \n",
    "            return cloned_node\n",
    "        \n",
    "        return dfs(node)\n",
    "if __name__ == '__main__':\n",
    "    sol = Solution()\n",
    "    cases = [[[2,4],[1,3],[2,4],[1,3]],\n",
    "             [[]],\n",
    "             []]\n",
    "    \n",
    "    \n"
   ]
  },
  {
   "cell_type": "markdown",
   "metadata": {},
   "source": [
    "## 399. Evaluate Division\n",
    "\n",
    "    You are given an array of variable pairs equations and an array of real numbers values, where equations[i] = [Ai, Bi] and values[i] represent the equation Ai / Bi = values[i]. Each Ai or Bi is a string that represents a single variable.\n",
    "\n",
    "    You are also given some queries, where queries[j] = [Cj, Dj] represents the jth query where you must find the answer for Cj / Dj = ?.\n",
    "\n",
    "    Return the answers to all queries. If a single answer cannot be determined, return -1.0.\n",
    "\n",
    "    Note: The input is always valid. You may assume that evaluating the queries will not result in division by zero and that there is no contradiction.\n",
    "\n",
    "    Note: The variables that do not occur in the list of equations are undefined, so the answer cannot be determined for them.\n"
   ]
  },
  {
   "cell_type": "code",
   "execution_count": 34,
   "metadata": {},
   "outputs": [
    {
     "name": "stdout",
     "output_type": "stream",
     "text": [
      "[6.0, 0.5, -1.0, 1.0, -1.0]\n",
      "[3.75, 0.4, 5.0, 0.2]\n",
      "[0.5, 2.0, -1.0, -1.0]\n"
     ]
    }
   ],
   "source": [
    "from collections import defaultdict\n",
    "\n",
    "class Solution:\n",
    "    def calcEquation(self, equations: List[List[str]], values: List[float], queries: List[List[str]]) -> List[float]:\n",
    "        graph = defaultdict(dict)\n",
    "        for (numerator, denominator), value in zip(equations, values):\n",
    "            graph[numerator][denominator] = value\n",
    "            graph[denominator][numerator] = 1 / value\n",
    "        \n",
    "        def dfs(start, end, visited):\n",
    "            if start not in graph or end not in graph:\n",
    "                return -1.0\n",
    "            if start == end:\n",
    "                return 1.0\n",
    "            visited.add(start)\n",
    "            for neighbor, value in graph[start].items():\n",
    "                if neighbor not in visited:\n",
    "                    result = dfs(neighbor, end, visited)\n",
    "                    if result != -1.0:\n",
    "                        return value * result\n",
    "            return -1.0\n",
    "\n",
    "        results = []\n",
    "        for numerator, denominator in queries:\n",
    "            results.append(dfs(numerator, denominator, set()))\n",
    "\n",
    "        return results\n",
    "\n",
    "if __name__ == '__main__':\n",
    "    sol = Solution()\n",
    "    cases = [([[\"a\",\"b\"],[\"b\",\"c\"]], [2.0,3.0], [[\"a\",\"c\"],[\"b\",\"a\"],[\"a\",\"e\"],[\"a\",\"a\"],[\"x\",\"x\"]]),\n",
    "             ([[\"a\",\"b\"],[\"b\",\"c\"],[\"bc\",\"cd\"]], [1.5,2.5,5.0], [[\"a\",\"c\"],[\"c\",\"b\"],[\"bc\",\"cd\"],[\"cd\",\"bc\"]]),\n",
    "             ([[\"a\",\"b\"]], [0.5], [[\"a\",\"b\"],[\"b\",\"a\"],[\"a\",\"c\"],[\"x\",\"y\"]])]\n",
    "    \n",
    "    for case in cases:\n",
    "        print(sol.calcEquation(equations = case[0], values = case[1], queries = case[2]))"
   ]
  },
  {
   "cell_type": "markdown",
   "metadata": {},
   "source": [
    "## 207. Course Schedule\n",
    "\n",
    "    There are a total of numCourses courses you have to take, labeled from 0 to numCourses - 1. You are given an array prerequisites where prerequisites[i] = [ai, bi] indicates that you must take course bi first if you want to take course ai.\n",
    "\n",
    "        * For example, the pair [0, 1], indicates that to take course 0 you have to first take course 1.\n",
    "\n",
    "    Return true if you can finish all courses. Otherwise, return false.\n"
   ]
  },
  {
   "cell_type": "code",
   "execution_count": 35,
   "metadata": {},
   "outputs": [
    {
     "name": "stdout",
     "output_type": "stream",
     "text": [
      "[6.0, 0.5, -1.0, 1.0, -1.0]\n",
      "[3.75, 0.4, 5.0, 0.2]\n",
      "[0.5, 2.0, -1.0, -1.0]\n"
     ]
    }
   ],
   "source": [
    "from collections import defaultdict\n",
    "\n",
    "class Solution:\n",
    "    def calcEquation(self, equations: List[List[str]], values: List[float], queries: List[List[str]]) -> List[float]:\n",
    "        graph = defaultdict(dict)\n",
    "        for (numerator, denominator), value in zip(equations, values):\n",
    "            graph[numerator][denominator] = value\n",
    "            graph[denominator][numerator] = 1 / value\n",
    "        \n",
    "        def dfs(start, end, visited):\n",
    "            if start not in graph or end not in graph:\n",
    "                return -1.0\n",
    "            if start == end:\n",
    "                return 1.0\n",
    "            visited.add(start)\n",
    "            for neighbor, value in graph[start].items():\n",
    "                if neighbor not in visited:\n",
    "                    result = dfs(neighbor, end, visited)\n",
    "                    if result != -1.0:\n",
    "                        return value * result\n",
    "            return -1.0\n",
    "\n",
    "        results = []\n",
    "        for numerator, denominator in queries:\n",
    "            results.append(dfs(numerator, denominator, set()))\n",
    "\n",
    "        return results\n",
    "\n",
    "if __name__ == '__main__':\n",
    "    sol = Solution()\n",
    "    cases = [([[\"a\",\"b\"],[\"b\",\"c\"]], [2.0,3.0], [[\"a\",\"c\"],[\"b\",\"a\"],[\"a\",\"e\"],[\"a\",\"a\"],[\"x\",\"x\"]]),\n",
    "             ([[\"a\",\"b\"],[\"b\",\"c\"],[\"bc\",\"cd\"]], [1.5,2.5,5.0], [[\"a\",\"c\"],[\"c\",\"b\"],[\"bc\",\"cd\"],[\"cd\",\"bc\"]]),\n",
    "             ([[\"a\",\"b\"]], [0.5], [[\"a\",\"b\"],[\"b\",\"a\"],[\"a\",\"c\"],[\"x\",\"y\"]])]\n",
    "    \n",
    "    for case in cases:\n",
    "        print(sol.calcEquation(equations = case[0], values = case[1], queries = case[2]))"
   ]
  },
  {
   "cell_type": "markdown",
   "metadata": {},
   "source": [
    "## 207. Course Schedule\n",
    "\n",
    "    There are a total of numCourses courses you have to take, labeled from 0 to numCourses - 1. You are given an array prerequisites where prerequisites[i] = [ai, bi] indicates that you must take course bi first if you want to take course ai.\n",
    "\n",
    "        * For example, the pair [0, 1], indicates that to take course 0 you have to first take course 1.\n",
    "\n",
    "    Return true if you can finish all courses. Otherwise, return false.\n"
   ]
  },
  {
   "cell_type": "code",
   "execution_count": 36,
   "metadata": {},
   "outputs": [
    {
     "name": "stdout",
     "output_type": "stream",
     "text": [
      "True\n",
      "False\n"
     ]
    }
   ],
   "source": [
    "from collections import defaultdict, deque\n",
    "\n",
    "class Solution:\n",
    "    def canFinish(self, numCourses: int, prerequisites: List[List[int]]) -> bool:\n",
    "        graph = defaultdict(list)\n",
    "        indegrees = [0] * numCourses\n",
    "        for course, prerequisite in prerequisites:\n",
    "            graph[prerequisite].append(course)\n",
    "            indegrees[course] += 1\n",
    "\n",
    "        queue = deque()\n",
    "        for course in range(numCourses):\n",
    "            if indegrees[course] == 0:\n",
    "                queue.append(course)\n",
    "\n",
    "        count = 0\n",
    "        while queue:\n",
    "            current_course = queue.popleft()\n",
    "            count += 1\n",
    "            for neighbor in graph[current_course]:\n",
    "                indegrees[neighbor] -= 1\n",
    "                if indegrees[neighbor] == 0:\n",
    "                    queue.append(neighbor)\n",
    "\n",
    "        return count == numCourses\n",
    "if __name__ == '__main__':\n",
    "    sol = Solution()\n",
    "    cases = [(2,[[1,0]]),\n",
    "             (2,[[1,0],[0,1]])]\n",
    "    \n",
    "    for case in cases:\n",
    "        print(sol.canFinish(numCourses = case[0], prerequisites = case[1]))"
   ]
  },
  {
   "cell_type": "markdown",
   "metadata": {},
   "source": [
    "## 210. Course Schedule II\n",
    "\n",
    "    There are a total of numCourses courses you have to take, labeled from 0 to numCourses - 1. You are given an array prerequisites where prerequisites[i] = [ai, bi] indicates that you must take course bi first if you want to take course ai.\n",
    "\n",
    "        * For example, the pair [0, 1], indicates that to take course 0 you have to first take course 1.\n",
    "\n",
    "    Return the ordering of courses you should take to finish all courses. If there are many valid answers, return any of them. If it is impossible to finish all courses, return an empty array.\n"
   ]
  },
  {
   "cell_type": "code",
   "execution_count": 37,
   "metadata": {},
   "outputs": [
    {
     "name": "stdout",
     "output_type": "stream",
     "text": [
      "[0, 1]\n",
      "[0, 1, 2, 3]\n"
     ]
    }
   ],
   "source": [
    "from collections import defaultdict, deque\n",
    "\n",
    "class Solution:\n",
    "    def findOrder(self, numCourses: int, prerequisites: List[List[int]]) -> List[int]:\n",
    "\n",
    "        graph = defaultdict(list)\n",
    "        indegrees = [0] * numCourses\n",
    "        for course, prerequisite in prerequisites:\n",
    "            graph[prerequisite].append(course)\n",
    "            indegrees[course] += 1\n",
    "\n",
    "        queue = deque()\n",
    "        for course in range(numCourses):\n",
    "            if indegrees[course] == 0:\n",
    "                queue.append(course)\n",
    "\n",
    "        order = []\n",
    "        while queue:\n",
    "            current_course = queue.popleft()\n",
    "            order.append(current_course)\n",
    "            for neighbor in graph[current_course]:\n",
    "                indegrees[neighbor] -= 1\n",
    "                if indegrees[neighbor] == 0:\n",
    "                    queue.append(neighbor)\n",
    "\n",
    "        return order if len(order) == numCourses else []\n",
    "\n",
    "if __name__ == '__main__':\n",
    "    sol = Solution()\n",
    "    cases = [(2,[[1,0]]),\n",
    "             (4,[[1,0],[2,0],[3,1],[3,2]])]\n",
    "    \n",
    "    for case in cases:\n",
    "        print(sol.findOrder(numCourses = case[0], prerequisites = case[1]))"
   ]
  }
 ],
 "metadata": {
  "kernelspec": {
   "display_name": "Python 3",
   "language": "python",
   "name": "python3"
  },
  "language_info": {
   "codemirror_mode": {
    "name": "ipython",
    "version": 3
   },
   "file_extension": ".py",
   "mimetype": "text/x-python",
   "name": "python",
   "nbconvert_exporter": "python",
   "pygments_lexer": "ipython3",
   "version": "3.12.2"
  }
 },
 "nbformat": 4,
 "nbformat_minor": 2
}
