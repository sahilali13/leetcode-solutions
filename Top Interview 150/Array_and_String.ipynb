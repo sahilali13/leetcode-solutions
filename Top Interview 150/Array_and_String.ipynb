{
 "cells": [
  {
   "cell_type": "markdown",
   "metadata": {},
   "source": [
    "## 88. Merge Sorted Array\n",
    "\n",
    "    You are given two integer arrays nums1 and nums2, sorted in non-decreasing order, and two integers m and n, representing the number of elements in nums1 and nums2 respectively.\n",
    "\n",
    "    Merge nums1 and nums2 into a single array sorted in non-decreasing order.\n",
    "\n",
    "    The final sorted array should not be returned by the function, but instead be stored inside the array nums1. To accommodate this, nums1 has a length of m + n, where the first m elements denote the elements that should be merged, and the last n elements are set to 0 and should be ignored. nums2 has a length of n.\n"
   ]
  },
  {
   "cell_type": "code",
   "execution_count": null,
   "metadata": {},
   "outputs": [],
   "source": [
    "class Solution:\n",
    "    def merge(self, nums1: list[int], m: int, nums2: list[int], n: int) -> None:\n",
    "        \"\"\"\n",
    "        Do not return anything, modify nums1 in-place instead.\n",
    "        \"\"\"\n",
    "        num1Index = m - 1\n",
    "        num2Index = n - 1\n",
    "        newNumIndex = m + n - 1\n",
    "\n",
    "        while num1Index >= 0 and num2Index >= 0:\n",
    "            if nums1[num1Index] > nums2[num2Index]:\n",
    "                nums1[newNumIndex] = nums1[num1Index]\n",
    "                num1Index -= 1\n",
    "            else:\n",
    "                nums1[newNumIndex] = nums2[num2Index]\n",
    "                num2Index -= 1\n",
    "            newNumIndex -= 1\n",
    "        \n",
    "        while num2Index >= 0:\n",
    "            nums1[newNumIndex] = nums2[num2Index]\n",
    "            newNumIndex -= 1\n",
    "            num2Index -= 1\n",
    "\n",
    "if __name__ == '__main__':\n",
    "    sol = Solution()\n",
    "    cases = [([1,2,3,0,0,0], 3, [2,5,6], 3),\n",
    "            ([1], 1, [], 0),\n",
    "            ([0], 0 , [1], 1)]\n",
    "    \n",
    "    for case in cases:\n",
    "        print(case[0], '\\t', case[2])\n",
    "        sol.merge(nums1 = case[0], m = case[1], nums2 = case[2], n = case[3])\n",
    "        print(case[0])\n"
   ]
  },
  {
   "cell_type": "markdown",
   "metadata": {},
   "source": [
    "## 27. Remove Element\n",
    "\n",
    "    Given an integer array nums and an integer val, remove all occurrences of val in nums in-place. The order of the elements may be changed. Then return the number of elements in nums which are not equal to val.\n",
    "\n",
    "    Consider the number of elements in nums which are not equal to val be k, to get accepted, you need to do the following things:\n",
    "\n",
    "        * Change the array nums such that the first k elements of nums contain the elements which are not equal to val. The remaining elements of nums are not important as well as the size of nums.\n",
    "        * Return k.\n"
   ]
  },
  {
   "cell_type": "code",
   "execution_count": null,
   "metadata": {},
   "outputs": [],
   "source": [
    "class Solution:\n",
    "    def removeElement(self, nums: list[int], val: int) -> int:\n",
    "        lenNums = len(nums)\n",
    "        startIndex, counter = 0, 0\n",
    "        swapIndex = lenNums - 1\n",
    "        while startIndex <= swapIndex:\n",
    "            if nums[startIndex] == val:\n",
    "                nums[startIndex], nums[swapIndex] = nums[swapIndex], nums[startIndex]\n",
    "                swapIndex -= 1\n",
    "                counter += 1\n",
    "            else:\n",
    "                startIndex += 1\n",
    "        del startIndex, swapIndex\n",
    "        return lenNums - counter\n",
    "\n",
    "if __name__ == '__main__':\n",
    "    sol = Solution()\n",
    "    cases = [([3,2,2,3], 3),\n",
    "            ([0,1,2,2,3,0,4,2], 2),\n",
    "            ([1], 1)]\n",
    "    \n",
    "    for case in cases:\n",
    "        print(case[0], end='\\t')\n",
    "        print(sol.removeElement(nums = case[0], val = case[1]), end = '\\t')\n",
    "        print(case[0])\n"
   ]
  },
  {
   "cell_type": "markdown",
   "metadata": {},
   "source": [
    "## 26. Remove Duplicates from Sorted Array\n",
    "\n",
    "    Given an integer array nums sorted in non-decreasing order, remove the duplicates in-place such that each unique element appears only once. The relative order of the elements should be kept the same. Then return the number of unique elements in nums.\n",
    "\n",
    "    Consider the number of unique elements of nums to be k, to get accepted, you need to do the following things:\n",
    "\n",
    "    Change the array nums such that the first k elements of nums contain the unique elements in the order they were present in nums initially. The remaining elements of nums are not important as well as the size of nums.\n",
    "    Return k.\n"
   ]
  },
  {
   "cell_type": "code",
   "execution_count": null,
   "metadata": {},
   "outputs": [],
   "source": [
    "class Solution:\n",
    "    def removeDuplicates(self, nums: list[int]) -> int:\n",
    "        lenNums = len(nums)\n",
    "        if lenNums == 1:\n",
    "            return 1\n",
    "        uniqueIndex = 1\n",
    "        for index in range(1, lenNums):\n",
    "            if nums[index] != nums[index - 1]:\n",
    "                nums[uniqueIndex] = nums[index]\n",
    "                uniqueIndex += 1\n",
    "        del lenNums\n",
    "        return uniqueIndex\n",
    "\n",
    "if __name__ == '__main__':\n",
    "    sol = Solution()\n",
    "    cases = [[1,1,2],\n",
    "            [0,0,1,1,1,2,2,3,3,4]]\n",
    "    \n",
    "    for case in cases:\n",
    "        print(case, end='\\t')\n",
    "        print(sol.removeDuplicates(nums = case), end = '\\t')\n",
    "        print(case)\n"
   ]
  },
  {
   "cell_type": "markdown",
   "metadata": {},
   "source": [
    "## 80. Remove Duplicates from Sorted Array II\n",
    "\n",
    "    Given an integer array nums sorted in non-decreasing order, remove some duplicates in-place such that each unique element appears at most twice. The relative order of the elements should be kept the same.\n",
    "\n",
    "    Since it is impossible to change the length of the array in some languages, you must instead have the result be placed in the first part of the array nums. More formally, if there are k elements after removing the duplicates, then the first k elements of nums should hold the final result. It does not matter what you leave beyond the first k elements.\n",
    "\n",
    "    Return k after placing the final result in the first k slots of nums.\n",
    "\n",
    "    Do not allocate extra space for another array. You must do this by modifying the input array in-place with O(1) extra memory.\n"
   ]
  },
  {
   "cell_type": "code",
   "execution_count": null,
   "metadata": {},
   "outputs": [],
   "source": [
    "class Solution:\n",
    "    def removeDuplicates(self, nums: list[int]) -> int:\n",
    "        lenNums = len(nums)\n",
    "        if lenNums == 1:\n",
    "            return 1\n",
    "        uniqueIndex,counter = 1, 1\n",
    "        for index in range(1, lenNums):\n",
    "            if nums[index] != nums[index - 1]:\n",
    "                nums[uniqueIndex] = nums[index]\n",
    "                uniqueIndex += 1\n",
    "                counter = 1\n",
    "            elif counter < 2:\n",
    "                nums[uniqueIndex] = nums[index]\n",
    "                uniqueIndex += 1\n",
    "                counter += 1\n",
    "        del lenNums, counter\n",
    "        return uniqueIndex\n",
    "\n",
    "if __name__ == '__main__':\n",
    "    sol = Solution()\n",
    "    cases = [[1,1,1,2,2,3],\n",
    "            [0,0,1,1,1,1,2,3,3]]\n",
    "    \n",
    "    for case in cases:\n",
    "        print(case, end='\\t')\n",
    "        print(sol.removeDuplicates(nums = case), end = '\\t')\n",
    "        print(case)\n"
   ]
  },
  {
   "cell_type": "markdown",
   "metadata": {},
   "source": [
    "## 169. Majority Element\n",
    "\n",
    "    Given an array nums of size n, return the majority element.\n",
    "\n",
    "    The majority element is the element that appears more than ⌊n / 2⌋ times. You may assume that the majority element always exists in the array.\n"
   ]
  },
  {
   "cell_type": "code",
   "execution_count": null,
   "metadata": {},
   "outputs": [],
   "source": [
    "from collections import Counter\n",
    "\n",
    "\n",
    "class Solution:\n",
    "    def majorityElement(self, nums: list[int]) -> int:\n",
    "        count = Counter(nums)\n",
    "        return max(count, key = count.get)\n",
    "    \n",
    "if __name__ == '__main__':\n",
    "    sol = Solution()\n",
    "    cases = [[3,2,3],\n",
    "            [2,2,1,1,1,2,2]]\n",
    "    \n",
    "    for case in cases:\n",
    "        print(case, end='\\t')\n",
    "        print(sol.majorityElement(nums = case), end = '\\t')\n",
    "        print(case)"
   ]
  },
  {
   "cell_type": "markdown",
   "metadata": {},
   "source": [
    "## 189. Rotate Array\n",
    "\n",
    "    Given an integer array nums, rotate the array to the right by k steps, where k is non-negative.\n"
   ]
  },
  {
   "cell_type": "code",
   "execution_count": null,
   "metadata": {},
   "outputs": [],
   "source": [
    "class Solution:\n",
    "    def reverse(self, nums: list[int], first_index: int, last_index: int) -> None:\n",
    "        while first_index < last_index:\n",
    "            nums[first_index], nums[last_index] = nums[last_index], nums[first_index]\n",
    "            first_index += 1\n",
    "            last_index -= 1\n",
    "    \n",
    "    def rotate(self, nums: list[int], k: int) -> None:\n",
    "        \"\"\"\n",
    "        Do not return anything, modify nums in-place instead.\n",
    "        \"\"\"\n",
    "        len_nums = len(nums)\n",
    "        k %= len_nums\n",
    "        if k == 0:\n",
    "            return\n",
    "        self.reverse(nums = nums, first_index = len_nums - k, last_index = len_nums - 1)\n",
    "        self.reverse(nums = nums, first_index = 0, last_index = len_nums - k - 1)\n",
    "        self.reverse(nums = nums, first_index = 0, last_index = len_nums - 1)\n",
    "\n",
    "        del len_nums\n",
    "    \n",
    "if __name__ == '__main__':\n",
    "    sol = Solution()\n",
    "    cases = [([1,2,3,4,5,6,7], 3),\n",
    "            ([-1,-100,3,99], 2)]\n",
    "    \n",
    "    for case in cases:\n",
    "        print(case[0], end='\\t')\n",
    "        print(sol.rotate(nums = case[0], k = case[1]), end = '\\t')\n",
    "        print(case[0])"
   ]
  },
  {
   "cell_type": "markdown",
   "metadata": {},
   "source": [
    "## 121. Best Time to Buy and Sell Stock\n",
    "\n",
    "    You are given an array prices where prices[i] is the price of a given stock on the ith day.\n",
    "\n",
    "    You want to maximize your profit by choosing a single day to buy one stock and choosing a different day in the future to sell that stock.\n",
    "\n",
    "    Return the maximum profit you can achieve from this transaction. If you cannot achieve any profit, return 0.\n"
   ]
  },
  {
   "cell_type": "code",
   "execution_count": null,
   "metadata": {},
   "outputs": [],
   "source": [
    "class Solution:\n",
    "    def maxProfit(self, prices: list[int]) -> int:\n",
    "        bought = prices[0]\n",
    "        maxProfit = 0\n",
    "        for dayValue in range(1, len(prices)):\n",
    "            if bought > prices[dayValue]:\n",
    "                bought = prices[dayValue]\n",
    "            elif prices[dayValue] - bought > maxProfit:\n",
    "                maxProfit = prices[dayValue] - bought\n",
    "        return maxProfit\n",
    "    \n",
    "if __name__ == '__main__':\n",
    "    sol = Solution()\n",
    "    cases = [[7,1,5,3,6,4],\n",
    "            [7,6,4,3,1]]\n",
    "    \n",
    "    for case in cases:\n",
    "        print(case, end='\\t')\n",
    "        print(sol.maxProfit(prices = case))"
   ]
  },
  {
   "cell_type": "markdown",
   "metadata": {},
   "source": [
    "## 122. Best Time to Buy and Sell Stock II\n",
    "\n",
    "    You are given an integer array prices where prices[i] is the price of a given stock on the ith day.\n",
    "\n",
    "    On each day, you may decide to buy and/or sell the stock. You can only hold at most one share of the stock at any time. However, you can buy it then immediately sell it on the same day.\n",
    "\n",
    "    Find and return the maximum profit you can achieve.\n"
   ]
  },
  {
   "cell_type": "code",
   "execution_count": null,
   "metadata": {},
   "outputs": [],
   "source": [
    "class Solution:\n",
    "    def maxProfit(self, prices: list[int]):\n",
    "        if len(prices) == 1:\n",
    "            return 0\n",
    "        profit = 0\n",
    "\n",
    "        for dayValue in range(len(prices) - 1):\n",
    "            if prices[dayValue + 1] > prices[dayValue]:\n",
    "                profit += prices[dayValue + 1] - prices[dayValue]\n",
    "        return profit\n",
    "    \n",
    "if __name__ == '__main__':\n",
    "    sol = Solution()\n",
    "    cases = [[7,1,5,3,6,4],\n",
    "            [1,2,3,4,5],\n",
    "            [7,6,4,3,1]]\n",
    "    \n",
    "    for case in cases:\n",
    "        print(case, end='\\t\\t')\n",
    "        print(sol.maxProfit(prices = case))"
   ]
  },
  {
   "cell_type": "markdown",
   "metadata": {},
   "source": [
    "## 55. Jump Game\n",
    "\n",
    "    You are given an integer array nums. You are initially positioned at the array's first index, and each element in the array represents your maximum jump length at that position.\n",
    "\n",
    "    Return true if you can reach the last index, or false otherwise.\n"
   ]
  },
  {
   "cell_type": "code",
   "execution_count": null,
   "metadata": {},
   "outputs": [],
   "source": [
    "class Solution:\n",
    "    def canJump(self, nums: list[int]) -> bool:\n",
    "        goal = len(nums) - 1\n",
    "        for index in range(goal, -1, -1):\n",
    "            if index + nums[index] >= goal:\n",
    "                goal = index\n",
    "        return True if goal == 0 else False\n",
    "    \n",
    "if __name__ == '__main__':\n",
    "    sol = Solution()\n",
    "    cases = [[2,3,1,1,4],\n",
    "            [3,2,1,0,4]]\n",
    "    \n",
    "    for case in cases:\n",
    "        print(case, end='\\t')\n",
    "        print(sol.canJump(nums = case))"
   ]
  }
 ],
 "metadata": {
  "kernelspec": {
   "display_name": "Python 3",
   "language": "python",
   "name": "python3"
  },
  "language_info": {
   "codemirror_mode": {
    "name": "ipython",
    "version": 3
   },
   "file_extension": ".py",
   "mimetype": "text/x-python",
   "name": "python",
   "nbconvert_exporter": "python",
   "pygments_lexer": "ipython3",
   "version": "3.12.2"
  }
 },
 "nbformat": 4,
 "nbformat_minor": 2
}
