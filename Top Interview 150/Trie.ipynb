{
 "cells": [
  {
   "cell_type": "markdown",
   "metadata": {},
   "source": [
    "## 208. Implement Trie (Prefix Tree)\n",
    "\n",
    "    A trie (pronounced as \"try\") or prefix tree is a tree data structure used to efficiently store and retrieve keys in a dataset of strings. There are various applications of this data structure, such as autocomplete and spellchecker.\n",
    "\n",
    "    Implement the Trie class:\n",
    "\n",
    "        * Trie() Initializes the trie object.\n",
    "        * void insert(String word) Inserts the string word into the trie.\n",
    "        * boolean search(String word) Returns true if the string word is in the trie (i.e., was inserted before), and false otherwise.\n",
    "        * boolean startsWith(String prefix) Returns true if there is a previously inserted string word that has the prefix prefix, and false otherwise.\n"
   ]
  },
  {
   "cell_type": "code",
   "execution_count": 3,
   "metadata": {},
   "outputs": [
    {
     "name": "stdout",
     "output_type": "stream",
     "text": [
      "None\n",
      "True\n",
      "False\n",
      "True\n",
      "None\n",
      "True\n"
     ]
    }
   ],
   "source": [
    "class TrieNode:\n",
    "    def __init__(self):\n",
    "        self.children = {}\n",
    "        self.is_end_of_word = False\n",
    "\n",
    "class Trie:\n",
    "    def __init__(self):\n",
    "        self.root = TrieNode()\n",
    "\n",
    "    def insert(self, word: str) -> None:\n",
    "        node = self.root\n",
    "        for char in word:\n",
    "            if char not in node.children:\n",
    "                node.children[char] = TrieNode()\n",
    "            node = node.children[char]\n",
    "        node.is_end_of_word = True\n",
    "\n",
    "    def search(self, word: str) -> bool:\n",
    "        node = self.root\n",
    "        for char in word:\n",
    "            if char not in node.children:\n",
    "                return False\n",
    "            node = node.children[char]\n",
    "        return node.is_end_of_word\n",
    "\n",
    "    def startsWith(self, prefix: str) -> bool:\n",
    "        node = self.root\n",
    "        for char in prefix:\n",
    "            if char not in node.children:\n",
    "                return False\n",
    "            node = node.children[char]\n",
    "        return True\n",
    "    \n",
    "if __name__ == '__main__':    \n",
    "    trie = Trie()\n",
    "    print(trie.insert(\"apple\"))\n",
    "    print(trie.search(\"apple\"))\n",
    "    print(trie.search(\"app\"))\n",
    "    print(trie.startsWith(\"app\"))\n",
    "    print(trie.insert(\"app\"))\n",
    "    print(trie.search(\"app\"))"
   ]
  },
  {
   "cell_type": "markdown",
   "metadata": {},
   "source": [
    "## 211. Design Add and Search Words Data Structure\n",
    "\n",
    "    Design a data structure that supports adding new words and finding if a string matches any previously added string.\n",
    "\n",
    "    Implement the WordDictionary class:\n",
    "\n",
    "        * WordDictionary() Initializes the object.\n",
    "        * void addWord(word) Adds word to the data structure, it can be matched later.\n",
    "        * bool search(word) Returns true if there is any string in the data structure that matches word or false otherwise. word may contain dots '.' where dots can be matched with any letter.\n"
   ]
  },
  {
   "cell_type": "code",
   "execution_count": 4,
   "metadata": {},
   "outputs": [
    {
     "name": "stdout",
     "output_type": "stream",
     "text": [
      "None\n",
      "None\n",
      "None\n",
      "False\n",
      "True\n",
      "True\n",
      "True\n"
     ]
    }
   ],
   "source": [
    "class TrieNode:\n",
    "    def __init__(self):\n",
    "        self.children = {}\n",
    "        self.is_end_of_word = False\n",
    "        \n",
    "class WordDictionary:\n",
    "\n",
    "    def __init__(self):\n",
    "        self.root = TrieNode()\n",
    "\n",
    "    def addWord(self, word: str) -> None:\n",
    "        node = self.root\n",
    "        for char in word:\n",
    "            if char not in node.children:\n",
    "                node.children[char] = TrieNode()\n",
    "            node = node.children[char]\n",
    "        node.is_end_of_word = True\n",
    "\n",
    "    def search(self, word: str) -> bool:\n",
    "        return self.search_in_node(word, self.root)\n",
    "    \n",
    "    def search_in_node(self, word: str, node: TrieNode) -> bool:\n",
    "        if not word:\n",
    "            return node.is_end_of_word\n",
    "\n",
    "        char = word[0]\n",
    "        if char == '.':\n",
    "            for child in node.children.values():\n",
    "                if self.search_in_node(word[1:], child):\n",
    "                    return True\n",
    "        else:\n",
    "            if char in node.children:\n",
    "                return self.search_in_node(word[1:], node.children[char])\n",
    "\n",
    "        return False\n",
    "    \n",
    "if __name__ == '__main__':    \n",
    "    wordDictionary = WordDictionary()\n",
    "    print(wordDictionary.addWord(\"bad\"))\n",
    "    print(wordDictionary.addWord(\"dad\"))\n",
    "    print(wordDictionary.addWord(\"mad\"))\n",
    "    print(wordDictionary.search(\"pad\"))\n",
    "    print(wordDictionary.search(\"bad\"))\n",
    "    print(wordDictionary.search(\".ad\"))\n",
    "    print(wordDictionary.search(\"b..\"))"
   ]
  }
 ],
 "metadata": {
  "kernelspec": {
   "display_name": "Python 3",
   "language": "python",
   "name": "python3"
  },
  "language_info": {
   "codemirror_mode": {
    "name": "ipython",
    "version": 3
   },
   "file_extension": ".py",
   "mimetype": "text/x-python",
   "name": "python",
   "nbconvert_exporter": "python",
   "pygments_lexer": "ipython3",
   "version": "3.12.2"
  }
 },
 "nbformat": 4,
 "nbformat_minor": 2
}
