{
 "cells": [
  {
   "cell_type": "markdown",
   "metadata": {},
   "source": [
    "## 209. Minimum Size Subarray Sum\n",
    "\n",
    "    Given an array of positive integers nums and a positive integer target, return the minimal length of a subarray whose sum is greater than or equal to target. If there is no such subarray, return 0 instead.\n"
   ]
  },
  {
   "cell_type": "code",
   "execution_count": null,
   "metadata": {},
   "outputs": [],
   "source": [
    "from typing import List\n",
    "\n",
    "class Solution:\n",
    "    def minSubArrayLen(self, target: int, nums: List[int]) -> int:\n",
    "        left = 0\n",
    "        min_len = len(nums) + 1\n",
    "        current_sum = 0\n",
    "\n",
    "        for right, num in enumerate(nums):\n",
    "            current_sum += num\n",
    "\n",
    "            while current_sum >= target:\n",
    "                min_len = min(min_len, right - left + 1)\n",
    "                current_sum -= nums[left]\n",
    "                left += 1\n",
    "\n",
    "        return min_len if min_len != len(nums) + 1 else 0\n",
    "\n",
    "\n",
    "if __name__ == '__main__':\n",
    "    sol = Solution()\n",
    "    cases = [(7, [2,3,1,2,4,3]),\n",
    "            (4, [1,4,4]),\n",
    "            (11, [1,1,1,1,1,1,1,1])]\n",
    "    for case in cases:\n",
    "        print(sol.minSubArrayLen(target = case[0], nums = case[1]))"
   ]
  },
  {
   "cell_type": "markdown",
   "metadata": {},
   "source": [
    "## 3. Longest Substring Without Repeating Characters\n",
    "\n",
    "    Given a string s, find the length of the longest substring without repeating characters.\n"
   ]
  },
  {
   "cell_type": "code",
   "execution_count": null,
   "metadata": {},
   "outputs": [],
   "source": [
    "from collections import defaultdict\n",
    "\n",
    "class Solution:\n",
    "    def lengthOfLongestSubstring(self, s: str) -> int:\n",
    "        last_seen = {}\n",
    "        longest = 0\n",
    "        left = 0\n",
    "        \n",
    "        for right, char in enumerate(s):\n",
    "            if char in last_seen and last_seen[char] >= left:\n",
    "                left = last_seen[char] + 1\n",
    "            \n",
    "            last_seen[char] = right\n",
    "            longest = max(longest, right - left + 1)\n",
    "        \n",
    "        del last_seen\n",
    "\n",
    "        return longest\n",
    "\n",
    "if __name__ == '__main__':\n",
    "    sol = Solution()\n",
    "    cases = ['abcabcbb',\n",
    "            'bbbbb',\n",
    "            'pwwkew']\n",
    "    for case in cases:\n",
    "        print(sol.lengthOfLongestSubstring(s = case))"
   ]
  },
  {
   "cell_type": "markdown",
   "metadata": {},
   "source": [
    "## 30. Substring with Concatenation of All Words\n",
    "\n",
    "    You are given a string s and an array of strings words. All the strings of words are of the same length.\n",
    "    A concatenated substring in s is a substring that contains all the strings of any permutation of words concatenated.\n",
    "    Return the starting indices of all the concatenated substrings in s. You can return the answer in any order.\n"
   ]
  },
  {
   "cell_type": "code",
   "execution_count": null,
   "metadata": {},
   "outputs": [],
   "source": [
    "from collections import Counter, defaultdict\n",
    "from typing import List\n",
    "\n",
    "class Solution:\n",
    "    def findSubstring(self, s: str, words: List[str]) -> List[int]:\n",
    "        word_len = len(words[0])\n",
    "        words_count = len(words)\n",
    "        total_len = word_len * words_count\n",
    "        words_freq = Counter(words)\n",
    "        result = []\n",
    "\n",
    "        for left in range(len(s) - total_len + 1):\n",
    "            substr_freq = defaultdict(int)\n",
    "            right = 0\n",
    "            while right < words_count:\n",
    "                word = s[left + right * word_len: left + (right + 1) * word_len]\n",
    "                substr_freq[word] += 1\n",
    "                if substr_freq[word] > words_freq[word]:\n",
    "                    break\n",
    "                right += 1\n",
    "            if right == words_count:\n",
    "                result.append(left)\n",
    "\n",
    "        return result\n",
    "\n",
    "\n",
    "if __name__ == '__main__':\n",
    "    sol = Solution()\n",
    "    cases = [('barfoothefoobarman', [\"foo\",\"bar\"]),\n",
    "             ('wordgoodgoodgoodbestword', [\"word\",\"good\",\"best\",\"word\"]),\n",
    "             ('barfoofoobarthefoobarman', [\"bar\",\"foo\",\"the\"])]\n",
    "    for case in cases:\n",
    "        print(sol.findSubstring(s = case[0], words = case[1]))"
   ]
  },
  {
   "cell_type": "markdown",
   "metadata": {},
   "source": [
    "## 76. Minimum Window Substring\n",
    "\n",
    "    Given two strings s and t of lengths m and n respectively, return the minimum window substring of s such that every character in t (including duplicates) is included in the window. If there is no such substring, return the empty string \"\".\n"
   ]
  },
  {
   "cell_type": "code",
   "execution_count": null,
   "metadata": {},
   "outputs": [],
   "source": [
    "from collections import Counter, defaultdict\n",
    "from typing import List\n",
    "\n",
    "class Solution:\n",
    "    def minWindow(self, s: str, t: str) -> str:\n",
    "        count = Counter(t)\n",
    "        required = len(t)\n",
    "        min_length = len(s) + 1\n",
    "        best_left = -1\n",
    "        left = 0\n",
    "        print(count)\n",
    "        for right, char in enumerate(s):\n",
    "            count[char] -= 1\n",
    "            if count[char] >= 0:\n",
    "                required -= 1\n",
    "            while required == 0:\n",
    "                if right - left + 1 < min_length:\n",
    "                    best_left = left\n",
    "                    min_length = right - left + 1\n",
    "                count[s[left]] += 1\n",
    "                if count[s[left]] > 0:\n",
    "                    required += 1\n",
    "                left += 1\n",
    "        return '' if best_left == -1 else s[best_left: best_left + min_length]\n",
    "\n",
    "if __name__ == '__main__':\n",
    "    sol = Solution()\n",
    "    cases = [('ADOBECODEBANC', 'ABC'),\n",
    "             ('a', 'a'),\n",
    "             ('a', 'aa')]\n",
    "    for case in cases:\n",
    "        print(sol.minWindow(s = case[0], t = case[1]))"
   ]
  }
 ],
 "metadata": {
  "kernelspec": {
   "display_name": "Python 3",
   "language": "python",
   "name": "python3"
  },
  "language_info": {
   "codemirror_mode": {
    "name": "ipython",
    "version": 3
   },
   "file_extension": ".py",
   "mimetype": "text/x-python",
   "name": "python",
   "nbconvert_exporter": "python",
   "pygments_lexer": "ipython3",
   "version": "3.12.2"
  }
 },
 "nbformat": 4,
 "nbformat_minor": 2
}
