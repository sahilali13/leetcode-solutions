{
 "cells": [
  {
   "cell_type": "markdown",
   "metadata": {},
   "source": [
    "## 383. Ransom Note\n",
    "\n",
    "    Given two strings ransomNote and magazine, return true if ransomNote can be constructed by using the letters from magazine and false otherwise.\n",
    "\n",
    "    Each letter in magazine can only be used once in ransomNote.\n"
   ]
  },
  {
   "cell_type": "code",
   "execution_count": null,
   "metadata": {},
   "outputs": [],
   "source": [
    "class Solution:\n",
    "    def canConstruct(self, ransomNote: str, magazine: str) -> bool:\n",
    "        char_count_magazine = {}\n",
    "    \n",
    "        for char in magazine:\n",
    "            char_count_magazine[char] = char_count_magazine.get(char, 0) + 1\n",
    "    \n",
    "        for char in ransomNote:\n",
    "            if char not in char_count_magazine or char_count_magazine[char] == 0:\n",
    "                return False\n",
    "            char_count_magazine[char] -= 1\n",
    "        \n",
    "        return True\n",
    "\n",
    "if __name__ == '__main__':\n",
    "    sol = Solution()\n",
    "    cases = [('a', 'b'),\n",
    "            ('aa', 'ab'),\n",
    "            ('aa', 'aab')]\n",
    "    for case in cases:\n",
    "        print(sol.canConstruct(ransomNote = case[0], magazine = case[1]))"
   ]
  },
  {
   "cell_type": "markdown",
   "metadata": {},
   "source": [
    "## 205. Isomorphic Strings\n",
    "\n",
    "    Given two strings s and t, determine if they are isomorphic.\n",
    "\n",
    "    Two strings s and t are isomorphic if the characters in s can be replaced to get t.\n",
    "\n",
    "    All occurrences of a character must be replaced with another character while preserving the order of characters. No two characters may map to the same character, but a character may map to itself.\n"
   ]
  },
  {
   "cell_type": "code",
   "execution_count": null,
   "metadata": {},
   "outputs": [],
   "source": [
    "class Solution:\n",
    "    def isIsomorphic(self, s: str, t: str) -> bool:\n",
    "        if len(s) != len(t):\n",
    "            return False\n",
    "        \n",
    "        char_map = {}\n",
    "        \n",
    "        for char_s, char_t in zip(s, t):\n",
    "            if char_s not in char_map:\n",
    "                char_map[char_s] = char_t\n",
    "            elif char_map[char_s] != char_t:\n",
    "                return False\n",
    "        \n",
    "        if len(set(char_map.values())) != len(char_map):\n",
    "            return False\n",
    "        \n",
    "        return True\n",
    "\n",
    "if __name__ == '__main__':\n",
    "    sol = Solution()\n",
    "    cases = [('egg', 'add'),\n",
    "            ('foo', 'bar'),\n",
    "            ('paper', 'title')]\n",
    "    for case in cases:\n",
    "        print(sol.isIsomorphic(s = case[0], t = case[1]))"
   ]
  },
  {
   "cell_type": "markdown",
   "metadata": {},
   "source": [
    "## 290. Word Pattern\n",
    "\n",
    "    Given a pattern and a string s, find if s follows the same pattern.\n",
    "\n",
    "    Here follow means a full match, such that there is a bijection between a letter in pattern and a non-empty word in s.\n"
   ]
  },
  {
   "cell_type": "code",
   "execution_count": null,
   "metadata": {},
   "outputs": [],
   "source": [
    "class Solution:\n",
    "    def wordPattern(self, pattern: str, s: str) -> bool:\n",
    "        char_to_word = {}\n",
    "        word_to_char = {}\n",
    "        \n",
    "        words = s.split()\n",
    "\n",
    "        if len(pattern) != len(words):\n",
    "            return False\n",
    "\n",
    "        for char, word in zip(pattern, words):\n",
    "            if char in char_to_word:\n",
    "                if char_to_word[char] != word:\n",
    "                    return False\n",
    "            else:\n",
    "                char_to_word[char] = word\n",
    "\n",
    "            if word in word_to_char:\n",
    "                if word_to_char[word] != char:\n",
    "                    return False\n",
    "            else:\n",
    "                word_to_char[word] = char\n",
    "\n",
    "        return True\n",
    "            \n",
    "\n",
    "if __name__ == '__main__':\n",
    "    sol = Solution()\n",
    "    cases = [('abba', 'dog cat cat dog'),\n",
    "            ('abba', 'dog cat cat fish'),\n",
    "            ('aaaa', 'dog cat cat dog')]\n",
    "    for case in cases:\n",
    "        print(sol.wordPattern(pattern = case[0], s = case[1]))"
   ]
  },
  {
   "cell_type": "markdown",
   "metadata": {},
   "source": [
    "## 242. Valid Anagram\n",
    "\n",
    "    Given two strings s and t, return true if t is an anagram of s, and false otherwise.\n",
    "\n",
    "    An Anagram is a word or phrase formed by rearranging the letters of a different word or phrase, typically using all the original letters exactly once.\n"
   ]
  },
  {
   "cell_type": "code",
   "execution_count": null,
   "metadata": {},
   "outputs": [],
   "source": [
    "class Solution:\n",
    "    def isAnagram(self, s: str, t: str) -> bool:\n",
    "        if len(s) != len(t):\n",
    "            return False\n",
    "\n",
    "        char_count = {}\n",
    "\n",
    "        for char in s:\n",
    "            char_count[char] = char_count.get(char, 0) + 1\n",
    "\n",
    "        for char in t:\n",
    "            if char not in char_count or char_count[char] == 0:\n",
    "                return False\n",
    "            char_count[char] -= 1\n",
    "\n",
    "        return True\n",
    "\n",
    "if __name__ == '__main__':\n",
    "    sol = Solution()\n",
    "    cases = [('anagram', 'nagaram'),\n",
    "            ('rat', 'car')]\n",
    "    for case in cases:\n",
    "        print(sol.isAnagram(s = case[0], t = case[1]))"
   ]
  },
  {
   "cell_type": "markdown",
   "metadata": {},
   "source": [
    "## 49. Group Anagrams\n",
    "\n",
    "    Given an array of strings strs, group the anagrams together. You can return the answer in any order.\n",
    "\n",
    "    An Anagram is a word or phrase formed by rearranging the letters of a different word or phrase, typically using all the original letters exactly once.\n"
   ]
  },
  {
   "cell_type": "code",
   "execution_count": null,
   "metadata": {},
   "outputs": [],
   "source": [
    "from collections import Counter, defaultdict\n",
    "from typing import List\n",
    "\n",
    "class Solution:\n",
    "    def groupAnagrams(self, strs: List[str]) -> List[List[str]]:\n",
    "        if len(strs) == 1:\n",
    "            return [strs]\n",
    "        \n",
    "        anagram_groups = defaultdict(list)\n",
    "    \n",
    "        for word in strs:\n",
    "            key = tuple(sorted(word))\n",
    "            anagram_groups[key].append(word)\n",
    "\n",
    "        return list(anagram_groups.values())\n",
    "\n",
    "if __name__ == '__main__':\n",
    "    sol = Solution()\n",
    "    cases = [[\"eat\",\"tea\",\"tan\",\"ate\",\"nat\",\"bat\"],\n",
    "            [\"\"],\n",
    "            [[\"a\"]]]\n",
    "    for case in cases:\n",
    "        print(sol.groupAnagrams(strs = case))"
   ]
  },
  {
   "cell_type": "markdown",
   "metadata": {},
   "source": [
    "## 1. Two Sum\n",
    "\n",
    "    Given an array of integers nums and an integer target, return indices of the two numbers such that they add up to target.\n",
    "\n",
    "    You may assume that each input would have exactly one solution, and you may not use the same element twice.\n",
    "\n",
    "    You can return the answer in any order.\n"
   ]
  },
  {
   "cell_type": "code",
   "execution_count": null,
   "metadata": {},
   "outputs": [],
   "source": [
    "from typing import List\n",
    "\n",
    "class Solution:\n",
    "    def twoSum(self, nums: List[int], target: int) -> List[int]:\n",
    "        num_indices = {}\n",
    "            \n",
    "        for i, num in enumerate(nums):\n",
    "            num_indices[num] = i\n",
    "        \n",
    "        for i, num in enumerate(nums):\n",
    "            complement = target - num\n",
    "            if complement in num_indices and num_indices[complement] != i:\n",
    "                return [i, num_indices[complement]]\n",
    "\n",
    "if __name__ == '__main__':\n",
    "    sol = Solution()\n",
    "    cases = [([2,7,11,15], 9),\n",
    "            ([3,2,4], 6),\n",
    "            ([3,3], 6)]\n",
    "    for case in cases:\n",
    "        print(sol.twoSum(nums = case[0], target = case[1]))"
   ]
  },
  {
   "cell_type": "markdown",
   "metadata": {},
   "source": [
    "## 202. Happy Number\n",
    "\n",
    "    Write an algorithm to determine if a number n is happy.\n",
    "\n",
    "    A happy number is a number defined by the following process:\n",
    "        * Starting with any positive integer, replace the number by the sum of the squares of its digits.\n",
    "        * Repeat the process until the number equals 1 (where it will stay), or it loops endlessly in a cycle which does not include 1.\n",
    "        * Those numbers for which this process ends in 1 are happy.\n",
    "\n",
    "    Return true if n is a happy number, and false if not.\n"
   ]
  },
  {
   "cell_type": "code",
   "execution_count": 56,
   "metadata": {},
   "outputs": [
    {
     "name": "stdout",
     "output_type": "stream",
     "text": [
      "True\n",
      "False\n",
      "True\n"
     ]
    }
   ],
   "source": [
    "class Solution:\n",
    "    def isHappy(self, n: int) -> bool:\n",
    "        def getSquareSum(num):\n",
    "            square_sum = 0\n",
    "            while num != 0:\n",
    "                square_sum += (num % 10) ** 2\n",
    "                num = num // 10\n",
    "            return square_sum\n",
    "\n",
    "        seen = set()\n",
    "        while n != 1 and n not in seen:\n",
    "            seen.add(n)\n",
    "            n = getSquareSum(n)\n",
    "        return n == 1\n",
    "\n",
    "if __name__ == '__main__':\n",
    "    sol = Solution()\n",
    "    cases = [19,\n",
    "            2, \n",
    "            1]\n",
    "    for case in cases:\n",
    "        print(sol.isHappy(n = case))"
   ]
  }
 ],
 "metadata": {
  "kernelspec": {
   "display_name": "Python 3",
   "language": "python",
   "name": "python3"
  },
  "language_info": {
   "codemirror_mode": {
    "name": "ipython",
    "version": 3
   },
   "file_extension": ".py",
   "mimetype": "text/x-python",
   "name": "python",
   "nbconvert_exporter": "python",
   "pygments_lexer": "ipython3",
   "version": "3.12.2"
  }
 },
 "nbformat": 4,
 "nbformat_minor": 2
}
