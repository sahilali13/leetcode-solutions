{
 "cells": [
  {
   "cell_type": "markdown",
   "metadata": {},
   "source": [
    "## 228. Summary Ranges\n",
    "\n",
    "    You are given a sorted unique integer array nums.\n",
    "\n",
    "    A range [a,b] is the set of all integers from a to b (inclusive).\n",
    "\n",
    "    Return the smallest sorted list of ranges that cover all the numbers in the array exactly. That is, each element of nums is covered by exactly one of the ranges, and there is no integer x such that x is in one of the ranges but not in nums.\n",
    "\n",
    "    Each range [a,b] in the list should be output as:\n",
    "\n",
    "    * \"a->b\" if a != b\n",
    "    * \"a\" if a == b\n"
   ]
  },
  {
   "cell_type": "code",
   "execution_count": null,
   "metadata": {},
   "outputs": [],
   "source": [
    "from typing import List\n",
    "\n",
    "class Solution:\n",
    "    def summaryRanges(self, nums: List[int]) -> List[str]:\n",
    "        if not nums:\n",
    "            return []\n",
    "\n",
    "        result = []\n",
    "        interval_start = interval_end = nums[0]\n",
    "\n",
    "        for num in nums[1:]:\n",
    "            if num == interval_end or num == interval_end + 1:\n",
    "                interval_end = num\n",
    "            else:\n",
    "                if interval_start == interval_end:\n",
    "                    result.append(str(interval_start))\n",
    "                else:\n",
    "                    result.append(f\"{interval_start}->{interval_end}\")\n",
    "                interval_start = interval_end = num\n",
    "        \n",
    "        if interval_start == interval_end:\n",
    "            result.append(str(interval_start))\n",
    "        else:\n",
    "            result.append(f\"{interval_start}->{interval_end}\")\n",
    "\n",
    "        return result\n",
    "\n",
    "if __name__ == '__main__':\n",
    "    sol = Solution()\n",
    "    cases = [[0,1,1,2,4,5,7],\n",
    "             [0,2,3,4,6,8,9]]\n",
    "    for case in cases:\n",
    "        print(sol.summaryRanges(nums = case))"
   ]
  },
  {
   "cell_type": "markdown",
   "metadata": {},
   "source": [
    "## 56. Merge Intervals\n",
    "\n",
    "    Given an array of intervals where intervals[i] = [starti, endi], merge all overlapping intervals, and return an array of the non-overlapping intervals that cover all the intervals in the input.\n"
   ]
  },
  {
   "cell_type": "code",
   "execution_count": null,
   "metadata": {},
   "outputs": [],
   "source": [
    "from typing import List\n",
    "\n",
    "class Solution:\n",
    "    def merge(self, intervals: List[List[int]]) -> List[List[int]]:\n",
    "        if len(intervals) == 1:\n",
    "            return intervals\n",
    "        \n",
    "        intervals.sort(key=lambda x: x[0])\n",
    "        merged = [intervals[0]]\n",
    "        \n",
    "        for interval in intervals[1:]:\n",
    "            if interval[0] <= merged[-1][1]:\n",
    "                merged[-1][1] = max(merged[-1][1], interval[1])\n",
    "            else:\n",
    "                merged.append(interval)\n",
    "        \n",
    "        return merged\n",
    "\n",
    "if __name__ == '__main__':\n",
    "    sol = Solution()\n",
    "    cases = [[[1, 5]],\n",
    "             [[1,3],[2,6],[8,10],[15,18]],\n",
    "             [[1,3],[2,6],[5,11],[8,10],[15,18]],\n",
    "             [[1,4],[4,5]]]\n",
    "    for case in cases:\n",
    "        print(sol.merge(intervals = case))"
   ]
  },
  {
   "cell_type": "markdown",
   "metadata": {},
   "source": [
    "## 57. Insert Interval\n",
    "\n",
    "    You are given an array of non-overlapping intervals intervals where intervals[i] = [starti, endi] represent the start and the end of the ith interval and intervals is sorted in ascending order by starti. You are also given an interval newInterval = [start, end] that represents the start and end of another interval.\n",
    "\n",
    "    Insert newInterval into intervals such that intervals is still sorted in ascending order by starti and intervals still does not have any overlapping intervals (merge overlapping intervals if necessary).\n",
    "\n",
    "    Return intervals after the insertion.\n",
    "\n",
    "    Note that you don't need to modify intervals in-place. You can make a new array and return it.\n"
   ]
  },
  {
   "cell_type": "code",
   "execution_count": null,
   "metadata": {},
   "outputs": [],
   "source": [
    "from typing import List\n",
    "\n",
    "class Solution:\n",
    "    def insert(self, intervals: List[List[int]], newInterval: List[int]) -> List[List[int]]:\n",
    "        result = []\n",
    "        inserted = False\n",
    "\n",
    "        for interval in intervals:\n",
    "            if interval[1] < newInterval[0]:\n",
    "                result.append(interval)\n",
    "            elif interval[0] > newInterval[1]:\n",
    "                if not inserted:\n",
    "                    result.append(newInterval)\n",
    "                    inserted = True\n",
    "                result.append(interval)\n",
    "            else:\n",
    "                newInterval[0] = min(newInterval[0], interval[0])\n",
    "                newInterval[1] = max(newInterval[1], interval[1])\n",
    "\n",
    "        if not inserted:\n",
    "            result.append(newInterval)\n",
    "\n",
    "        return result\n",
    "\n",
    "if __name__ == '__main__':\n",
    "    sol = Solution()\n",
    "    cases = [([[1,3],[6,9]], [2,5]),\n",
    "             ([[1,2],[3,5],[6,7],[8,10],[12,16]], [4,8]),\n",
    "             ([[2,5],[6,7],[8,9]], [0,1])]\n",
    "    for case in cases:\n",
    "        print(sol.insert(intervals = case[0], newInterval = case[1]))"
   ]
  },
  {
   "cell_type": "markdown",
   "metadata": {},
   "source": [
    "## 452. Minimum Number of Arrows to Burst Balloons\n",
    "\n",
    "    There are some spherical balloons taped onto a flat wall that represents the XY-plane. The balloons are represented as a 2D integer array points where points[i] = [xstart, xend] denotes a balloon whose horizontal diameter stretches between xstart and xend. You do not know the exact y-coordinates of the balloons.\n",
    "\n",
    "    Arrows can be shot up directly vertically (in the positive y-direction) from different points along the x-axis. A balloon with xstart and xend is burst by an arrow shot at x if xstart <= x <= xend. There is no limit to the number of arrows that can be shot. A shot arrow keeps traveling up infinitely, bursting any balloons in its path.\n",
    "\n",
    "    Given the array points, return the minimum number of arrows that must be shot to burst all balloons.\n"
   ]
  },
  {
   "cell_type": "code",
   "execution_count": null,
   "metadata": {},
   "outputs": [],
   "source": [
    "from typing import List\n",
    "\n",
    "class Solution:\n",
    "    def findMinArrowShots(self, points: List[List[int]]) -> int:\n",
    "        if not points:\n",
    "            return 0\n",
    "\n",
    "        points.sort(key = lambda x: x[1])\n",
    "        \n",
    "        arrows = 1\n",
    "        end = points[0][1]\n",
    "\n",
    "        for start, point_end in points:\n",
    "            if start > end:\n",
    "                arrows += 1\n",
    "                end = point_end\n",
    "\n",
    "        return arrows\n",
    "\n",
    "if __name__ == '__main__':\n",
    "    sol = Solution()\n",
    "    cases = [[[10,16],[2,8],[1,6],[7,12]],\n",
    "             [[1,2],[3,4],[5,6],[7,8]],\n",
    "             [[1,2],[2,3],[3,4],[4,5]],\n",
    "             [[3,9],[7,12],[3,8],[6,8],[9,10],[2,9],[0,9],[3,9],[0,6],[2,8]]]\n",
    "    for case in cases:\n",
    "        print(sol.findMinArrowShots(points = case))"
   ]
  }
 ],
 "metadata": {
  "kernelspec": {
   "display_name": "Python 3",
   "language": "python",
   "name": "python3"
  },
  "language_info": {
   "codemirror_mode": {
    "name": "ipython",
    "version": 3
   },
   "file_extension": ".py",
   "mimetype": "text/x-python",
   "name": "python",
   "nbconvert_exporter": "python",
   "pygments_lexer": "ipython3",
   "version": "3.12.2"
  }
 },
 "nbformat": 4,
 "nbformat_minor": 2
}
