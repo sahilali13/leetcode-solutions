{
 "cells": [
  {
   "cell_type": "markdown",
   "metadata": {},
   "source": [
    "## 20. Valid Parentheses\n",
    "\n",
    "    Given a string s containing just the characters '(', ')', '{', '}', '[' and ']', determine if the input string is valid.\n",
    "\n",
    "    An input string is valid if:\n",
    "\n",
    "    Open brackets must be closed by the same type of brackets.\n",
    "    Open brackets must be closed in the correct order.\n",
    "    Every close bracket has a corresponding open bracket of the same type.\n"
   ]
  },
  {
   "cell_type": "code",
   "execution_count": null,
   "metadata": {},
   "outputs": [],
   "source": [
    "class Solution:\n",
    "    def isValid(self, s: str) -> bool:\n",
    "        if len(s) < 2:\n",
    "            return False\n",
    "\n",
    "        stack = []\n",
    "        parentheses = {')': '(', ']': '[', '}': '{'}\n",
    "\n",
    "        for char in s:\n",
    "            if char in '({[':\n",
    "                stack.append(char)\n",
    "            elif not stack or stack.pop() != parentheses.get(char):\n",
    "                return False\n",
    "\n",
    "        return not stack\n",
    "        \n",
    "if __name__ == '__main__':\n",
    "    sol = Solution()\n",
    "    cases =[\"()\",\n",
    "            \"()[]{}\",\n",
    "            \"(]\"]\n",
    "    for case in cases:\n",
    "        print(sol.isValid(s = case))"
   ]
  },
  {
   "cell_type": "markdown",
   "metadata": {},
   "source": [
    "## 71. Simplify Path\n",
    "\n",
    "    Given a string path, which is an absolute path (starting with a slash '/') to a file or directory in a Unix-style file system, convert it to the simplified canonical path.\n",
    "\n",
    "    In a Unix-style file system, a period '.' refers to the current directory, a double period '..' refers to the directory up a level, and any multiple consecutive slashes (i.e. '//') are treated as a single slash '/'. For this problem, any other format of periods such as '...' are treated as file/directory names.\n",
    "\n",
    "    The canonical path should have the following format:\n",
    "\n",
    "        * The path starts with a single slash '/'.\n",
    "        * Any two directories are separated by a single slash '/'.\n",
    "        * The path does not end with a trailing '/'.\n",
    "        * The path only contains the directories on the path from the root directory to the target file or directory (i.e., no period '.' or double period '..')\n",
    "\n",
    "    Return the simplified canonical path.\n"
   ]
  },
  {
   "cell_type": "code",
   "execution_count": null,
   "metadata": {},
   "outputs": [],
   "source": [
    "class Solution:\n",
    "    def simplifyPath(self, path: str) -> str:\n",
    "        components = path.split('/')\n",
    "        stack = []\n",
    "\n",
    "        for component in components:\n",
    "            if component == '..':\n",
    "                if stack:\n",
    "                    stack.pop()\n",
    "            elif component and component != '.':\n",
    "                stack.append(component)\n",
    "\n",
    "        return '/' + '/'.join(stack)\n",
    "\n",
    "if __name__ == '__main__':\n",
    "    sol = Solution()\n",
    "    cases =[\"/home/\",\n",
    "            \"/../\",\n",
    "            '/home//foo/',\n",
    "            '/home/user/Documents/../Pictures',\n",
    "            \"/home/user/./Downloads/../Pictures/././\"]\n",
    "    for case in cases:\n",
    "        print(sol.simplifyPath(path = case))"
   ]
  },
  {
   "cell_type": "markdown",
   "metadata": {},
   "source": [
    "## 155. Min Stack\n",
    "\n",
    "    Design a stack that supports push, pop, top, and retrieving the minimum element in constant time.\n",
    "\n",
    "    Implement the MinStack class:\n",
    "\n",
    "        * MinStack() initializes the stack object.\n",
    "        * void push(int val) pushes the element val onto the stack.\n",
    "        * void pop() removes the element on the top of the stack.\n",
    "        * int top() gets the top element of the stack.\n",
    "        * int getMin() retrieves the minimum element in the stack.\n",
    "    You must implement a solution with O(1) time complexity for each function.\n"
   ]
  },
  {
   "cell_type": "code",
   "execution_count": 32,
   "metadata": {},
   "outputs": [
    {
     "name": "stdout",
     "output_type": "stream",
     "text": [
      "None\n",
      "None\n",
      "None\n",
      "-3\n",
      "None\n",
      "0\n",
      "-2\n"
     ]
    }
   ],
   "source": [
    "class MinStack:\n",
    "    def __init__(self):\n",
    "        self.stack = []\n",
    "        self.min_stack = []\n",
    "\n",
    "    def push(self, val: int) -> None:\n",
    "        self.stack.append(val)\n",
    "        if not self.min_stack or val <= self.min_stack[-1]:\n",
    "            self.min_stack.append(val)\n",
    "\n",
    "    def pop(self) -> None:\n",
    "        if self.stack:\n",
    "            val = self.stack.pop()\n",
    "            if val == self.min_stack[-1]:\n",
    "                self.min_stack.pop()\n",
    "    \n",
    "    def top(self) -> int:\n",
    "        if self.stack:\n",
    "            return self.stack[-1]\n",
    "\n",
    "    def getMin(self) -> int:\n",
    "        if self.min_stack:\n",
    "            return self.min_stack[-1]\n",
    "\n",
    "if __name__ == '__main__':\n",
    "    sol = Solution()\n",
    "    minStack = MinStack()\n",
    "    print(minStack.push(-2))\n",
    "    print(minStack.push(0))\n",
    "    print(minStack.push(-3))\n",
    "    print(minStack.getMin())\n",
    "    print(minStack.pop())\n",
    "    print(minStack.top())\n",
    "    print(minStack.getMin())"
   ]
  }
 ],
 "metadata": {
  "kernelspec": {
   "display_name": "Python 3",
   "language": "python",
   "name": "python3"
  },
  "language_info": {
   "codemirror_mode": {
    "name": "ipython",
    "version": 3
   },
   "file_extension": ".py",
   "mimetype": "text/x-python",
   "name": "python",
   "nbconvert_exporter": "python",
   "pygments_lexer": "ipython3",
   "version": "3.12.2"
  }
 },
 "nbformat": 4,
 "nbformat_minor": 2
}
