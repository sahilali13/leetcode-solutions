{
 "cells": [
  {
   "cell_type": "markdown",
   "metadata": {},
   "source": [
    "## 36. Valid Sudoku\n",
    "\n",
    "    Determine if a 9 x 9 Sudoku board is valid. Only the filled cells need to be validated according to the following rules:\n",
    "        * Each row must contain the digits 1-9 without repetition.\n",
    "        * Each column must contain the digits 1-9 without repetition.\n",
    "        * Each of the nine 3 x 3 sub-boxes of the grid must contain the digits 1-9 without repetition\n"
   ]
  },
  {
   "cell_type": "code",
   "execution_count": null,
   "metadata": {},
   "outputs": [],
   "source": [
    "from typing import List\n",
    "\n",
    "class Solution:\n",
    "    def isValidSudoku(self, board: List[List[str]]) -> bool:\n",
    "        seen = set()\n",
    "        for i in range(9):\n",
    "            for j in range(9):\n",
    "                if board[i][j] != '.':\n",
    "                    current = board[i][j]\n",
    "                    \n",
    "                    if (i, current) in seen:\n",
    "                        return False\n",
    "                    seen.add((i, current))\n",
    "                    \n",
    "                    if (current, j) in seen:\n",
    "                        return False\n",
    "                    seen.add((current, j))\n",
    "                    \n",
    "                    if (i // 3, j // 3, current) in seen:\n",
    "                        return False\n",
    "                    seen.add((i // 3, j // 3, current))\n",
    "        return True\n",
    "  \n",
    "if __name__ == '__main__':\n",
    "    sol = Solution()\n",
    "    cases = [[[\"5\",\"3\",\".\",\".\",\"7\",\".\",\".\",\".\",\".\"]\n",
    "            ,[\"6\",\".\",\".\",\"1\",\"9\",\"5\",\".\",\".\",\".\"]\n",
    "            ,[\".\",\"9\",\"8\",\".\",\".\",\".\",\".\",\"6\",\".\"]\n",
    "            ,[\"8\",\".\",\".\",\".\",\"6\",\".\",\".\",\".\",\"3\"]\n",
    "            ,[\"4\",\".\",\".\",\"8\",\".\",\"3\",\".\",\".\",\"1\"]\n",
    "            ,[\"7\",\".\",\".\",\".\",\"2\",\".\",\".\",\".\",\"6\"]\n",
    "            ,[\".\",\"6\",\".\",\".\",\".\",\".\",\"2\",\"8\",\".\"]\n",
    "            ,[\".\",\".\",\".\",\"4\",\"1\",\"9\",\".\",\".\",\"5\"]\n",
    "            ,[\".\",\".\",\".\",\".\",\"8\",\".\",\".\",\"7\",\"9\"]],\n",
    "\n",
    "            [[\"8\",\"3\",\".\",\".\",\"7\",\".\",\".\",\".\",\".\"]\n",
    "            ,[\"6\",\".\",\".\",\"1\",\"9\",\"5\",\".\",\".\",\".\"]\n",
    "            ,[\".\",\"9\",\"8\",\".\",\".\",\".\",\".\",\"6\",\".\"]\n",
    "            ,[\"8\",\".\",\".\",\".\",\"6\",\".\",\".\",\".\",\"3\"]\n",
    "            ,[\"4\",\".\",\".\",\"8\",\".\",\"3\",\".\",\".\",\"1\"]\n",
    "            ,[\"7\",\".\",\".\",\".\",\"2\",\".\",\".\",\".\",\"6\"]\n",
    "            ,[\".\",\"6\",\".\",\".\",\".\",\".\",\"2\",\"8\",\".\"]\n",
    "            ,[\".\",\".\",\".\",\"4\",\"1\",\"9\",\".\",\".\",\"5\"]\n",
    "            ,[\".\",\".\",\".\",\".\",\"8\",\".\",\".\",\"7\",\"9\"]] ]\n",
    "    \n",
    "    for case in cases:\n",
    "        print(sol.isValidSudoku(board = case))"
   ]
  },
  {
   "cell_type": "markdown",
   "metadata": {},
   "source": [
    "## 54. Spiral Matrix\n",
    "\n",
    "    Given an m x n matrix, return all elements of the matrix in spiral order.\n"
   ]
  },
  {
   "cell_type": "code",
   "execution_count": null,
   "metadata": {},
   "outputs": [],
   "source": [
    "from typing import List\n",
    "\n",
    "class Solution:\n",
    "    def spiralOrder(self, matrix: List[List[int]]) -> List[int]:\n",
    "        num_rows = len(matrix)\n",
    "        num_cols = len(matrix[0])\n",
    "        spiral_sequence = []\n",
    "        top_row = 0\n",
    "        left_col = 0\n",
    "        bottom_row = num_rows - 1\n",
    "        right_col = num_cols - 1\n",
    "        \n",
    "        while len(spiral_sequence) < num_rows * num_cols:\n",
    "            \n",
    "            for col in range(left_col, right_col + 1):\n",
    "                spiral_sequence.append(matrix[top_row][col])\n",
    "            \n",
    "            for row in range(top_row + 1, bottom_row):\n",
    "                spiral_sequence.append(matrix[row][right_col])\n",
    "            \n",
    "            if top_row < bottom_row:\n",
    "                for col in range(right_col, left_col - 1, -1):\n",
    "                    spiral_sequence.append(matrix[bottom_row][col])\n",
    "            \n",
    "            if left_col < right_col:\n",
    "                for row in range(bottom_row - 1, top_row, -1):\n",
    "                    spiral_sequence.append(matrix[row][left_col])\n",
    "                    \n",
    "            top_row += 1\n",
    "            left_col += 1\n",
    "            bottom_row -= 1\n",
    "            right_col -= 1\n",
    "        return spiral_sequence\n",
    "\n",
    "  \n",
    "if __name__ == '__main__':\n",
    "    sol = Solution()\n",
    "    cases = [[[1,2,3],[4,5,6],[7,8,9]],\n",
    "            [[1,2,3,4],[5,6,7,8],[9,10,11,12]]]\n",
    "    \n",
    "    for case in cases:\n",
    "        print(sol.spiralOrder(matrix = case))"
   ]
  },
  {
   "cell_type": "markdown",
   "metadata": {},
   "source": [
    "## 48. Rotate Image\n",
    "\n",
    "    You are given an n x n 2D matrix representing an image, rotate the image by 90 degrees (clockwise).\n",
    "\n",
    "    You have to rotate the image in-place, which means you have to modify the input 2D matrix directly. DO NOT allocate another 2D matrix and do the rotation.\n"
   ]
  },
  {
   "cell_type": "code",
   "execution_count": 22,
   "metadata": {},
   "outputs": [
    {
     "name": "stdout",
     "output_type": "stream",
     "text": [
      "[[7, 4, 1], [8, 5, 2], [9, 6, 3]]\n",
      "[[15, 13, 2, 5], [14, 3, 4, 1], [12, 6, 8, 9], [16, 7, 10, 11]]\n"
     ]
    }
   ],
   "source": [
    "from typing import List\n",
    "\n",
    "class Solution:\n",
    "    def rotate(self, matrix: List[List[int]]) -> None:\n",
    "        \"\"\"\n",
    "        Do not return anything, modify matrix in-place instead.\n",
    "        \"\"\"\n",
    "        matrix_size = len(matrix)\n",
    "\n",
    "        for row_index in range(matrix_size):\n",
    "            for column_index in range(row_index + 1, matrix_size):\n",
    "                matrix[row_index][column_index], matrix[column_index][row_index] = matrix[column_index][row_index], matrix[row_index][column_index]\n",
    "\n",
    "        for row in matrix:\n",
    "            row.reverse()\n",
    "        \n",
    "\n",
    "if __name__ == '__main__':\n",
    "    sol = Solution()\n",
    "    cases = [[[1,2,3],[4,5,6],[7,8,9]],\n",
    "            [[5,1,9,11],[2,4,8,10],[13,3,6,7],[15,14,12,16]]]\n",
    "    \n",
    "    for case in cases:\n",
    "        sol.rotate(matrix = case)\n",
    "        print(case)"
   ]
  }
 ],
 "metadata": {
  "kernelspec": {
   "display_name": "Python 3",
   "language": "python",
   "name": "python3"
  },
  "language_info": {
   "codemirror_mode": {
    "name": "ipython",
    "version": 3
   },
   "file_extension": ".py",
   "mimetype": "text/x-python",
   "name": "python",
   "nbconvert_exporter": "python",
   "pygments_lexer": "ipython3",
   "version": "3.12.2"
  }
 },
 "nbformat": 4,
 "nbformat_minor": 2
}
